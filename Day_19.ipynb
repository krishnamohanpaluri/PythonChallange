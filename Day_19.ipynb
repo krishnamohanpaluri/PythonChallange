{
 "cells": [
  {
   "cell_type": "code",
   "execution_count": 7,
   "id": "4fd211fa",
   "metadata": {},
   "outputs": [
    {
     "name": "stdout",
     "output_type": "stream",
     "text": [
      "Enter Your Name: Krishna Mohan\n"
     ]
    },
    {
     "data": {
      "text/plain": [
       "'hello Krishna Mohan'"
      ]
     },
     "execution_count": 7,
     "metadata": {},
     "output_type": "execute_result"
    }
   ],
   "source": [
    "def greet(word):\n",
    "    msg = \"hello \"+ word\n",
    "    return msg\n",
    "word = input(\"Enter Your Name: \")\n",
    "greet(word)"
   ]
  },
  {
   "cell_type": "code",
   "execution_count": 9,
   "id": "599f4a2e",
   "metadata": {},
   "outputs": [
    {
     "name": "stdout",
     "output_type": "stream",
     "text": [
      "Krishna \n",
      "MOhan\n",
      "Hello Krishna  MOhan\n"
     ]
    }
   ],
   "source": [
    "def greet(a, b):\n",
    "    print(\"Hello \" + a +\" \"+ b)\n",
    "a = input()\n",
    "b = input()\n",
    "greet(a, b)"
   ]
  },
  {
   "cell_type": "code",
   "execution_count": 10,
   "id": "2a73fe11",
   "metadata": {},
   "outputs": [
    {
     "name": "stdout",
     "output_type": "stream",
     "text": [
      "Ram Krishna\n",
      "Kalluri\n",
      "Hello Krishna  Mohan\n"
     ]
    }
   ],
   "source": [
    "#default Assignment of arguments\n",
    "def greet(a=\"Krishna \", b=\"Mohan\"):\n",
    "    print(\"Hello \" + a +\" \"+ b)\n",
    "a = input()\n",
    "b = input()\n",
    "greet()"
   ]
  },
  {
   "cell_type": "code",
   "execution_count": 11,
   "id": "9491d0e2",
   "metadata": {},
   "outputs": [
    {
     "name": "stdout",
     "output_type": "stream",
     "text": [
      "Krishna\n",
      "Mohan\n",
      "Hello Krishna Mohan\n"
     ]
    }
   ],
   "source": [
    "#Assignment of some values to arguments\n",
    "def greet(a=\"Krishna \", b=\"Mohan\"):\n",
    "    print(\"Hello \" + a +\" \"+ b)\n",
    "a = input()\n",
    "b = input()\n",
    "greet(a, b)"
   ]
  },
  {
   "cell_type": "code",
   "execution_count": 12,
   "id": "ecb4125c",
   "metadata": {},
   "outputs": [
    {
     "name": "stdout",
     "output_type": "stream",
     "text": [
      "Kri\n"
     ]
    }
   ],
   "source": [
    "word = \"Krishna\"\n",
    "print(word[:3])"
   ]
  },
  {
   "cell_type": "code",
   "execution_count": 15,
   "id": "03c25ae9",
   "metadata": {},
   "outputs": [
    {
     "name": "stdout",
     "output_type": "stream",
     "text": [
      "Ram Hello\n"
     ]
    }
   ],
   "source": [
    "def greet(a, b = \"Hai\"):\n",
    "    print(a+\" \"+b)\n",
    "greeting = \"Hello\"\n",
    "name = \"Ram\"\n",
    "greet(name, greeting)"
   ]
  },
  {
   "cell_type": "code",
   "execution_count": 16,
   "id": "85f18715",
   "metadata": {},
   "outputs": [
    {
     "ename": "SyntaxError",
     "evalue": "non-default argument follows default argument (<ipython-input-16-d6339bb91231>, line 1)",
     "output_type": "error",
     "traceback": [
      "\u001b[1;36m  File \u001b[1;32m\"<ipython-input-16-d6339bb91231>\"\u001b[1;36m, line \u001b[1;32m1\u001b[0m\n\u001b[1;33m    def greet(a=\"Hai\", b):\u001b[0m\n\u001b[1;37m              ^\u001b[0m\n\u001b[1;31mSyntaxError\u001b[0m\u001b[1;31m:\u001b[0m non-default argument follows default argument\n"
     ]
    }
   ],
   "source": [
    "def greet(a=\"Hai\", b):\n",
    "    print(a+\" \"+b)\n",
    "greeting = \"Hello\"\n",
    "name = \"Ram\"\n",
    "greet(b= name)"
   ]
  },
  {
   "cell_type": "code",
   "execution_count": 18,
   "id": "36693a77",
   "metadata": {},
   "outputs": [
    {
     "name": "stdout",
     "output_type": "stream",
     "text": [
      "Krishna\n",
      "Welcome Krishna\n"
     ]
    }
   ],
   "source": [
    "def say_wishes(arg_1):\n",
    "    result = \"Welcome \" + arg_1\n",
    "    print(result)\n",
    "\n",
    "name = input()\n",
    "say_wishes(name)"
   ]
  },
  {
   "cell_type": "code",
   "execution_count": 28,
   "id": "88d1be8d",
   "metadata": {},
   "outputs": [
    {
     "name": "stdout",
     "output_type": "stream",
     "text": [
      "KrishNa\n",
      "2\n",
      "5\n"
     ]
    }
   ],
   "source": [
    "arg_1 = input()\n",
    "uppercount = 0\n",
    "lowercount = 0\n",
    "for i in range(len(arg_1)):\n",
    "    k = arg_1[i].isupper()\n",
    "    if k == True:\n",
    "        uppercount += 1\n",
    "    else:\n",
    "        lowercount+=1\n",
    "print(uppercount)\n",
    "print(lowercount)"
   ]
  },
  {
   "cell_type": "code",
   "execution_count": 26,
   "id": "a680318b",
   "metadata": {},
   "outputs": [
    {
     "name": "stdout",
     "output_type": "stream",
     "text": [
      "KE\n",
      "True\n"
     ]
    }
   ],
   "source": [
    "n = input()\n",
    "k = n.isupper()\n",
    "if k == True:\n",
    "    print(True)"
   ]
  },
  {
   "cell_type": "code",
   "execution_count": 30,
   "id": "dbab3717",
   "metadata": {},
   "outputs": [
    {
     "name": "stdout",
     "output_type": "stream",
     "text": [
      "8\n",
      "0 Even\n",
      "1 Odd\n",
      "2 Even\n",
      "3 Odd\n",
      "4 Even\n",
      "5 Odd\n",
      "6 Even\n",
      "7 Odd\n"
     ]
    }
   ],
   "source": [
    "num = int(input())\n",
    "for i in range(num):\n",
    "    if i%2 == 0:\n",
    "        print(str(i)+ \" Even\")\n",
    "    else:\n",
    "        print(str(i)+\" odd\")"
   ]
  },
  {
   "cell_type": "code",
   "execution_count": 31,
   "id": "ff18937b",
   "metadata": {},
   "outputs": [
    {
     "name": "stdout",
     "output_type": "stream",
     "text": [
      "UpperCase LEttters and LOwerCAseLetter\n",
      "UCLELOCAL\n",
      "pperase ttters and werseetter"
     ]
    }
   ],
   "source": [
    "\n",
    "def get_lower_and_upper_case_letters(word):\n",
    "    # Complete this function\n",
    "    uppercase = []\n",
    "    lowercase = []\n",
    "    for i in word:\n",
    "        k = i.isupper()\n",
    "        l = i.islower()\n",
    "        if k == True:\n",
    "            uppercase = uppercase+[i]\n",
    "        else:\n",
    "            lowercase = lowercase + [i]\n",
    "    for i in range(len(uppercase)):\n",
    "        print(uppercase[i], end='')\n",
    "    print()\n",
    "    for i in range(len(lowercase)):\n",
    "        print(lowercase[i], end='')\n",
    "word = input()\n",
    "# Call the get_lower_and_upper_case_letters function\n",
    "get_lower_and_upper_case_letters(word)"
   ]
  },
  {
   "cell_type": "code",
   "execution_count": 32,
   "id": "8393bfba",
   "metadata": {},
   "outputs": [
    {
     "name": "stdout",
     "output_type": "stream",
     "text": [
      "adbcdedfsd\n",
      "2\n"
     ]
    }
   ],
   "source": [
    "def count_the_vowels(word):\n",
    "    # Complete this function\n",
    "    vowels = \"aeiou\"\n",
    "    count = 0\n",
    "    for i in word:\n",
    "        for j in vowels:\n",
    "            if i == j:\n",
    "                 count +=1       \n",
    "    print(count)\n",
    "\n",
    "word = input()\n",
    "# Call the count_the_vowels function\n",
    "count_the_vowels(word)"
   ]
  },
  {
   "cell_type": "code",
   "execution_count": 45,
   "id": "49b19120",
   "metadata": {
    "scrolled": true
   },
   "outputs": [
    {
     "name": "stdout",
     "output_type": "stream",
     "text": [
      "Enter the number of people: 5\n",
      "2\n"
     ]
    }
   ],
   "source": [
    "no_people = int(input(\"Enter the number of people: \"))\n",
    "no_cars = no_people /5\n",
    "cars = int(no_cars)\n",
    "if cars<no_cars:\n",
    "    no_cars = int(no_cars) +1\n",
    "    k = no_cars\n",
    "print(int(k))"
   ]
  },
  {
   "cell_type": "code",
   "execution_count": null,
   "id": "a4931e0b",
   "metadata": {},
   "outputs": [],
   "source": [
    "numbers = input()\n",
    "a = int(input())\n",
    "numbers = numbers.split(\",\")\n",
    "empty_list = []\n",
    "for i in range(len(numbers)):\n",
    "    k = int(numbers[i])\n",
    "    empty_list = empty_list+[k]\n",
    "m = sorted(empty_list)\n",
    "print(m[:-2])"
   ]
  },
  {
   "cell_type": "code",
   "execution_count": null,
   "id": "8540deb4",
   "metadata": {},
   "outputs": [],
   "source": [
    "string = input()\n",
    "for i in string:\n",
    "    print(i)"
   ]
  },
  {
   "cell_type": "code",
   "execution_count": null,
   "id": "0623f327",
   "metadata": {},
   "outputs": [],
   "source": []
  },
  {
   "cell_type": "code",
   "execution_count": null,
   "id": "f74ab27f",
   "metadata": {},
   "outputs": [],
   "source": []
  }
 ],
 "metadata": {
  "kernelspec": {
   "display_name": "Python 3",
   "language": "python",
   "name": "python3"
  },
  "language_info": {
   "codemirror_mode": {
    "name": "ipython",
    "version": 3
   },
   "file_extension": ".py",
   "mimetype": "text/x-python",
   "name": "python",
   "nbconvert_exporter": "python",
   "pygments_lexer": "ipython3",
   "version": "3.8.8"
  }
 },
 "nbformat": 4,
 "nbformat_minor": 5
}
