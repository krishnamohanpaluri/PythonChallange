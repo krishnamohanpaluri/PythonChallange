{
 "cells": [
  {
   "cell_type": "code",
   "execution_count": 9,
   "id": "cb3fb0f8",
   "metadata": {},
   "outputs": [
    {
     "name": "stdout",
     "output_type": "stream",
     "text": [
      "No lemon no melon\n",
      "True\n"
     ]
    }
   ],
   "source": [
    "m = input()\n",
    "n = m.replace(\" \", \"\")\n",
    "n = n.lower()\n",
    "if n[::-1] == n:\n",
    "    print(True)\n",
    "else:\n",
    "    print(False)"
   ]
  },
  {
   "cell_type": "code",
   "execution_count": 10,
   "id": "e2ca672b",
   "metadata": {},
   "outputs": [
    {
     "name": "stdout",
     "output_type": "stream",
     "text": [
      "Krishna\n",
      "Krshn\n"
     ]
    }
   ],
   "source": [
    "m = input()\n",
    "for char in m:\n",
    "    if char == 'a' or char == 'e' or char == 'i' or char == 'o' or char == 'u':\n",
    "        m = m.replace(char, '')\n",
    "    if char == 'A' or char == 'E' or char == 'I' or char == 'O' or char == 'U':\n",
    "        m = m.replace(char, '')\n",
    "\n",
    "print(m)"
   ]
  },
  {
   "cell_type": "code",
   "execution_count": 14,
   "id": "6f93db99",
   "metadata": {},
   "outputs": [
    {
     "name": "stdout",
     "output_type": "stream",
     "text": [
      "5\n",
      "Uppercase Letter\n"
     ]
    }
   ],
   "source": [
    "n = input()\n",
    "if n == n.upper():\n",
    "    print(\"Uppercase Letter\")\n",
    "elif  n == n.lower():\n",
    "    print(\"Lowercase Letter\")\n",
    "elif n == n.digit():\n",
    "    print(\"Digit\")\n",
    "else:\n",
    "    print(\"Special Character\")"
   ]
  },
  {
   "cell_type": "code",
   "execution_count": null,
   "id": "8f5adb8b",
   "metadata": {},
   "outputs": [],
   "source": [
    "n = input()\n",
    "if n"
   ]
  },
  {
   "cell_type": "code",
   "execution_count": 30,
   "id": "993266aa",
   "metadata": {},
   "outputs": [
    {
     "name": "stdout",
     "output_type": "stream",
     "text": [
      "30\n",
      "2\n",
      "[30, 15, 10, 6, 5, 3, 2, 1]\n",
      "15\n"
     ]
    }
   ],
   "source": [
    "n = int(input())\n",
    "m = int(input())\n",
    "fact_list = []\n",
    "for i in range(1,n+1):\n",
    "    if n%i == 0:\n",
    "        fact_list.append(i)\n",
    "print(sorted(fact_list, reverse =True))\n",
    "reversed_list = sorted(fact_list, reverse = True)\n",
    "if m > len(fact_list):\n",
    "    print(1)\n",
    "else:\n",
    "    print(reversed_list[(m-1)])"
   ]
  },
  {
   "cell_type": "code",
   "execution_count": null,
   "id": "1d86a107",
   "metadata": {},
   "outputs": [],
   "source": []
  },
  {
   "cell_type": "code",
   "execution_count": null,
   "id": "373d496b",
   "metadata": {},
   "outputs": [],
   "source": []
  },
  {
   "cell_type": "code",
   "execution_count": null,
   "id": "a9a9f6c0",
   "metadata": {},
   "outputs": [],
   "source": []
  },
  {
   "cell_type": "code",
   "execution_count": null,
   "id": "0f6fb79c",
   "metadata": {},
   "outputs": [],
   "source": []
  },
  {
   "cell_type": "code",
   "execution_count": null,
   "id": "5729a148",
   "metadata": {},
   "outputs": [],
   "source": []
  },
  {
   "cell_type": "code",
   "execution_count": null,
   "id": "f5d20709",
   "metadata": {},
   "outputs": [],
   "source": []
  }
 ],
 "metadata": {
  "kernelspec": {
   "display_name": "Python 3",
   "language": "python",
   "name": "python3"
  },
  "language_info": {
   "codemirror_mode": {
    "name": "ipython",
    "version": 3
   },
   "file_extension": ".py",
   "mimetype": "text/x-python",
   "name": "python",
   "nbconvert_exporter": "python",
   "pygments_lexer": "ipython3",
   "version": "3.8.8"
  }
 },
 "nbformat": 4,
 "nbformat_minor": 5
}
