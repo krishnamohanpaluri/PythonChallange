{
 "cells": [
  {
   "cell_type": "code",
   "execution_count": 2,
   "id": "64955adc",
   "metadata": {},
   "outputs": [
    {
     "name": "stdout",
     "output_type": "stream",
     "text": [
      "False\n"
     ]
    }
   ],
   "source": [
    "a = -6\n",
    "b = -6\n",
    "print(a is b)"
   ]
  },
  {
   "cell_type": "code",
   "execution_count": 3,
   "id": "f016bf1d",
   "metadata": {},
   "outputs": [
    {
     "name": "stdout",
     "output_type": "stream",
     "text": [
      "TV 45000\n",
      "Warranty 12 months\n",
      "Quantity: 1\n"
     ]
    }
   ],
   "source": [
    "class Order:\n",
    "    def __init__(self, delivery_speed, delivery_address):\n",
    "        self.items_in_cart = []\n",
    "        self.delivery_speed = delivery_speed\n",
    "        self.delivery_address = delivery_address\n",
    "\n",
    "    def add_item(self, product, quantity):\n",
    "        self.items_in_cart.append((product, quantity))\n",
    "\n",
    "    def display_order_details(self):\n",
    "        for product, quantity in self.items_in_cart:\n",
    "            product.display_product_details()\n",
    "            print(\"Quantity: {}\".format(quantity))\n",
    "\n",
    "class Product:\n",
    "    def __init__(self, name, price, deal_price, ratings):\n",
    "        self.name = name\n",
    "        self.price = price\n",
    "        self.deal_price = deal_price\n",
    "        self.ratings = ratings\n",
    "        self.you_save = price - deal_price\n",
    "\n",
    "    def get_deal_price(self):\n",
    "        return self.deal_price\n",
    "\n",
    "    def display_product_details(self):\n",
    "        print(\"{} {}\".format(self.name, self.price))\n",
    "\n",
    "class ElectronicItem(Product):\n",
    "    def __init__(self, name, price, deal_price, ratings, warranty_in_months):\n",
    "        super().__init__(name, price, deal_price, ratings)\n",
    "        self.warranty_in_months = warranty_in_months\n",
    "      \n",
    "    def get_warranty(self):\n",
    "        return self.warranty_in_months\n",
    "\n",
    "    def display_product_details(self):\n",
    "        super().display_product_details()      \n",
    "        print(\"Warranty {} months\".format(self.warranty_in_months))\n",
    "\n",
    "tv = ElectronicItem(\"TV\", 45000, 40000, 3.5, 12)\n",
    "order = Order(\"Prime Delivery\", \"Hyderabad\")\n",
    "order.add_item(tv, 1)\n",
    "order.display_order_details()\n"
   ]
  },
  {
   "cell_type": "code",
   "execution_count": 4,
   "id": "9acae251",
   "metadata": {},
   "outputs": [
    {
     "name": "stdout",
     "output_type": "stream",
     "text": [
      "False\n"
     ]
    }
   ],
   "source": [
    "class A:\n",
    "    def __init__(self, x):\n",
    "        self.x = x\n",
    "\n",
    "class B(A):\n",
    "    def __init__(self, x, y):\n",
    "        super().__init__(x)\n",
    "        self.y = y\n",
    "\n",
    "class C(B):\n",
    "    def __init__(self, x, y, z):\n",
    "        super().__init__(x, y)\n",
    "        self.z = z\n",
    "\n",
    "p = B(1, 2)\n",
    "q = C(1, 3, 2)\n",
    "is_same = p.y == q.y\n",
    "print(is_same)\n"
   ]
  },
  {
   "cell_type": "code",
   "execution_count": 5,
   "id": "9883bfaa",
   "metadata": {},
   "outputs": [
    {
     "name": "stdout",
     "output_type": "stream",
     "text": [
      "TV 45000\n",
      "Warranty 12 months\n",
      "Quantity: 1\n"
     ]
    }
   ],
   "source": [
    "class Order:\n",
    "    def __init__(self, delivery_speed, delivery_address):\n",
    "        self.items_in_cart = []\n",
    "        self.delivery_speed = delivery_speed\n",
    "        self.delivery_address = delivery_address\n",
    "\n",
    "    def add_item(self, product, quantity):\n",
    "        self.items_in_cart.append((product, quantity))\n",
    "\n",
    "    def display_order_details(self):\n",
    "        for product, quantity in self.items_in_cart:\n",
    "            product.display_product_details()\n",
    "            print(\"Quantity: {}\".format(quantity))\n",
    "\n",
    "class Product:\n",
    "    def __init__(self, name, price, deal_price, ratings):\n",
    "        self.name = name\n",
    "        self.price = price\n",
    "        self.deal_price = deal_price\n",
    "        self.ratings = ratings\n",
    "        self.you_save = price - deal_price\n",
    "\n",
    "    def get_deal_price(self):\n",
    "        return self.deal_price\n",
    "\n",
    "    def display_product_details(self):\n",
    "        print(\"{} {}\".format(self.name, self.price))\n",
    "\n",
    "class ElectronicItem(Product):\n",
    "    def set_warranty(self, warranty_in_months):\n",
    "        self.warranty_in_months = warranty_in_months\n",
    "      \n",
    "    def get_warranty(self):\n",
    "        return self.warranty_in_months\n",
    "\n",
    "    def display_product_details(self):\n",
    "        super().display_product_details()      \n",
    "        print(\"Warranty {} months\".format(self.warranty_in_months))\n",
    "\n",
    "tv = ElectronicItem(\"TV\", 45000, 40000, 3.5)\n",
    "tv.set_warranty(12)\n",
    "order = Order(\"Prime Delivery\", \"Hyderabad\")\n",
    "order.add_item(tv, 1)\n",
    "order.display_order_details()\n"
   ]
  },
  {
   "cell_type": "code",
   "execution_count": 6,
   "id": "90b13ae6",
   "metadata": {},
   "outputs": [
    {
     "name": "stdout",
     "output_type": "stream",
     "text": [
      "True\n"
     ]
    }
   ],
   "source": [
    "class A:\n",
    "    def __init__(self, x):\n",
    "        self.x = x\n",
    "\n",
    "class B(A):\n",
    "    def __init__(self, x, y):\n",
    "        super().__init__(x)\n",
    "        self.y = y\n",
    "\n",
    "class C(A):\n",
    "    def __init__(self, x, z):\n",
    "        super().__init__(x)\n",
    "        self.z = z\n",
    "\n",
    "p = B(1, 2)\n",
    "q = C(1, 3)\n",
    "is_same = p.x == q.x\n",
    "print(is_same)\n"
   ]
  },
  {
   "cell_type": "code",
   "execution_count": 7,
   "id": "01bd25b8",
   "metadata": {},
   "outputs": [
    {
     "name": "stdout",
     "output_type": "stream",
     "text": [
      "True\n"
     ]
    }
   ],
   "source": [
    "class A:\n",
    "    def __init__(self, x):\n",
    "        self.x = x\n",
    "\n",
    "class B(A):\n",
    "    def __init__(self, x, y):\n",
    "        super().__init__(x)\n",
    "        self.y = y\n",
    "\n",
    "class C(B):\n",
    "    def __init__(self, x, y, z):\n",
    "        super().__init__(x, y)\n",
    "        self.z = z\n",
    "\n",
    "p = B(x=1, y=2)\n",
    "q = C(x=1, z=3, y=2)\n",
    "is_same = p.y == q.y\n",
    "print(is_same)"
   ]
  },
  {
   "cell_type": "code",
   "execution_count": 8,
   "id": "952e7f93",
   "metadata": {},
   "outputs": [
    {
     "name": "stdout",
     "output_type": "stream",
     "text": [
      "25\n"
     ]
    }
   ],
   "source": [
    "class A:\n",
    "    def __init__(self, x):\n",
    "        self.x = x\n",
    "\n",
    "    def update_value(self, y):\n",
    "        self.x = y\n",
    "\n",
    "class B(A):\n",
    "    def __init__(self, x):\n",
    "        super().__init__(x)\n",
    "\n",
    "p = B(20)\n",
    "p.update_value(25)\n",
    "print(p.x)\n"
   ]
  },
  {
   "cell_type": "code",
   "execution_count": 9,
   "id": "6b7c5aa5",
   "metadata": {},
   "outputs": [],
   "source": [
    "class A:\n",
    "    def __init__(self, x):\n",
    "        self.x = x\n",
    "\n",
    "class B(A):\n",
    "    def __init__(self, x):\n",
    "        super().__init__(x)\n",
    "        \n",
    "class C(B):\n",
    "    def __init__(self, x):\n",
    "        super().__init__(x)\n",
    "\n",
    "p = C(20)\n",
    "q = B(2)\n"
   ]
  },
  {
   "cell_type": "code",
   "execution_count": 10,
   "id": "c349b0f0",
   "metadata": {},
   "outputs": [
    {
     "name": "stdout",
     "output_type": "stream",
     "text": [
      "Total Bill: 40050\n"
     ]
    }
   ],
   "source": [
    "class Order:\n",
    "    def __init__(self, delivery_speed, delivery_address):\n",
    "        self.items_in_cart = []\n",
    "        self.delivery_speed = delivery_speed\n",
    "        self.delivery_address = delivery_address\n",
    "\n",
    "    def add_item(self, product, quantity):\n",
    "        self.items_in_cart.append((product, quantity))\n",
    "\n",
    "    def display_total_bill(self):\n",
    "        total_bill = 0\n",
    "        for product, quantity in self.items_in_cart:\n",
    "            price = product.get_deal_price() * quantity\n",
    "            total_bill += price\n",
    "        print(\"Total Bill: {}\".format(total_bill))\n",
    "\n",
    "\n",
    "class Product:\n",
    "    def __init__(self, name, price, deal_price, ratings):\n",
    "        self.name = name\n",
    "        self.price = price\n",
    "        self.deal_price = deal_price\n",
    "        self.ratings = ratings\n",
    "        self.you_save = price - deal_price\n",
    "\n",
    "    def get_deal_price(self):\n",
    "        return self.deal_price\n",
    "\n",
    "class ElectronicItem(Product):\n",
    "    pass\n",
    "\n",
    "class GroceryItem(Product):\n",
    "    pass\n",
    "\n",
    "milk = GroceryItem(\"Milk\", 40, 25, 3.5)\n",
    "tv = ElectronicItem(\"TV\", 45000, 40000, 3.5)\n",
    "order = Order(\"Prime Delivery\", \"Hyderabad\")\n",
    "order.add_item(milk, 2)\n",
    "order.add_item(tv, 1)\n",
    "order.display_total_bill()\n"
   ]
  },
  {
   "cell_type": "code",
   "execution_count": 11,
   "id": "f9586160",
   "metadata": {},
   "outputs": [
    {
     "ename": "AttributeError",
     "evalue": "'GroceryItem' object has no attribute 'get_deal_price'",
     "output_type": "error",
     "traceback": [
      "\u001b[1;31m---------------------------------------------------------------------------\u001b[0m",
      "\u001b[1;31mAttributeError\u001b[0m                            Traceback (most recent call last)",
      "\u001b[1;32m<ipython-input-11-245b63e8f4bf>\u001b[0m in \u001b[0;36m<module>\u001b[1;34m\u001b[0m\n\u001b[0;32m     35\u001b[0m \u001b[0morder\u001b[0m\u001b[1;33m.\u001b[0m\u001b[0madd_item\u001b[0m\u001b[1;33m(\u001b[0m\u001b[0mmilk\u001b[0m\u001b[1;33m,\u001b[0m \u001b[1;36m2\u001b[0m\u001b[1;33m)\u001b[0m\u001b[1;33m\u001b[0m\u001b[1;33m\u001b[0m\u001b[0m\n\u001b[0;32m     36\u001b[0m \u001b[0morder\u001b[0m\u001b[1;33m.\u001b[0m\u001b[0madd_item\u001b[0m\u001b[1;33m(\u001b[0m\u001b[0mtv\u001b[0m\u001b[1;33m,\u001b[0m \u001b[1;36m1\u001b[0m\u001b[1;33m)\u001b[0m\u001b[1;33m\u001b[0m\u001b[1;33m\u001b[0m\u001b[0m\n\u001b[1;32m---> 37\u001b[1;33m \u001b[0morder\u001b[0m\u001b[1;33m.\u001b[0m\u001b[0mdisplay_total_bill\u001b[0m\u001b[1;33m(\u001b[0m\u001b[1;33m)\u001b[0m\u001b[1;33m\u001b[0m\u001b[1;33m\u001b[0m\u001b[0m\n\u001b[0m",
      "\u001b[1;32m<ipython-input-11-245b63e8f4bf>\u001b[0m in \u001b[0;36mdisplay_total_bill\u001b[1;34m(self)\u001b[0m\n\u001b[0;32m     11\u001b[0m         \u001b[0mtotal_bill\u001b[0m \u001b[1;33m=\u001b[0m \u001b[1;36m0\u001b[0m\u001b[1;33m\u001b[0m\u001b[1;33m\u001b[0m\u001b[0m\n\u001b[0;32m     12\u001b[0m         \u001b[1;32mfor\u001b[0m \u001b[0mproduct\u001b[0m\u001b[1;33m,\u001b[0m \u001b[0mquantity\u001b[0m \u001b[1;32min\u001b[0m \u001b[0mself\u001b[0m\u001b[1;33m.\u001b[0m\u001b[0mitems_in_cart\u001b[0m\u001b[1;33m:\u001b[0m\u001b[1;33m\u001b[0m\u001b[1;33m\u001b[0m\u001b[0m\n\u001b[1;32m---> 13\u001b[1;33m             \u001b[0mprice\u001b[0m \u001b[1;33m=\u001b[0m \u001b[0mproduct\u001b[0m\u001b[1;33m.\u001b[0m\u001b[0mget_deal_price\u001b[0m\u001b[1;33m(\u001b[0m\u001b[1;33m)\u001b[0m \u001b[1;33m*\u001b[0m \u001b[0mquantity\u001b[0m\u001b[1;33m\u001b[0m\u001b[1;33m\u001b[0m\u001b[0m\n\u001b[0m\u001b[0;32m     14\u001b[0m             \u001b[0mtotal_bill\u001b[0m \u001b[1;33m+=\u001b[0m \u001b[0mprice\u001b[0m\u001b[1;33m\u001b[0m\u001b[1;33m\u001b[0m\u001b[0m\n\u001b[0;32m     15\u001b[0m         \u001b[0mprint\u001b[0m\u001b[1;33m(\u001b[0m\u001b[1;34m\"Total Bill: {}\"\u001b[0m\u001b[1;33m.\u001b[0m\u001b[0mformat\u001b[0m\u001b[1;33m(\u001b[0m\u001b[0mtotal_bill\u001b[0m\u001b[1;33m)\u001b[0m\u001b[1;33m)\u001b[0m\u001b[1;33m\u001b[0m\u001b[1;33m\u001b[0m\u001b[0m\n",
      "\u001b[1;31mAttributeError\u001b[0m: 'GroceryItem' object has no attribute 'get_deal_price'"
     ]
    }
   ],
   "source": [
    "class Order:\n",
    "    def __init__(self, delivery_speed, delivery_address):\n",
    "        self.items_in_cart = []\n",
    "        self.delivery_speed = delivery_speed\n",
    "        self.delivery_address = delivery_address\n",
    "\n",
    "    def add_item(self, product, quantity):\n",
    "        self.items_in_cart.append((product, quantity))\n",
    "\n",
    "    def display_total_bill(self):\n",
    "        total_bill = 0\n",
    "        for product, quantity in self.items_in_cart:\n",
    "            price = product.get_deal_price() * quantity\n",
    "            total_bill += price\n",
    "        print(\"Total Bill: {}\".format(total_bill))\n",
    "\n",
    "\n",
    "class Product:\n",
    "    def __init__(self, name, price, deal_price, ratings):\n",
    "        self.name = name\n",
    "        self.price = price\n",
    "        self.deal_price = deal_price\n",
    "        self.ratings = ratings\n",
    "        self.you_save = price - deal_price\n",
    "\n",
    "class ElectronicItem(Product):\n",
    "    pass\n",
    "\n",
    "class GroceryItem(Product):\n",
    "    pass\n",
    "\n",
    "milk = GroceryItem(\"Milk\", 40, 25, 3.5)\n",
    "tv = ElectronicItem(\"TV\", 45000, 40000, 3.5)\n",
    "order = Order(\"Prime Delivery\", \"Hyderabad\")\n",
    "order.add_item(milk, 2)\n",
    "order.add_item(tv, 1)\n",
    "order.display_total_bill()\n"
   ]
  },
  {
   "cell_type": "code",
   "execution_count": 12,
   "id": "bd681478",
   "metadata": {},
   "outputs": [
    {
     "ename": "RecursionError",
     "evalue": "maximum recursion depth exceeded",
     "output_type": "error",
     "traceback": [
      "\u001b[1;31m---------------------------------------------------------------------------\u001b[0m",
      "\u001b[1;31mRecursionError\u001b[0m                            Traceback (most recent call last)",
      "\u001b[1;32m<ipython-input-12-c3d8096a701a>\u001b[0m in \u001b[0;36m<module>\u001b[1;34m\u001b[0m\n\u001b[0;32m     41\u001b[0m \u001b[0morder\u001b[0m \u001b[1;33m=\u001b[0m \u001b[0mOrder\u001b[0m\u001b[1;33m(\u001b[0m\u001b[1;34m\"Prime Delivery\"\u001b[0m\u001b[1;33m,\u001b[0m \u001b[1;34m\"Hyderabad\"\u001b[0m\u001b[1;33m)\u001b[0m\u001b[1;33m\u001b[0m\u001b[1;33m\u001b[0m\u001b[0m\n\u001b[0;32m     42\u001b[0m \u001b[0morder\u001b[0m\u001b[1;33m.\u001b[0m\u001b[0madd_item\u001b[0m\u001b[1;33m(\u001b[0m\u001b[0mtv\u001b[0m\u001b[1;33m,\u001b[0m \u001b[1;36m1\u001b[0m\u001b[1;33m)\u001b[0m\u001b[1;33m\u001b[0m\u001b[1;33m\u001b[0m\u001b[0m\n\u001b[1;32m---> 43\u001b[1;33m \u001b[0morder\u001b[0m\u001b[1;33m.\u001b[0m\u001b[0mdisplay_order_details\u001b[0m\u001b[1;33m(\u001b[0m\u001b[1;33m)\u001b[0m\u001b[1;33m\u001b[0m\u001b[1;33m\u001b[0m\u001b[0m\n\u001b[0m",
      "\u001b[1;32m<ipython-input-12-c3d8096a701a>\u001b[0m in \u001b[0;36mdisplay_order_details\u001b[1;34m(self)\u001b[0m\n\u001b[0;32m     10\u001b[0m     \u001b[1;32mdef\u001b[0m \u001b[0mdisplay_order_details\u001b[0m\u001b[1;33m(\u001b[0m\u001b[0mself\u001b[0m\u001b[1;33m)\u001b[0m\u001b[1;33m:\u001b[0m\u001b[1;33m\u001b[0m\u001b[1;33m\u001b[0m\u001b[0m\n\u001b[0;32m     11\u001b[0m         \u001b[1;32mfor\u001b[0m \u001b[0mproduct\u001b[0m\u001b[1;33m,\u001b[0m \u001b[0mquantity\u001b[0m \u001b[1;32min\u001b[0m \u001b[0mself\u001b[0m\u001b[1;33m.\u001b[0m\u001b[0mitems_in_cart\u001b[0m\u001b[1;33m:\u001b[0m\u001b[1;33m\u001b[0m\u001b[1;33m\u001b[0m\u001b[0m\n\u001b[1;32m---> 12\u001b[1;33m             \u001b[0mproduct\u001b[0m\u001b[1;33m.\u001b[0m\u001b[0mdisplay_product_details\u001b[0m\u001b[1;33m(\u001b[0m\u001b[1;33m)\u001b[0m\u001b[1;33m\u001b[0m\u001b[1;33m\u001b[0m\u001b[0m\n\u001b[0m\u001b[0;32m     13\u001b[0m             \u001b[0mprint\u001b[0m\u001b[1;33m(\u001b[0m\u001b[1;34m\"Quantity: {}\"\u001b[0m\u001b[1;33m.\u001b[0m\u001b[0mformat\u001b[0m\u001b[1;33m(\u001b[0m\u001b[0mquantity\u001b[0m\u001b[1;33m)\u001b[0m\u001b[1;33m)\u001b[0m\u001b[1;33m\u001b[0m\u001b[1;33m\u001b[0m\u001b[0m\n\u001b[0;32m     14\u001b[0m \u001b[1;33m\u001b[0m\u001b[0m\n",
      "\u001b[1;32m<ipython-input-12-c3d8096a701a>\u001b[0m in \u001b[0;36mdisplay_product_details\u001b[1;34m(self)\u001b[0m\n\u001b[0;32m     35\u001b[0m \u001b[1;33m\u001b[0m\u001b[0m\n\u001b[0;32m     36\u001b[0m     \u001b[1;32mdef\u001b[0m \u001b[0mdisplay_product_details\u001b[0m\u001b[1;33m(\u001b[0m\u001b[0mself\u001b[0m\u001b[1;33m)\u001b[0m\u001b[1;33m:\u001b[0m\u001b[1;33m\u001b[0m\u001b[1;33m\u001b[0m\u001b[0m\n\u001b[1;32m---> 37\u001b[1;33m         \u001b[0mself\u001b[0m\u001b[1;33m.\u001b[0m\u001b[0mdisplay_product_details\u001b[0m\u001b[1;33m(\u001b[0m\u001b[1;33m)\u001b[0m\u001b[1;33m\u001b[0m\u001b[1;33m\u001b[0m\u001b[0m\n\u001b[0m\u001b[0;32m     38\u001b[0m         \u001b[0mprint\u001b[0m\u001b[1;33m(\u001b[0m\u001b[1;34m\"Warranty {} months\"\u001b[0m\u001b[1;33m.\u001b[0m\u001b[0mformat\u001b[0m\u001b[1;33m(\u001b[0m\u001b[0mself\u001b[0m\u001b[1;33m.\u001b[0m\u001b[0mwarranty_in_months\u001b[0m\u001b[1;33m)\u001b[0m\u001b[1;33m)\u001b[0m\u001b[1;33m\u001b[0m\u001b[1;33m\u001b[0m\u001b[0m\n\u001b[0;32m     39\u001b[0m \u001b[1;33m\u001b[0m\u001b[0m\n",
      "... last 1 frames repeated, from the frame below ...\n",
      "\u001b[1;32m<ipython-input-12-c3d8096a701a>\u001b[0m in \u001b[0;36mdisplay_product_details\u001b[1;34m(self)\u001b[0m\n\u001b[0;32m     35\u001b[0m \u001b[1;33m\u001b[0m\u001b[0m\n\u001b[0;32m     36\u001b[0m     \u001b[1;32mdef\u001b[0m \u001b[0mdisplay_product_details\u001b[0m\u001b[1;33m(\u001b[0m\u001b[0mself\u001b[0m\u001b[1;33m)\u001b[0m\u001b[1;33m:\u001b[0m\u001b[1;33m\u001b[0m\u001b[1;33m\u001b[0m\u001b[0m\n\u001b[1;32m---> 37\u001b[1;33m         \u001b[0mself\u001b[0m\u001b[1;33m.\u001b[0m\u001b[0mdisplay_product_details\u001b[0m\u001b[1;33m(\u001b[0m\u001b[1;33m)\u001b[0m\u001b[1;33m\u001b[0m\u001b[1;33m\u001b[0m\u001b[0m\n\u001b[0m\u001b[0;32m     38\u001b[0m         \u001b[0mprint\u001b[0m\u001b[1;33m(\u001b[0m\u001b[1;34m\"Warranty {} months\"\u001b[0m\u001b[1;33m.\u001b[0m\u001b[0mformat\u001b[0m\u001b[1;33m(\u001b[0m\u001b[0mself\u001b[0m\u001b[1;33m.\u001b[0m\u001b[0mwarranty_in_months\u001b[0m\u001b[1;33m)\u001b[0m\u001b[1;33m)\u001b[0m\u001b[1;33m\u001b[0m\u001b[1;33m\u001b[0m\u001b[0m\n\u001b[0;32m     39\u001b[0m \u001b[1;33m\u001b[0m\u001b[0m\n",
      "\u001b[1;31mRecursionError\u001b[0m: maximum recursion depth exceeded"
     ]
    }
   ],
   "source": [
    "class Order:\n",
    "    def __init__(self, delivery_speed, delivery_address):\n",
    "        self.items_in_cart = []\n",
    "        self.delivery_speed = delivery_speed\n",
    "        self.delivery_address = delivery_address\n",
    "\n",
    "    def add_item(self, product, quantity):\n",
    "        self.items_in_cart.append((product, quantity))\n",
    "\n",
    "    def display_order_details(self):\n",
    "        for product, quantity in self.items_in_cart:\n",
    "            product.display_product_details()\n",
    "            print(\"Quantity: {}\".format(quantity))\n",
    "\n",
    "class Product:\n",
    "    def __init__(self, name, price, deal_price, ratings):\n",
    "        self.name = name\n",
    "        self.price = price\n",
    "        self.deal_price = deal_price\n",
    "        self.ratings = ratings\n",
    "        self.you_save = price - deal_price\n",
    "\n",
    "    def get_deal_price(self):\n",
    "        return self.deal_price\n",
    "\n",
    "    def display_product_details(self):\n",
    "        print(\"{} {}\".format(self.name, self.price))\n",
    "\n",
    "class ElectronicItem(Product):\n",
    "    def set_warranty(self, warranty_in_months):\n",
    "        self.warranty_in_months = warranty_in_months\n",
    "      \n",
    "    def get_warranty(self):\n",
    "        return self.warranty_in_months\n",
    "\n",
    "    def display_product_details(self):\n",
    "        self.display_product_details()      \n",
    "        print(\"Warranty {} months\".format(self.warranty_in_months))\n",
    "\n",
    "tv = ElectronicItem(\"TV\", 45000, 40000, 3.5)\n",
    "order = Order(\"Prime Delivery\", \"Hyderabad\")\n",
    "order.add_item(tv, 1)\n",
    "order.display_order_details()\n"
   ]
  },
  {
   "cell_type": "code",
   "execution_count": 13,
   "id": "c05c4cd8",
   "metadata": {},
   "outputs": [
    {
     "name": "stdout",
     "output_type": "stream",
     "text": [
      "16\n"
     ]
    }
   ],
   "source": [
    "class Rectangle:\n",
    "    def __init__(self, length, width):\n",
    "        self.length = length\n",
    "        self.width = width\n",
    "\n",
    "    def area(self):\n",
    "        return self.length * self.width\n",
    "\n",
    "    def perimeter(self):\n",
    "        return 2 * self.length + 2 * self.width\n",
    "\n",
    "class Square(Rectangle):\n",
    "    def __init__(self, length):\n",
    "        super().__init__(length, length)\n",
    "\n",
    "    def perimeter(self):\n",
    "        return self.length * 4\n",
    "\n",
    "box_1 = Square(4)\n",
    "print(box_1.perimeter())\n"
   ]
  },
  {
   "cell_type": "code",
   "execution_count": 14,
   "id": "31dc25e7",
   "metadata": {},
   "outputs": [],
   "source": [
    "class A:\n",
    "    def __init__(self, x):\n",
    "        self.x = x\n",
    "\n",
    "class B(A):\n",
    "    def __init__(self, x):\n",
    "        super().__init__(x)\n",
    "        \n",
    "class C(B):\n",
    "    def __init__(self, x):\n",
    "        super().__init__(x)\n",
    "\n",
    "p = C(20)\n",
    "q = B(2)\n"
   ]
  },
  {
   "cell_type": "code",
   "execution_count": 15,
   "id": "73b07e46",
   "metadata": {},
   "outputs": [
    {
     "name": "stdout",
     "output_type": "stream",
     "text": [
      "5\n",
      "1 \n",
      "1 2 \n",
      "1   3 \n",
      "1     4 \n",
      "1 2 3 4 5 \n"
     ]
    }
   ],
   "source": [
    "n = int(input())\n",
    "for i in range(1, n+1):\n",
    "    if (i > 2) and (i < n):\n",
    "        hollow_spaces = \"  \" * (i - 2)\n",
    "        numbers = \"1 \" + hollow_spaces + (str(i) + \" \")\n",
    "        print(numbers)\n",
    "    else:\n",
    "        numbers = \"\"\n",
    "        for j in range(1, i+1):\n",
    "            numbers = numbers + (str(j) + \" \")\n",
    "        print(numbers)\n"
   ]
  },
  {
   "cell_type": "code",
   "execution_count": 22,
   "id": "fa1d0b0f",
   "metadata": {},
   "outputs": [
    {
     "name": "stdout",
     "output_type": "stream",
     "text": [
      "123\n",
      "23\n"
     ]
    }
   ],
   "source": [
    "n = int(input())\n",
    "a = n%100\n",
    "print(a)"
   ]
  },
  {
   "cell_type": "code",
   "execution_count": 29,
   "id": "503f1a6e",
   "metadata": {},
   "outputs": [
    {
     "name": "stdout",
     "output_type": "stream",
     "text": [
      "KrishnNA\n",
      "kRISHNna"
     ]
    }
   ],
   "source": [
    "word = input()\n",
    "\n",
    "for char in word:\n",
    "    if char.islower():\n",
    "        char = char.upper()\n",
    "    else:\n",
    "        char = char.lower()\n",
    "    print(char, end='')"
   ]
  },
  {
   "cell_type": "code",
   "execution_count": 25,
   "id": "d242118b",
   "metadata": {},
   "outputs": [
    {
     "name": "stdout",
     "output_type": "stream",
     "text": [
      "krisna\n",
      "True\n"
     ]
    }
   ],
   "source": [
    "word = input()\n",
    "print(word.islower())"
   ]
  },
  {
   "cell_type": "code",
   "execution_count": null,
   "id": "c58fc866",
   "metadata": {},
   "outputs": [],
   "source": []
  }
 ],
 "metadata": {
  "kernelspec": {
   "display_name": "Python 3",
   "language": "python",
   "name": "python3"
  },
  "language_info": {
   "codemirror_mode": {
    "name": "ipython",
    "version": 3
   },
   "file_extension": ".py",
   "mimetype": "text/x-python",
   "name": "python",
   "nbconvert_exporter": "python",
   "pygments_lexer": "ipython3",
   "version": "3.8.8"
  }
 },
 "nbformat": 4,
 "nbformat_minor": 5
}
