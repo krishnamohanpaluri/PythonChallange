{
 "cells": [
  {
   "cell_type": "code",
   "execution_count": 2,
   "id": "7f5bed42",
   "metadata": {},
   "outputs": [
    {
     "name": "stdout",
     "output_type": "stream",
     "text": [
      "krishna\n",
      "4\n",
      "krishna krishna krishna krishna "
     ]
    }
   ],
   "source": [
    "word = input()\n",
    "n = int(input())\n",
    "print((word+\" \")*n, end='')"
   ]
  },
  {
   "cell_type": "code",
   "execution_count": 6,
   "id": "e8b45ae4",
   "metadata": {},
   "outputs": [
    {
     "name": "stdout",
     "output_type": "stream",
     "text": [
      "3432\n",
      "2\n"
     ]
    }
   ],
   "source": [
    "n = int(input())\n",
    "print(n%10)"
   ]
  },
  {
   "cell_type": "code",
   "execution_count": 16,
   "id": "cec4022b",
   "metadata": {},
   "outputs": [
    {
     "name": "stdout",
     "output_type": "stream",
     "text": [
      "1329\n",
      "3 years 33 weeks 3 days\n"
     ]
    }
   ],
   "source": [
    "number_of_days = int(input())\n",
    "years = number_of_days//365\n",
    "k = number_of_days%365\n",
    "weeks = k//7\n",
    "days = k%7\n",
    "print(str(years)+\" years \" +str(weeks)+\" weeks \" +str(days)+\" days\")"
   ]
  },
  {
   "cell_type": "code",
   "execution_count": 18,
   "id": "73958e84",
   "metadata": {},
   "outputs": [
    {
     "name": "stdout",
     "output_type": "stream",
     "text": [
      "943\n",
      "23\n",
      "920\n"
     ]
    }
   ],
   "source": [
    "n = int(input())\n",
    "m = int(input())\n",
    "if n<m:\n",
    "    n,m = m,n\n",
    "print(n-m)"
   ]
  },
  {
   "cell_type": "markdown",
   "id": "c10e46cc",
   "metadata": {},
   "source": [
    "# Python OPPs"
   ]
  },
  {
   "cell_type": "code",
   "execution_count": null,
   "id": "b01a9a24",
   "metadata": {},
   "outputs": [],
   "source": [
    "class mobile:\n",
    "    def __init__(self, model, camera):\n",
    "        self.model = model\n",
    "        self.camera = camera\n",
    "    def make_call(self, number):\n",
    "        print(\"Calling....\")"
   ]
  },
  {
   "cell_type": "code",
   "execution_count": 19,
   "id": "e837e67f",
   "metadata": {},
   "outputs": [
    {
     "ename": "AttributeError",
     "evalue": "'cart' object has no attribute 'add_tems'",
     "output_type": "error",
     "traceback": [
      "\u001b[1;31m---------------------------------------------------------------------------\u001b[0m",
      "\u001b[1;31mAttributeError\u001b[0m                            Traceback (most recent call last)",
      "\u001b[1;32m<ipython-input-19-78336b66e9c2>\u001b[0m in \u001b[0;36m<module>\u001b[1;34m\u001b[0m\n\u001b[0;32m     10\u001b[0m \u001b[1;33m\u001b[0m\u001b[0m\n\u001b[0;32m     11\u001b[0m \u001b[0mcart_object\u001b[0m \u001b[1;33m=\u001b[0m \u001b[0mcart\u001b[0m\u001b[1;33m(\u001b[0m\u001b[1;33m)\u001b[0m\u001b[1;33m\u001b[0m\u001b[1;33m\u001b[0m\u001b[0m\n\u001b[1;32m---> 12\u001b[1;33m \u001b[0mcart_object\u001b[0m\u001b[1;33m.\u001b[0m\u001b[0madd_tems\u001b[0m\u001b[1;33m(\u001b[0m\u001b[1;34m\"Books\"\u001b[0m\u001b[1;33m,\u001b[0m \u001b[1;36m3\u001b[0m\u001b[1;33m)\u001b[0m\u001b[1;33m\u001b[0m\u001b[1;33m\u001b[0m\u001b[0m\n\u001b[0m\u001b[0;32m     13\u001b[0m \u001b[0mcard_object\u001b[0m\u001b[1;33m.\u001b[0m\u001b[0madd_tems\u001b[0m\u001b[1;33m(\u001b[0m\u001b[1;34m\"Laptop\"\u001b[0m\u001b[1;33m,\u001b[0m \u001b[1;36m1\u001b[0m\u001b[1;33m)\u001b[0m\u001b[1;33m\u001b[0m\u001b[1;33m\u001b[0m\u001b[0m\n\u001b[0;32m     14\u001b[0m \u001b[1;33m\u001b[0m\u001b[0m\n",
      "\u001b[1;31mAttributeError\u001b[0m: 'cart' object has no attribute 'add_tems'"
     ]
    }
   ],
   "source": [
    "class cart:\n",
    "    def __init__(self):\n",
    "        self.items = {}\n",
    "    \n",
    "    def add_item(self, item_name, quantity):\n",
    "        self.items[item_name]= quanity\n",
    "        \n",
    "    def get_cart_item(self):\n",
    "        print(self.items)\n",
    "\n",
    "cart_object = cart()\n",
    "cart_object.add_tems(\"Books\", 3)\n",
    "card_object.add_tems(\"Laptop\", 1)\n",
    "\n",
    "cart_object.get_cart_item()\n"
   ]
  },
  {
   "cell_type": "code",
   "execution_count": null,
   "id": "10bec5d9",
   "metadata": {},
   "outputs": [],
   "source": []
  }
 ],
 "metadata": {
  "kernelspec": {
   "display_name": "Python 3",
   "language": "python",
   "name": "python3"
  },
  "language_info": {
   "codemirror_mode": {
    "name": "ipython",
    "version": 3
   },
   "file_extension": ".py",
   "mimetype": "text/x-python",
   "name": "python",
   "nbconvert_exporter": "python",
   "pygments_lexer": "ipython3",
   "version": "3.8.8"
  }
 },
 "nbformat": 4,
 "nbformat_minor": 5
}
