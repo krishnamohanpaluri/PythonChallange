{
 "cells": [
  {
   "cell_type": "code",
   "execution_count": 8,
   "id": "d788e9cb",
   "metadata": {},
   "outputs": [
    {
     "name": "stdout",
     "output_type": "stream",
     "text": [
      "PythonLearning\n",
      "python_learning\n"
     ]
    }
   ],
   "source": [
    "string = input()\n",
    "string_1 = \"\"\n",
    "for char in string:\n",
    "    if char.isupper():\n",
    "        char = \"_\"+char\n",
    "    string_1+=char\n",
    "a = string_1.lower()\n",
    "print(a[1:])"
   ]
  },
  {
   "cell_type": "code",
   "execution_count": 7,
   "id": "7f45ea3a",
   "metadata": {},
   "outputs": [
    {
     "name": "stdout",
     "output_type": "stream",
     "text": [
      "rishna\n"
     ]
    }
   ],
   "source": [
    "a = \"Krishna\"\n",
    "print(a[1:])"
   ]
  },
  {
   "cell_type": "code",
   "execution_count": 18,
   "id": "7ac64c10",
   "metadata": {},
   "outputs": [
    {
     "name": "stdout",
     "output_type": "stream",
     "text": [
      "\n"
     ]
    },
    {
     "ename": "ValueError",
     "evalue": "invalid literal for int() with base 10: ''",
     "output_type": "error",
     "traceback": [
      "\u001b[1;31m---------------------------------------------------------------------------\u001b[0m",
      "\u001b[1;31mValueError\u001b[0m                                Traceback (most recent call last)",
      "\u001b[1;32m<ipython-input-18-4be3738407ef>\u001b[0m in \u001b[0;36m<module>\u001b[1;34m\u001b[0m\n\u001b[1;32m----> 1\u001b[1;33m \u001b[0mn\u001b[0m \u001b[1;33m=\u001b[0m \u001b[0mint\u001b[0m\u001b[1;33m(\u001b[0m\u001b[0minput\u001b[0m\u001b[1;33m(\u001b[0m\u001b[1;33m)\u001b[0m\u001b[1;33m)\u001b[0m\u001b[1;33m\u001b[0m\u001b[1;33m\u001b[0m\u001b[0m\n\u001b[0m\u001b[0;32m      2\u001b[0m \u001b[1;31m#a = int(n/2)\u001b[0m\u001b[1;33m\u001b[0m\u001b[1;33m\u001b[0m\u001b[1;33m\u001b[0m\u001b[0m\n\u001b[0;32m      3\u001b[0m \u001b[1;32mfor\u001b[0m \u001b[0mi\u001b[0m \u001b[1;32min\u001b[0m \u001b[0mrange\u001b[0m\u001b[1;33m(\u001b[0m\u001b[1;36m1\u001b[0m\u001b[1;33m,\u001b[0m\u001b[0mn\u001b[0m\u001b[1;33m)\u001b[0m\u001b[1;33m:\u001b[0m\u001b[1;33m\u001b[0m\u001b[1;33m\u001b[0m\u001b[0m\n\u001b[0;32m      4\u001b[0m     \u001b[0mspace\u001b[0m \u001b[1;33m=\u001b[0m \u001b[1;34m\" \"\u001b[0m\u001b[1;33m\u001b[0m\u001b[1;33m\u001b[0m\u001b[0m\n\u001b[0;32m      5\u001b[0m     \u001b[0mstar\u001b[0m \u001b[1;33m=\u001b[0m \u001b[1;34m\"* \"\u001b[0m\u001b[1;33m\u001b[0m\u001b[1;33m\u001b[0m\u001b[0m\n",
      "\u001b[1;31mValueError\u001b[0m: invalid literal for int() with base 10: ''"
     ]
    }
   ],
   "source": [
    "n = int(input())\n",
    "#a = int(n/2)\n",
    "for i in range(1,n):\n",
    "    space = \" \"\n",
    "    star = \"* \"\n",
    "    total = space*i+star*(n-i)\n",
    "    print(total)"
   ]
  },
  {
   "cell_type": "code",
   "execution_count": 42,
   "id": "dbca1a68",
   "metadata": {
    "scrolled": true
   },
   "outputs": [
    {
     "name": "stdout",
     "output_type": "stream",
     "text": [
      "5\n",
      "* * * * * \n",
      " * * * * \n",
      "  * * * \n",
      "   * * \n",
      "    * \n",
      "   * * \n",
      "  * * * \n",
      " * * * * \n",
      "* * * * * \n"
     ]
    }
   ],
   "source": [
    "n = int(input())\n",
    "for i in range(1,n+1):\n",
    "    space = \" \"\n",
    "    star = \"* \"\n",
    "    total = space*(i-1) + star*(n-i+1) \n",
    "    print(total)\n",
    "for i in range(2,n+1):\n",
    "    space = \" \"\n",
    "    star = \"* \"\n",
    "    total = space*(n-i)+star*(i)\n",
    "    print(total)\n"
   ]
  },
  {
   "cell_type": "code",
   "execution_count": 43,
   "id": "1f68b7ff",
   "metadata": {},
   "outputs": [
    {
     "name": "stdout",
     "output_type": "stream",
     "text": [
      "Good Morning\n",
      "4\n",
      "8\n"
     ]
    }
   ],
   "source": [
    "word = input()\n",
    "vowel_count = 0\n",
    "consonent_count = 0\n",
    "for char in word:\n",
    "    if char == 'a' or char == 'e' or char == 'i' or char == 'o' or char == 'u':\n",
    "        vowel_count+=1\n",
    "    else:\n",
    "        consonent_count+=1\n",
    "print(vowel_count)\n",
    "print(consonent_count)"
   ]
  },
  {
   "cell_type": "code",
   "execution_count": 3,
   "id": "0e49e123",
   "metadata": {},
   "outputs": [
    {
     "name": "stdout",
     "output_type": "stream",
     "text": [
      "Saturday: 57\n",
      "Sunday: 57\n"
     ]
    }
   ],
   "source": [
    "from datetime import date, timedelta\n",
    "\n",
    "sdate = date(2008, 8, 15)   # start date\n",
    "edate = date(2009, 9, 15)   # end date\n",
    "\n",
    "delta = edate - sdate       # as timedelta\n",
    "sunday_count = 0\n",
    "saturday_count = 0\n",
    "\n",
    "for i in range(delta.days + 1):\n",
    "    day = sdate + timedelta(days=i)\n",
    "    if day.strftime(\"%A\") == \"Saturday\":\n",
    "        saturday_count+=1\n",
    "    elif day.strftime(\"%A\") == \"Sunday\":\n",
    "        sunday_count+=1\n",
    "print(\"Saturday: \"+str(saturday_count))\n",
    "print(\"Sunday: \"+str(sunday_count))\n"
   ]
  },
  {
   "cell_type": "raw",
   "id": "ccc28d3f",
   "metadata": {},
   "source": []
  },
  {
   "cell_type": "code",
   "execution_count": 31,
   "id": "2d7bbe5f",
   "metadata": {},
   "outputs": [
    {
     "name": "stdout",
     "output_type": "stream",
     "text": [
      "23 Jan 1990\n",
      "12 July 1992\n"
     ]
    },
    {
     "ename": "ValueError",
     "evalue": "time data '12 July 1992' does not match format '%d %b %Y'",
     "output_type": "error",
     "traceback": [
      "\u001b[1;31m---------------------------------------------------------------------------\u001b[0m",
      "\u001b[1;31mValueError\u001b[0m                                Traceback (most recent call last)",
      "\u001b[1;32m<ipython-input-31-d348c0df1f7c>\u001b[0m in \u001b[0;36m<module>\u001b[1;34m\u001b[0m\n\u001b[0;32m      5\u001b[0m \u001b[0mb\u001b[0m \u001b[1;33m=\u001b[0m \u001b[0minput\u001b[0m\u001b[1;33m(\u001b[0m\u001b[1;33m)\u001b[0m\u001b[1;33m\u001b[0m\u001b[1;33m\u001b[0m\u001b[0m\n\u001b[0;32m      6\u001b[0m \u001b[0msdate\u001b[0m \u001b[1;33m=\u001b[0m \u001b[0mdatetime\u001b[0m\u001b[1;33m.\u001b[0m\u001b[0mdatetime\u001b[0m\u001b[1;33m.\u001b[0m\u001b[0mstrptime\u001b[0m\u001b[1;33m(\u001b[0m\u001b[0ma\u001b[0m\u001b[1;33m,\u001b[0m \u001b[1;34m'%d %b %Y'\u001b[0m\u001b[1;33m)\u001b[0m\u001b[1;33m\u001b[0m\u001b[1;33m\u001b[0m\u001b[0m\n\u001b[1;32m----> 7\u001b[1;33m \u001b[0medate\u001b[0m \u001b[1;33m=\u001b[0m \u001b[0mdatetime\u001b[0m\u001b[1;33m.\u001b[0m\u001b[0mdatetime\u001b[0m\u001b[1;33m.\u001b[0m\u001b[0mstrptime\u001b[0m\u001b[1;33m(\u001b[0m\u001b[0mb\u001b[0m\u001b[1;33m,\u001b[0m \u001b[1;34m'%d %b %Y'\u001b[0m\u001b[1;33m)\u001b[0m\u001b[1;33m\u001b[0m\u001b[1;33m\u001b[0m\u001b[0m\n\u001b[0m\u001b[0;32m      8\u001b[0m \u001b[0mdelta\u001b[0m \u001b[1;33m=\u001b[0m \u001b[0medate\u001b[0m \u001b[1;33m-\u001b[0m \u001b[0msdate\u001b[0m       \u001b[1;31m# as timedelta\u001b[0m\u001b[1;33m\u001b[0m\u001b[1;33m\u001b[0m\u001b[0m\n\u001b[0;32m      9\u001b[0m \u001b[0msunday_count\u001b[0m \u001b[1;33m=\u001b[0m \u001b[1;36m0\u001b[0m\u001b[1;33m\u001b[0m\u001b[1;33m\u001b[0m\u001b[0m\n",
      "\u001b[1;32m~\\anaconda3\\lib\\_strptime.py\u001b[0m in \u001b[0;36m_strptime_datetime\u001b[1;34m(cls, data_string, format)\u001b[0m\n\u001b[0;32m    566\u001b[0m     \"\"\"Return a class cls instance based on the input string and the\n\u001b[0;32m    567\u001b[0m     format string.\"\"\"\n\u001b[1;32m--> 568\u001b[1;33m     \u001b[0mtt\u001b[0m\u001b[1;33m,\u001b[0m \u001b[0mfraction\u001b[0m\u001b[1;33m,\u001b[0m \u001b[0mgmtoff_fraction\u001b[0m \u001b[1;33m=\u001b[0m \u001b[0m_strptime\u001b[0m\u001b[1;33m(\u001b[0m\u001b[0mdata_string\u001b[0m\u001b[1;33m,\u001b[0m \u001b[0mformat\u001b[0m\u001b[1;33m)\u001b[0m\u001b[1;33m\u001b[0m\u001b[1;33m\u001b[0m\u001b[0m\n\u001b[0m\u001b[0;32m    569\u001b[0m     \u001b[0mtzname\u001b[0m\u001b[1;33m,\u001b[0m \u001b[0mgmtoff\u001b[0m \u001b[1;33m=\u001b[0m \u001b[0mtt\u001b[0m\u001b[1;33m[\u001b[0m\u001b[1;33m-\u001b[0m\u001b[1;36m2\u001b[0m\u001b[1;33m:\u001b[0m\u001b[1;33m]\u001b[0m\u001b[1;33m\u001b[0m\u001b[1;33m\u001b[0m\u001b[0m\n\u001b[0;32m    570\u001b[0m     \u001b[0margs\u001b[0m \u001b[1;33m=\u001b[0m \u001b[0mtt\u001b[0m\u001b[1;33m[\u001b[0m\u001b[1;33m:\u001b[0m\u001b[1;36m6\u001b[0m\u001b[1;33m]\u001b[0m \u001b[1;33m+\u001b[0m \u001b[1;33m(\u001b[0m\u001b[0mfraction\u001b[0m\u001b[1;33m,\u001b[0m\u001b[1;33m)\u001b[0m\u001b[1;33m\u001b[0m\u001b[1;33m\u001b[0m\u001b[0m\n",
      "\u001b[1;32m~\\anaconda3\\lib\\_strptime.py\u001b[0m in \u001b[0;36m_strptime\u001b[1;34m(data_string, format)\u001b[0m\n\u001b[0;32m    347\u001b[0m     \u001b[0mfound\u001b[0m \u001b[1;33m=\u001b[0m \u001b[0mformat_regex\u001b[0m\u001b[1;33m.\u001b[0m\u001b[0mmatch\u001b[0m\u001b[1;33m(\u001b[0m\u001b[0mdata_string\u001b[0m\u001b[1;33m)\u001b[0m\u001b[1;33m\u001b[0m\u001b[1;33m\u001b[0m\u001b[0m\n\u001b[0;32m    348\u001b[0m     \u001b[1;32mif\u001b[0m \u001b[1;32mnot\u001b[0m \u001b[0mfound\u001b[0m\u001b[1;33m:\u001b[0m\u001b[1;33m\u001b[0m\u001b[1;33m\u001b[0m\u001b[0m\n\u001b[1;32m--> 349\u001b[1;33m         raise ValueError(\"time data %r does not match format %r\" %\n\u001b[0m\u001b[0;32m    350\u001b[0m                          (data_string, format))\n\u001b[0;32m    351\u001b[0m     \u001b[1;32mif\u001b[0m \u001b[0mlen\u001b[0m\u001b[1;33m(\u001b[0m\u001b[0mdata_string\u001b[0m\u001b[1;33m)\u001b[0m \u001b[1;33m!=\u001b[0m \u001b[0mfound\u001b[0m\u001b[1;33m.\u001b[0m\u001b[0mend\u001b[0m\u001b[1;33m(\u001b[0m\u001b[1;33m)\u001b[0m\u001b[1;33m:\u001b[0m\u001b[1;33m\u001b[0m\u001b[1;33m\u001b[0m\u001b[0m\n",
      "\u001b[1;31mValueError\u001b[0m: time data '12 July 1992' does not match format '%d %b %Y'"
     ]
    }
   ],
   "source": [
    "import datetime \n",
    "from datetime import timedelta\n",
    "\n",
    "a = input()\n",
    "b = input()\n",
    "sdate = datetime.datetime.strptime(a, '%d %b %Y')\n",
    "edate = datetime.datetime.strptime(b, '%d %b %Y')\n",
    "delta = edate - sdate       # as timedelta\n",
    "sunday_count = 0\n",
    "saturday_count = 0\n",
    "\n",
    "for i in range(delta.days + 1):\n",
    "    day = sdate + timedelta(days=i)\n",
    "    if day.strftime(\"%A\") == \"Saturday\":\n",
    "        saturday_count+=1\n",
    "    elif day.strftime(\"%A\") == \"Sunday\":\n",
    "        sunday_count+=1\n",
    "print(\"Saturday: \"+str(saturday_count))\n",
    "print(\"Sunday: \"+str(sunday_count))\n"
   ]
  },
  {
   "cell_type": "code",
   "execution_count": 26,
   "id": "3012adc6",
   "metadata": {},
   "outputs": [
    {
     "name": "stdout",
     "output_type": "stream",
     "text": [
      "23 Jan 1990\n",
      "12 July 1992\n"
     ]
    },
    {
     "ename": "KeyError",
     "evalue": "'Jan'",
     "output_type": "error",
     "traceback": [
      "\u001b[1;31m---------------------------------------------------------------------------\u001b[0m",
      "\u001b[1;31mKeyError\u001b[0m                                  Traceback (most recent call last)",
      "\u001b[1;32m<ipython-input-26-74ef658a8e53>\u001b[0m in \u001b[0;36m<module>\u001b[1;34m\u001b[0m\n\u001b[0;32m      4\u001b[0m \u001b[0mb\u001b[0m \u001b[1;33m=\u001b[0m \u001b[0minput\u001b[0m\u001b[1;33m(\u001b[0m\u001b[1;33m)\u001b[0m\u001b[1;33m.\u001b[0m\u001b[0msplit\u001b[0m\u001b[1;33m(\u001b[0m\u001b[1;34m\" \"\u001b[0m\u001b[1;33m)\u001b[0m\u001b[1;33m\u001b[0m\u001b[1;33m\u001b[0m\u001b[0m\n\u001b[0;32m      5\u001b[0m \u001b[0ms_d\u001b[0m \u001b[1;33m=\u001b[0m \u001b[0mint\u001b[0m\u001b[1;33m(\u001b[0m\u001b[0ma\u001b[0m\u001b[1;33m[\u001b[0m\u001b[1;36m0\u001b[0m\u001b[1;33m]\u001b[0m\u001b[1;33m)\u001b[0m\u001b[1;33m\u001b[0m\u001b[1;33m\u001b[0m\u001b[0m\n\u001b[1;32m----> 6\u001b[1;33m \u001b[0ms_m\u001b[0m \u001b[1;33m=\u001b[0m \u001b[0mmonth_num\u001b[0m\u001b[1;33m[\u001b[0m\u001b[0mstr\u001b[0m\u001b[1;33m(\u001b[0m\u001b[0ma\u001b[0m\u001b[1;33m[\u001b[0m\u001b[1;36m1\u001b[0m\u001b[1;33m]\u001b[0m\u001b[1;33m)\u001b[0m\u001b[1;33m]\u001b[0m\u001b[1;33m\u001b[0m\u001b[1;33m\u001b[0m\u001b[0m\n\u001b[0m\u001b[0;32m      7\u001b[0m \u001b[0ms_y\u001b[0m \u001b[1;33m=\u001b[0m \u001b[0mint\u001b[0m\u001b[1;33m(\u001b[0m\u001b[0ma\u001b[0m\u001b[1;33m[\u001b[0m\u001b[1;36m2\u001b[0m\u001b[1;33m]\u001b[0m\u001b[1;33m)\u001b[0m\u001b[1;33m\u001b[0m\u001b[1;33m\u001b[0m\u001b[0m\n\u001b[0;32m      8\u001b[0m \u001b[1;33m\u001b[0m\u001b[0m\n",
      "\u001b[1;31mKeyError\u001b[0m: 'Jan'"
     ]
    }
   ],
   "source": [
    "month_num = {1:\"Jan\", 2:\"Feb\", 3:\"Mar\", 4:\"April\", 5:\"May\", 6:\"June\", 7:\"July\", 8:\"Aug\", 9:\"Sept\", 10:\"Oct\", 11:\"Nov\", 12:\"Dec\"}\n",
    "\n",
    "a = input().split(\" \")\n",
    "b = input().split(\" \")\n",
    "s_d = int(a[0])\n",
    "s_m = month_num[str(a[1])]\n",
    "s_y = int(a[2])\n",
    "\n",
    "e_d = int(b[0])\n",
    "e_m = month_num[str(b[1])]\n",
    "e_y = int(b[2])\n",
    "print(date(s_d, s_m, s_y))"
   ]
  },
  {
   "cell_type": "code",
   "execution_count": 23,
   "id": "6da939cc",
   "metadata": {},
   "outputs": [
    {
     "name": "stdout",
     "output_type": "stream",
     "text": [
      "Jan\n"
     ]
    }
   ],
   "source": [
    "month_num = {1:\"Jan\", \"Feb\":2, \"Mar\":3, \"April\":4, \"May\":5, \"June\":6, \"July\":7, \"Aug\":8, \"Sept\":9, \"Oct\":10, \"Nov\":11, \"Dec\":12}\n",
    "print(month_num[1])"
   ]
  },
  {
   "cell_type": "code",
   "execution_count": 10,
   "id": "e6edb046",
   "metadata": {},
   "outputs": [
    {
     "name": "stdout",
     "output_type": "stream",
     "text": [
      "Good Morning\n",
      "{'g', 'r', 'n', 'm', 'd', ' ', 'i', 'o'}\n",
      "2\n",
      "6\n"
     ]
    }
   ],
   "source": [
    "word = input().lower()\n",
    "vowel_count = 0\n",
    "consonent_count = 0\n",
    "word_set = set()\n",
    "for char in word:\n",
    "    word_set.add(char)\n",
    "print(word_set)\n",
    "#word_list = []\n",
    "for i in word_set:\n",
    "    if i == 'a' or i == 'e' or i == 'i' or i == 'o' or i == 'u':\n",
    "        vowel_count +=1\n",
    "    else:\n",
    "        consonent_count+=1\n",
    "print(vowel_count)\n",
    "print(consonent_count)"
   ]
  },
  {
   "cell_type": "code",
   "execution_count": 13,
   "id": "fbe5c945",
   "metadata": {},
   "outputs": [
    {
     "name": "stdout",
     "output_type": "stream",
     "text": [
      "Good Morning\n",
      "4\n",
      "7\n"
     ]
    }
   ],
   "source": [
    "word = input().lower()\n",
    "vowel_count = 0\n",
    "consonent_count = 0\n",
    "space_count = 0\n",
    "for char in word:\n",
    "    if char == 'a' or char == 'e' or char == 'i' or char == 'o' or char == 'u':\n",
    "        vowel_count+=1\n",
    "    elif char == \" \":\n",
    "        space_count += 1\n",
    "    else:\n",
    "        consonent_count+=1\n",
    "print(vowel_count)\n",
    "print(consonent_count)"
   ]
  },
  {
   "cell_type": "code",
   "execution_count": 21,
   "id": "0318a05c",
   "metadata": {},
   "outputs": [
    {
     "name": "stdout",
     "output_type": "stream",
     "text": [
      "5\n",
      "1\n",
      "10\n",
      "4\n",
      "3\n",
      "2\n",
      "1\n"
     ]
    }
   ],
   "source": [
    "n = int(input())\n",
    "num_list = []\n",
    "sum_num_list = 0\n",
    "for i in range(1, n+1):\n",
    "    k = int(input())\n",
    "    num_list.append(k)\n",
    "for num in num_list:\n",
    "    count = 0\n",
    "    for j in range(1, num):\n",
    "        if num%j == 0:\n",
    "            count +=1\n",
    "    if count == 0:\n",
    "        print(num)\n",
    "    break\n",
    "        "
   ]
  },
  {
   "cell_type": "code",
   "execution_count": 25,
   "id": "05b9f155",
   "metadata": {},
   "outputs": [
    {
     "name": "stdout",
     "output_type": "stream",
     "text": [
      "5\n",
      "1\n",
      "10\n",
      "4\n",
      "3\n",
      "2\n",
      "1\n"
     ]
    }
   ],
   "source": [
    "n = int(input())\n",
    "n_list = []\n",
    "for i in range(1, n+1):\n",
    "    k = int(input())\n",
    "    n_list.append(k)\n",
    "for i in n_list:\n",
    "    count = 0\n",
    "    for j in range(2, i):\n",
    "        if i%j == 0:\n",
    "            count+=1\n",
    "    if count == 0:\n",
    "        print(i)\n",
    "    break"
   ]
  },
  {
   "cell_type": "code",
   "execution_count": null,
   "id": "77a14fd6",
   "metadata": {},
   "outputs": [],
   "source": []
  }
 ],
 "metadata": {
  "kernelspec": {
   "display_name": "Python 3",
   "language": "python",
   "name": "python3"
  },
  "language_info": {
   "codemirror_mode": {
    "name": "ipython",
    "version": 3
   },
   "file_extension": ".py",
   "mimetype": "text/x-python",
   "name": "python",
   "nbconvert_exporter": "python",
   "pygments_lexer": "ipython3",
   "version": "3.8.8"
  }
 },
 "nbformat": 4,
 "nbformat_minor": 5
}
