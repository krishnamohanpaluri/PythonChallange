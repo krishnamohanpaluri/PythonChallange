{
 "cells": [
  {
   "cell_type": "code",
   "execution_count": 1,
   "id": "d7e5f44d",
   "metadata": {},
   "outputs": [
    {
     "name": "stdout",
     "output_type": "stream",
     "text": [
      "10\n"
     ]
    }
   ],
   "source": [
    "count = 0\n",
    "\n",
    "for i in range(10):\n",
    "    if (i % 3) == 0:\n",
    "        pass\n",
    "    count = count + 1\n",
    "\n",
    "print(count)\n"
   ]
  },
  {
   "cell_type": "code",
   "execution_count": 2,
   "id": "ce1c6e2c",
   "metadata": {},
   "outputs": [
    {
     "name": "stdout",
     "output_type": "stream",
     "text": [
      "6\n"
     ]
    }
   ],
   "source": [
    "total = 0\n",
    "\n",
    "for i in range(5):\n",
    "    total = total + i\n",
    "    if i == 3:\n",
    "        break\n",
    "\n",
    "print(total)\n"
   ]
  },
  {
   "cell_type": "code",
   "execution_count": 3,
   "id": "08011f63",
   "metadata": {},
   "outputs": [
    {
     "name": "stdout",
     "output_type": "stream",
     "text": [
      "12\n"
     ]
    }
   ],
   "source": [
    "x = 6\n",
    "y = 0\n",
    "\n",
    "i = 0\n",
    "while True:\n",
    "    y = y + i\n",
    "    i = i + 2\n",
    "    if i > x:\n",
    "        break\n",
    "\n",
    "print(y)\n"
   ]
  },
  {
   "cell_type": "code",
   "execution_count": 4,
   "id": "37713faa",
   "metadata": {},
   "outputs": [
    {
     "name": "stdout",
     "output_type": "stream",
     "text": [
      "0\n",
      "2\n",
      "End\n"
     ]
    }
   ],
   "source": [
    "for a in range(3):\n",
    "    if a == 1:\n",
    "        continue\n",
    "    print(a)\n",
    "print(\"End\")\n"
   ]
  },
  {
   "cell_type": "code",
   "execution_count": 5,
   "id": "2a06ebfd",
   "metadata": {},
   "outputs": [
    {
     "name": "stdout",
     "output_type": "stream",
     "text": [
      "3\n"
     ]
    }
   ],
   "source": [
    "total = 0\n",
    "for i in range(5):\n",
    "    if i == 3:\n",
    "        break\n",
    "    total = total + i\n",
    "\n",
    "print(total)\n"
   ]
  },
  {
   "cell_type": "code",
   "execution_count": 6,
   "id": "0e97abee",
   "metadata": {},
   "outputs": [
    {
     "name": "stdout",
     "output_type": "stream",
     "text": [
      "6\n"
     ]
    }
   ],
   "source": [
    "count = 0\n",
    "\n",
    "for i in range(10):\n",
    "    if (i % 3) == 0:\n",
    "        continue\n",
    "    count = count + 1\n",
    "\n",
    "print(count)\n"
   ]
  },
  {
   "cell_type": "code",
   "execution_count": null,
   "id": "f18dd4c6",
   "metadata": {},
   "outputs": [],
   "source": [
    "m = int(input())\n",
    "n = int(input())\n",
    "\n",
    "if not (m > 1):\n",
    "    m = 2\n",
    "\n",
    "no_primes = True\n",
    "\n",
    "for i in range(m, n+1):\n",
    "    is_prime = True\n",
    "    for j in range(2, i):\n",
    "        if i % j == 0:\n",
    "            is_prime = False\n",
    "            break\n",
    "    if is_prime:\n",
    "        print(i)\n",
    "        no_primes = False\n",
    "        break\n",
    "\n",
    "if no_primes:\n",
    "    print(\"No prime numbers in the given range\")\n"
   ]
  },
  {
   "cell_type": "code",
   "execution_count": 10,
   "id": "becf665d",
   "metadata": {},
   "outputs": [
    {
     "name": "stdout",
     "output_type": "stream",
     "text": [
      "10\n",
      "-965\n",
      "12\n",
      "56\n",
      "59\n",
      "26\n",
      "-6\n",
      "-9\n",
      "26\n",
      "56\n",
      "61\n",
      "-965\n",
      "[-965, -9, -6, 12, 26, 26, 56, 56, 59, 61]\n"
     ]
    }
   ],
   "source": [
    "n = int(input())\n",
    "box = []\n",
    "for i in range(n):\n",
    "    k = int(input())\n",
    "    box.append(k)\n",
    "box = sorted(box)\n",
    "print(box[0])\n",
    "print(box)"
   ]
  },
  {
   "cell_type": "code",
   "execution_count": null,
   "id": "7d47bcb8",
   "metadata": {},
   "outputs": [],
   "source": [
    "def convert_string_to_int(list_a):\n",
    "    new_list = []\n",
    "    for item in list_a:\n",
    "        num = int(item)\n",
    "        new_list.append(num)\n",
    "    return new_list\n",
    "\n",
    "\n",
    "def get_intersection_of_n_sets(num_set_list):\n",
    "    result = num_set_list[0]\n",
    "    for num_set in num_set_list:\n",
    "        result = result.intersection(num_set)\n",
    "    return result\n",
    "\n",
    "\n",
    "n = int(input())\n",
    "num_set_list = []\n",
    "for i in range(n):\n",
    "    values_list = input().split()\n",
    "    values_list = convert_string_to_int(values_list)\n",
    "    values_set = set(values_list)\n",
    "    num_set_list.append(values_set)\n",
    "\n",
    "result_set = get_intersection_of_n_sets(num_set_list)\n",
    "result_list = list(result_set)\n",
    "result_list.sort()\n",
    "print(result_list)\n"
   ]
  },
  {
   "cell_type": "code",
   "execution_count": null,
   "id": "e9a6ebea",
   "metadata": {},
   "outputs": [],
   "source": [
    "n = int(input())\n",
    "for i in range(1, n+1):\n",
    "    print(\"* \"*i) \n",
    "for i in range(1, n+1):\n",
    "    k = n - i\n",
    "    print(\"* \"*k)\n"
   ]
  },
  {
   "cell_type": "code",
   "execution_count": 19,
   "id": "fd2cd795",
   "metadata": {},
   "outputs": [
    {
     "name": "stdout",
     "output_type": "stream",
     "text": [
      "dict_keys(['name', 'age', 'roll_no'])\n"
     ]
    }
   ],
   "source": [
    "dict_a = {\n",
    "    'name': 'Vani',\n",
    "    'age': 20\n",
    "}\n",
    "dict_a['roll_no'] = 10\n",
    "view = dict_a.keys()\n",
    "print(view)"
   ]
  },
  {
   "cell_type": "code",
   "execution_count": 20,
   "id": "ad7eae7b",
   "metadata": {},
   "outputs": [
    {
     "name": "stdout",
     "output_type": "stream",
     "text": [
      "AB\n"
     ]
    }
   ],
   "source": [
    "dict_a = {\n",
    "    \"A\": 90,\n",
    "    \"B\": 70,\n",
    "    \"C\": 50\n",
    "}\n",
    "\n",
    "grades = \"\"\n",
    "for key, value in dict_a.items():\n",
    "    if value > 60:\n",
    "        grades += key\n",
    "print(grades)\n"
   ]
  },
  {
   "cell_type": "code",
   "execution_count": null,
   "id": "b44cbc49",
   "metadata": {},
   "outputs": [],
   "source": []
  }
 ],
 "metadata": {
  "kernelspec": {
   "display_name": "Python 3",
   "language": "python",
   "name": "python3"
  },
  "language_info": {
   "codemirror_mode": {
    "name": "ipython",
    "version": 3
   },
   "file_extension": ".py",
   "mimetype": "text/x-python",
   "name": "python",
   "nbconvert_exporter": "python",
   "pygments_lexer": "ipython3",
   "version": "3.8.8"
  }
 },
 "nbformat": 4,
 "nbformat_minor": 5
}
