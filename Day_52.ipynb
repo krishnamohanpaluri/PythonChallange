{
 "cells": [
  {
   "cell_type": "code",
   "execution_count": 5,
   "id": "17babd44",
   "metadata": {},
   "outputs": [
    {
     "name": "stdout",
     "output_type": "stream",
     "text": [
      "5\n",
      "1 2 3 3 4\n",
      "3\n"
     ]
    }
   ],
   "source": [
    "n = int(input())\n",
    "m = input().split()\n",
    "num_list = []\n",
    "for i in m:\n",
    "    i = int(i)\n",
    "    num_list.append(i)\n",
    "num_list = sorted(num_list)\n",
    "num_list = set(num_list)\n",
    "a = list(num_list)\n",
    "b = sorted(a)\n",
    "print(b[-2])"
   ]
  },
  {
   "cell_type": "markdown",
   "id": "705c0dfa",
   "metadata": {},
   "source": [
    "# Foundation Exam_2 Q1"
   ]
  },
  {
   "cell_type": "code",
   "execution_count": 23,
   "id": "08b70fb4",
   "metadata": {},
   "outputs": [
    {
     "ename": "KeyboardInterrupt",
     "evalue": "Interrupted by user",
     "output_type": "error",
     "traceback": [
      "\u001b[1;31m---------------------------------------------------------------------------\u001b[0m",
      "\u001b[1;31mKeyboardInterrupt\u001b[0m                         Traceback (most recent call last)",
      "\u001b[1;32m<ipython-input-23-2f8657d0a4c5>\u001b[0m in \u001b[0;36m<module>\u001b[1;34m\u001b[0m\n\u001b[1;32m----> 1\u001b[1;33m \u001b[0mnum_string\u001b[0m \u001b[1;33m=\u001b[0m \u001b[0minput\u001b[0m\u001b[1;33m(\u001b[0m\u001b[1;33m)\u001b[0m\u001b[1;33m.\u001b[0m\u001b[0msplit\u001b[0m\u001b[1;33m(\u001b[0m\u001b[1;33m)\u001b[0m\u001b[1;33m\u001b[0m\u001b[1;33m\u001b[0m\u001b[0m\n\u001b[0m\u001b[0;32m      2\u001b[0m \u001b[0mtarget_int\u001b[0m \u001b[1;33m=\u001b[0m \u001b[0minput\u001b[0m\u001b[1;33m(\u001b[0m\u001b[1;33m)\u001b[0m\u001b[1;33m\u001b[0m\u001b[1;33m\u001b[0m\u001b[0m\n\u001b[0;32m      3\u001b[0m \u001b[0mindex_of_target\u001b[0m \u001b[1;33m=\u001b[0m \u001b[1;36m0\u001b[0m\u001b[1;33m\u001b[0m\u001b[1;33m\u001b[0m\u001b[0m\n\u001b[0;32m      4\u001b[0m \u001b[1;32mfor\u001b[0m \u001b[0mi\u001b[0m \u001b[1;32min\u001b[0m \u001b[0mrange\u001b[0m\u001b[1;33m(\u001b[0m\u001b[0mlen\u001b[0m\u001b[1;33m(\u001b[0m\u001b[0mnum_string\u001b[0m\u001b[1;33m)\u001b[0m\u001b[1;33m)\u001b[0m\u001b[1;33m:\u001b[0m\u001b[1;33m\u001b[0m\u001b[1;33m\u001b[0m\u001b[0m\n\u001b[0;32m      5\u001b[0m     \u001b[1;32mif\u001b[0m \u001b[0mn\u001b[0m\u001b[1;33m[\u001b[0m\u001b[0mi\u001b[0m\u001b[1;33m]\u001b[0m \u001b[1;33m==\u001b[0m \u001b[0mtarget_int\u001b[0m\u001b[1;33m:\u001b[0m\u001b[1;33m\u001b[0m\u001b[1;33m\u001b[0m\u001b[0m\n",
      "\u001b[1;32m~\\anaconda3\\lib\\site-packages\\ipykernel\\kernelbase.py\u001b[0m in \u001b[0;36mraw_input\u001b[1;34m(self, prompt)\u001b[0m\n\u001b[0;32m    858\u001b[0m                 \u001b[1;34m\"raw_input was called, but this frontend does not support input requests.\"\u001b[0m\u001b[1;33m\u001b[0m\u001b[1;33m\u001b[0m\u001b[0m\n\u001b[0;32m    859\u001b[0m             )\n\u001b[1;32m--> 860\u001b[1;33m         return self._input_request(str(prompt),\n\u001b[0m\u001b[0;32m    861\u001b[0m             \u001b[0mself\u001b[0m\u001b[1;33m.\u001b[0m\u001b[0m_parent_ident\u001b[0m\u001b[1;33m,\u001b[0m\u001b[1;33m\u001b[0m\u001b[1;33m\u001b[0m\u001b[0m\n\u001b[0;32m    862\u001b[0m             \u001b[0mself\u001b[0m\u001b[1;33m.\u001b[0m\u001b[0m_parent_header\u001b[0m\u001b[1;33m,\u001b[0m\u001b[1;33m\u001b[0m\u001b[1;33m\u001b[0m\u001b[0m\n",
      "\u001b[1;32m~\\anaconda3\\lib\\site-packages\\ipykernel\\kernelbase.py\u001b[0m in \u001b[0;36m_input_request\u001b[1;34m(self, prompt, ident, parent, password)\u001b[0m\n\u001b[0;32m    902\u001b[0m             \u001b[1;32mexcept\u001b[0m \u001b[0mKeyboardInterrupt\u001b[0m\u001b[1;33m:\u001b[0m\u001b[1;33m\u001b[0m\u001b[1;33m\u001b[0m\u001b[0m\n\u001b[0;32m    903\u001b[0m                 \u001b[1;31m# re-raise KeyboardInterrupt, to truncate traceback\u001b[0m\u001b[1;33m\u001b[0m\u001b[1;33m\u001b[0m\u001b[1;33m\u001b[0m\u001b[0m\n\u001b[1;32m--> 904\u001b[1;33m                 \u001b[1;32mraise\u001b[0m \u001b[0mKeyboardInterrupt\u001b[0m\u001b[1;33m(\u001b[0m\u001b[1;34m\"Interrupted by user\"\u001b[0m\u001b[1;33m)\u001b[0m \u001b[1;32mfrom\u001b[0m \u001b[1;32mNone\u001b[0m\u001b[1;33m\u001b[0m\u001b[1;33m\u001b[0m\u001b[0m\n\u001b[0m\u001b[0;32m    905\u001b[0m             \u001b[1;32mexcept\u001b[0m \u001b[0mException\u001b[0m \u001b[1;32mas\u001b[0m \u001b[0me\u001b[0m\u001b[1;33m:\u001b[0m\u001b[1;33m\u001b[0m\u001b[1;33m\u001b[0m\u001b[0m\n\u001b[0;32m    906\u001b[0m                 \u001b[0mself\u001b[0m\u001b[1;33m.\u001b[0m\u001b[0mlog\u001b[0m\u001b[1;33m.\u001b[0m\u001b[0mwarning\u001b[0m\u001b[1;33m(\u001b[0m\u001b[1;34m\"Invalid Message:\"\u001b[0m\u001b[1;33m,\u001b[0m \u001b[0mexc_info\u001b[0m\u001b[1;33m=\u001b[0m\u001b[1;32mTrue\u001b[0m\u001b[1;33m)\u001b[0m\u001b[1;33m\u001b[0m\u001b[1;33m\u001b[0m\u001b[0m\n",
      "\u001b[1;31mKeyboardInterrupt\u001b[0m: Interrupted by user"
     ]
    }
   ],
   "source": [
    "num_string = input().split()\n",
    "target_int = input()\n",
    "index_of_target = 0\n",
    "for i in range(len(num_string)):\n",
    "    if n[i] == target_int:\n",
    "        index_of_target = i\n",
    "print(index_of_target)"
   ]
  },
  {
   "cell_type": "markdown",
   "id": "219910ac",
   "metadata": {},
   "source": [
    "# Foundation Exam_2 Q2"
   ]
  },
  {
   "cell_type": "code",
   "execution_count": 22,
   "id": "a3151bc2",
   "metadata": {},
   "outputs": [
    {
     "name": "stdout",
     "output_type": "stream",
     "text": [
      "3\n",
      "19\n",
      "75\n"
     ]
    }
   ],
   "source": [
    "lower_limit = int(input())\n",
    "upper_limit= int(input())\n",
    "if lower_limit > upper_limit:\n",
    "    lower_limit, upper_limit = upper_limit,lower_limit \n",
    "sum_of_primes_in_the_list = 0\n",
    "for i in range(lower_limit, upper_limit+1):\n",
    "    count = 0\n",
    "    for j in range(2, i):\n",
    "        if i%j == 0:\n",
    "            count+=1\n",
    "    if count<1:\n",
    "        sum_of_primes_in_the_list+=i\n",
    "print(sum_of_primes_in_the_list)"
   ]
  },
  {
   "cell_type": "markdown",
   "id": "da8137d9",
   "metadata": {},
   "source": [
    "# Foundation Exam_2 Q3"
   ]
  },
  {
   "cell_type": "code",
   "execution_count": 21,
   "id": "4fa701f6",
   "metadata": {},
   "outputs": [
    {
     "name": "stdout",
     "output_type": "stream",
     "text": [
      "3 4 5 2 4 5 8 7\n",
      "22\n"
     ]
    }
   ],
   "source": [
    "num_string = input().split()\n",
    "int_list = []\n",
    "for i in num_string:\n",
    "    i = int(i)\n",
    "    int_list.append(i)\n",
    "sum_of_primes = 0\n",
    "for j in int_list:\n",
    "    count = 0\n",
    "    for k in range(2,j):\n",
    "        if j%k == 0:\n",
    "            count+=1\n",
    "    if count<1:\n",
    "        sum_of_primes+=j\n",
    "print(sum_of_primes)"
   ]
  },
  {
   "cell_type": "markdown",
   "id": "58e12cd9",
   "metadata": {},
   "source": [
    "# Foundation Exam_2 Q4"
   ]
  },
  {
   "cell_type": "code",
   "execution_count": 20,
   "id": "eaafc855",
   "metadata": {},
   "outputs": [
    {
     "name": "stdout",
     "output_type": "stream",
     "text": [
      "asfq453453fwertw345345234gferg\n",
      "453453345345234asfqfwertwgferg\n"
     ]
    }
   ],
   "source": [
    "string_with_numbers = input()\n",
    "num_string = \"\"\n",
    "char_string = \"\"\n",
    "for char in string_with_numbers:\n",
    "    if char.isdigit():\n",
    "        num_string+=char\n",
    "    else:\n",
    "        char_string+=char\n",
    "print(num_string+char_string)"
   ]
  },
  {
   "cell_type": "code",
   "execution_count": 25,
   "id": "6d18fd5d",
   "metadata": {},
   "outputs": [
    {
     "name": "stdout",
     "output_type": "stream",
     "text": [
      "234 345234 234 23 234 234 6 234 3\n",
      "[234, 345234, 234, 23, 234, 234, 6, 234, 3]\n"
     ]
    }
   ],
   "source": [
    "def str_to_int(num_string):\n",
    "    int_list = []\n",
    "    for i in num_string:\n",
    "        i = int(i)\n",
    "        int_list.append(i)\n",
    "    \n",
    "    return int_list\n",
    "\n",
    "def mean(str_to_int(num_string)):\n",
    "    int_list_sum = 0\n",
    "    no_of_elements = len(str_to_int_(num_string))\n",
    "    for i in str_to_int(num_string):\n",
    "        int_list_sum += i\n",
    "    return int_list_sum/no_of_elements\n",
    "\n",
    "def median(str_to_int(num_string)):\n",
    "    sorted_list = sorted(str_to_int(num_string))\n",
    "\n",
    "num_string = input().split()\n",
    "\n",
    "print(str_to_int(num_string))"
   ]
  },
  {
   "cell_type": "code",
   "execution_count": null,
   "id": "29df99e7",
   "metadata": {},
   "outputs": [],
   "source": []
  }
 ],
 "metadata": {
  "kernelspec": {
   "display_name": "Python 3",
   "language": "python",
   "name": "python3"
  },
  "language_info": {
   "codemirror_mode": {
    "name": "ipython",
    "version": 3
   },
   "file_extension": ".py",
   "mimetype": "text/x-python",
   "name": "python",
   "nbconvert_exporter": "python",
   "pygments_lexer": "ipython3",
   "version": "3.8.8"
  }
 },
 "nbformat": 4,
 "nbformat_minor": 5
}
