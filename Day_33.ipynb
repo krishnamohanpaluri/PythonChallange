{
 "cells": [
  {
   "cell_type": "code",
   "execution_count": 1,
   "id": "9b5ebee6",
   "metadata": {},
   "outputs": [
    {
     "ename": "AttributeError",
     "evalue": "'ElectronicItem' object has no attribute 'set_expiry_date'",
     "output_type": "error",
     "traceback": [
      "\u001b[1;31m---------------------------------------------------------------------------\u001b[0m",
      "\u001b[1;31mAttributeError\u001b[0m                            Traceback (most recent call last)",
      "\u001b[1;32m<ipython-input-1-e8081fc7f46a>\u001b[0m in \u001b[0;36m<module>\u001b[1;34m\u001b[0m\n\u001b[0;32m     25\u001b[0m \u001b[1;33m\u001b[0m\u001b[0m\n\u001b[0;32m     26\u001b[0m \u001b[0me\u001b[0m \u001b[1;33m=\u001b[0m \u001b[0mElectronicItem\u001b[0m\u001b[1;33m(\u001b[0m\u001b[1;34m\"Cell\"\u001b[0m\u001b[1;33m,\u001b[0m \u001b[1;36m50\u001b[0m\u001b[1;33m,\u001b[0m \u001b[1;36m40\u001b[0m\u001b[1;33m,\u001b[0m \u001b[1;36m4.5\u001b[0m\u001b[1;33m)\u001b[0m\u001b[1;33m\u001b[0m\u001b[1;33m\u001b[0m\u001b[0m\n\u001b[1;32m---> 27\u001b[1;33m \u001b[0me\u001b[0m\u001b[1;33m.\u001b[0m\u001b[0mset_expiry_date\u001b[0m\u001b[1;33m(\u001b[0m\u001b[1;34m\"10 Days\"\u001b[0m\u001b[1;33m)\u001b[0m\u001b[1;33m\u001b[0m\u001b[1;33m\u001b[0m\u001b[0m\n\u001b[0m\u001b[0;32m     28\u001b[0m \u001b[0mprint\u001b[0m\u001b[1;33m(\u001b[0m\u001b[0me\u001b[0m\u001b[1;33m.\u001b[0m\u001b[0mget_expiry_date\u001b[0m\u001b[1;33m(\u001b[0m\u001b[1;33m)\u001b[0m\u001b[1;33m)\u001b[0m\u001b[1;33m\u001b[0m\u001b[1;33m\u001b[0m\u001b[0m\n",
      "\u001b[1;31mAttributeError\u001b[0m: 'ElectronicItem' object has no attribute 'set_expiry_date'"
     ]
    }
   ],
   "source": [
    "class Product:\n",
    "    def __init__(self, name, price, deal_price, ratings):\n",
    "        self.name = name\n",
    "        self.price = price\n",
    "        self.deal_price = deal_price\n",
    "        self.ratings = ratings\n",
    "        self.you_save = price - deal_price\n",
    "\n",
    "    def display_product_price(self):\n",
    "        print(\"Price: {}\".format(self.price))\n",
    "\n",
    "class ElectronicItem(Product):\n",
    "    def set_warranty(self, warranty_in_months):\n",
    "        self.warranty_in_months = warranty_in_months\n",
    "      \n",
    "    def get_warranty(self):\n",
    "        return self.warranty_in_months\n",
    "\n",
    "class GroceryItem(Product):\n",
    "    def set_expiry_date(self, expiry_date):\n",
    "        self.expiry_date = expiry_date\n",
    "      \n",
    "    def get_expiry_date(self):\n",
    "        return self.expiry_date    \n",
    "\n",
    "e = ElectronicItem(\"Cell\", 50, 40, 4.5)\n",
    "e.set_expiry_date(\"10 Days\")\n",
    "print(e.get_expiry_date())\n"
   ]
  },
  {
   "cell_type": "code",
   "execution_count": 2,
   "id": "d2f85c19",
   "metadata": {},
   "outputs": [
    {
     "name": "stdout",
     "output_type": "stream",
     "text": [
      "24\n"
     ]
    }
   ],
   "source": [
    "class Product:\n",
    "    def __init__(self, name, price, deal_price, ratings):\n",
    "        self.name = name\n",
    "        self.price = price\n",
    "        self.deal_price = deal_price\n",
    "        self.ratings = ratings\n",
    "        self.you_save = price - deal_price\n",
    "\n",
    "    def display_product_price(self):\n",
    "        print(\"Price: {}\".format(self.price))\n",
    "\n",
    "class ElectronicItem(Product):\n",
    "    def set_warranty(self, warranty_in_months):\n",
    "        self.warranty_in_months = warranty_in_months\n",
    "      \n",
    "    def get_warranty(self):\n",
    "        return self.warranty_in_months\n",
    "\n",
    "e = ElectronicItem(\"TV\",45000, 40000, 3.5)\n",
    "e.set_warranty(24)\n",
    "print(e.get_warranty())\n"
   ]
  },
  {
   "cell_type": "code",
   "execution_count": 3,
   "id": "40b22cbf",
   "metadata": {},
   "outputs": [
    {
     "ename": "AttributeError",
     "evalue": "'Product' object has no attribute 'set_warranty'",
     "output_type": "error",
     "traceback": [
      "\u001b[1;31m---------------------------------------------------------------------------\u001b[0m",
      "\u001b[1;31mAttributeError\u001b[0m                            Traceback (most recent call last)",
      "\u001b[1;32m<ipython-input-3-888f8a8eb9c8>\u001b[0m in \u001b[0;36m<module>\u001b[1;34m\u001b[0m\n\u001b[0;32m     18\u001b[0m \u001b[1;33m\u001b[0m\u001b[0m\n\u001b[0;32m     19\u001b[0m \u001b[0me\u001b[0m \u001b[1;33m=\u001b[0m \u001b[0mProduct\u001b[0m\u001b[1;33m(\u001b[0m\u001b[1;34m\"TV\"\u001b[0m\u001b[1;33m,\u001b[0m\u001b[1;36m45000\u001b[0m\u001b[1;33m,\u001b[0m \u001b[1;36m40000\u001b[0m\u001b[1;33m,\u001b[0m \u001b[1;36m3.5\u001b[0m\u001b[1;33m)\u001b[0m\u001b[1;33m\u001b[0m\u001b[1;33m\u001b[0m\u001b[0m\n\u001b[1;32m---> 20\u001b[1;33m \u001b[0me\u001b[0m\u001b[1;33m.\u001b[0m\u001b[0mset_warranty\u001b[0m\u001b[1;33m(\u001b[0m\u001b[1;36m24\u001b[0m\u001b[1;33m)\u001b[0m\u001b[1;33m\u001b[0m\u001b[1;33m\u001b[0m\u001b[0m\n\u001b[0m\u001b[0;32m     21\u001b[0m \u001b[0mprint\u001b[0m\u001b[1;33m(\u001b[0m\u001b[0me\u001b[0m\u001b[1;33m.\u001b[0m\u001b[0mget_warranty\u001b[0m\u001b[1;33m(\u001b[0m\u001b[1;33m)\u001b[0m\u001b[1;33m)\u001b[0m\u001b[1;33m\u001b[0m\u001b[1;33m\u001b[0m\u001b[0m\n",
      "\u001b[1;31mAttributeError\u001b[0m: 'Product' object has no attribute 'set_warranty'"
     ]
    }
   ],
   "source": [
    "class Product:\n",
    "    def __init__(self, name, price, deal_price, ratings):\n",
    "        self.name = name\n",
    "        self.price = price\n",
    "        self.deal_price = deal_price\n",
    "        self.ratings = ratings\n",
    "        self.you_save = price - deal_price\n",
    "\n",
    "    def display_product_price(self):\n",
    "        print(\"Price: {}\".format(self.price))\n",
    "\n",
    "class ElectronicItem(Product):\n",
    "    def set_warranty(self, warranty_in_months):\n",
    "        self.warranty_in_months = warranty_in_months\n",
    "      \n",
    "    def get_warranty(self):\n",
    "        return self.warranty_in_months\n",
    "\n",
    "e = Product(\"TV\",45000, 40000, 3.5)\n",
    "e.set_warranty(24)\n",
    "print(e.get_warranty())\n"
   ]
  },
  {
   "cell_type": "code",
   "execution_count": 9,
   "id": "e1d24ee0",
   "metadata": {},
   "outputs": [
    {
     "name": "stdout",
     "output_type": "stream",
     "text": [
      "9\n",
      "6\n",
      "+---------+\n",
      "|         |\n",
      "|         |\n",
      "|         |\n",
      "|         |\n",
      "|         |\n",
      "|         |\n",
      "+---------+\n"
     ]
    }
   ],
   "source": [
    "n = int(input())\n",
    "m = int(input())\n",
    "for i in range(1,n+1):\n",
    "    plus = \"+\"\n",
    "    bar = \"-\"\n",
    "    total = plus+(i*bar)+plus\n",
    "print(total)\n",
    "for k in range(1, m+1):\n",
    "    for j in range(1, n+1):\n",
    "        pole = \"|\"\n",
    "        space = \" \"\n",
    "        total2 = pole+(j*space)+pole\n",
    "    print(total2)\n",
    "print(total)"
   ]
  },
  {
   "cell_type": "code",
   "execution_count": 10,
   "id": "7bd9e977",
   "metadata": {},
   "outputs": [
    {
     "name": "stdout",
     "output_type": "stream",
     "text": [
      "6\n",
      "      1 \n",
      "     1 2 \n",
      "    1 2 3 \n",
      "   1 2 3 4 \n",
      "  1 2 3 4 5 \n",
      " 1 2 3 4 5 6 \n",
      " 1 \n",
      " 1 2  \n",
      " 1 2 3   \n",
      " 1 2 3 4    \n",
      " 1 2 3 4 5     \n",
      " 1 2 3 4 5 6      \n"
     ]
    }
   ],
   "source": [
    "n = int(input())\n",
    "numbers = \"\"\n",
    "for i in range(1, n+1):\n",
    "    spaces = \" \"*(n-i)\n",
    "    numbers =numbers+\" \" + str(i)\n",
    "    total = spaces+numbers+\" \"\n",
    "    print(total)\n",
    "k = \"\"\n",
    "for i in range(1, n+1):\n",
    "    k = k + \" \"+str(i)\n",
    "    spaces = \" \"*i\n",
    "    total = k+spaces\n",
    "    print(total)    \n",
    "\n",
    "    "
   ]
  },
  {
   "cell_type": "code",
   "execution_count": 1,
   "id": "24e86c50",
   "metadata": {},
   "outputs": [
    {
     "name": "stdout",
     "output_type": "stream",
     "text": [
      "6\n",
      "1 2 3 4 5 6 \n",
      " 1 2 3 4 5 \n",
      " 1 2 3 4"
     ]
    }
   ],
   "source": [
    "n= int(input())\n",
    "m = \"\"\n",
    "for i in range(1, n+1):\n",
    "    print(str(i)+\" \", end='')\n",
    "print()\n",
    "for i in range(1, n):\n",
    "    space = \" \"\n",
    "    print(space+str(i), end='')\n",
    "print(\" \")\n",
    "for i in range(1, n-1):\n",
    "    print(\" \"+str(i), end='')\n",
    "\n",
    "    "
   ]
  },
  {
   "cell_type": "code",
   "execution_count": 11,
   "id": "40290bc2",
   "metadata": {
    "scrolled": true
   },
   "outputs": [
    {
     "name": "stdout",
     "output_type": "stream",
     "text": [
      "6\n",
      "     ABCDE \n"
     ]
    }
   ],
   "source": [
    "alphabet = \"ABCDEFGHIJKLMNOPQRSTUVWXYZ\"\n",
    "n = int(input())\n",
    "for j in range(n):\n",
    "    for i in range(n):\n",
    "        spaces = \" \"\n",
    "        char = alphabet[:n-1]\n",
    "        total = (spaces*i) + char+\" \"\n",
    "print(total)\n",
    "    "
   ]
  },
  {
   "cell_type": "code",
   "execution_count": 15,
   "id": "7a1d4c3d",
   "metadata": {},
   "outputs": [
    {
     "name": "stdout",
     "output_type": "stream",
     "text": [
      "E\n"
     ]
    }
   ],
   "source": [
    "alphabet = \"ABCDEFGHIJKLMNOPQRSTUVWXYZ\"\n",
    "print(alphabet[4:5])"
   ]
  },
  {
   "cell_type": "code",
   "execution_count": 38,
   "id": "1730e445",
   "metadata": {},
   "outputs": [
    {
     "name": "stdout",
     "output_type": "stream",
     "text": [
      "6\n",
      "     A\n",
      "    B B\n",
      "   C   C\n",
      "  D     D\n",
      " E       E\n",
      "F         F\n",
      " E       E\n",
      "  D     D\n",
      "   C   C\n",
      "    B B\n",
      "     A\n"
     ]
    }
   ],
   "source": [
    "#Coding Practice 17 #Problem1\n",
    "alphabet = \"ABCDEFGHIJKLMNOPQRSTUVWXYZ\"\n",
    "size_of_diamond = int(input())\n",
    "#furst_row\n",
    "hollow_spaces_count = -1\n",
    "first_row = (\" \"*(size_of_diamond-1)+alphabet[:1])\n",
    "print(first_row)\n",
    "for row in range(2, size_of_diamond+1):\n",
    "    left_spaces_count = size_of_diamond - row\n",
    "    left_spaces = left_spaces_count*\" \"\n",
    "    hollow_spaces_count = hollow_spaces_count+2\n",
    "    hollow_spaces = \" \"* hollow_spaces_count\n",
    "    row_output = left_spaces+ alphabet[(row-1):row] + hollow_spaces + alphabet[(row-1):row]\n",
    "    print(row_output)\n",
    "\n",
    "for row in range(2, size_of_diamond):\n",
    "    left_spaces_count = row-1\n",
    "    left_spaces = left_spaces_count*\" \"\n",
    "    hollow_spaces_count = hollow_spaces_count-2\n",
    "    hollow_spaces = \" \"* hollow_spaces_count\n",
    "    row_output = left_spaces + alphabet[(size_of_diamond - row):(size_of_diamond-(row-1))]  + hollow_spaces + alphabet[(size_of_diamond - row):(size_of_diamond-(row-1))] \n",
    "    print(row_output)\n",
    "    \n",
    "first_row = (\" \"*(size_of_diamond-1)+alphabet[:1])\n",
    "print(first_row) \n"
   ]
  },
  {
   "cell_type": "code",
   "execution_count": 52,
   "id": "4c883a56",
   "metadata": {},
   "outputs": [
    {
     "name": "stdout",
     "output_type": "stream",
     "text": [
      "5\n",
      "1\n",
      "1\n",
      "3\n",
      "3\n",
      "9\n",
      "9\n",
      "1\n",
      "9\n"
     ]
    },
    {
     "ename": "KeyboardInterrupt",
     "evalue": "Interrupted by user",
     "output_type": "error",
     "traceback": [
      "\u001b[1;31m---------------------------------------------------------------------------\u001b[0m",
      "\u001b[1;31mKeyboardInterrupt\u001b[0m                         Traceback (most recent call last)",
      "\u001b[1;32m<ipython-input-52-bd087ef5e97f>\u001b[0m in \u001b[0;36m<module>\u001b[1;34m\u001b[0m\n\u001b[0;32m      2\u001b[0m \u001b[0mm\u001b[0m \u001b[1;33m=\u001b[0m \u001b[1;33m[\u001b[0m\u001b[1;33m]\u001b[0m\u001b[1;33m\u001b[0m\u001b[1;33m\u001b[0m\u001b[0m\n\u001b[0;32m      3\u001b[0m \u001b[1;32mfor\u001b[0m \u001b[0mi\u001b[0m \u001b[1;32min\u001b[0m \u001b[0mrange\u001b[0m\u001b[1;33m(\u001b[0m\u001b[0mn\u001b[0m\u001b[1;33m+\u001b[0m\u001b[1;36m1\u001b[0m\u001b[1;33m)\u001b[0m\u001b[1;33m:\u001b[0m\u001b[1;33m\u001b[0m\u001b[1;33m\u001b[0m\u001b[0m\n\u001b[1;32m----> 4\u001b[1;33m     \u001b[0mk\u001b[0m \u001b[1;33m=\u001b[0m \u001b[0mint\u001b[0m\u001b[1;33m(\u001b[0m\u001b[0minput\u001b[0m\u001b[1;33m(\u001b[0m\u001b[1;33m)\u001b[0m\u001b[1;33m)\u001b[0m\u001b[1;33m\u001b[0m\u001b[1;33m\u001b[0m\u001b[0m\n\u001b[0m\u001b[0;32m      5\u001b[0m     \u001b[0mm\u001b[0m\u001b[1;33m.\u001b[0m\u001b[0mappend\u001b[0m\u001b[1;33m(\u001b[0m\u001b[0mk\u001b[0m\u001b[1;33m)\u001b[0m\u001b[1;33m\u001b[0m\u001b[1;33m\u001b[0m\u001b[0m\n\u001b[0;32m      6\u001b[0m     \u001b[0mprint\u001b[0m\u001b[1;33m(\u001b[0m\u001b[0mmax\u001b[0m\u001b[1;33m(\u001b[0m\u001b[0mm\u001b[0m\u001b[1;33m)\u001b[0m\u001b[1;33m)\u001b[0m\u001b[1;33m\u001b[0m\u001b[1;33m\u001b[0m\u001b[0m\n",
      "\u001b[1;32m~\\anaconda3\\lib\\site-packages\\ipykernel\\kernelbase.py\u001b[0m in \u001b[0;36mraw_input\u001b[1;34m(self, prompt)\u001b[0m\n\u001b[0;32m    858\u001b[0m                 \u001b[1;34m\"raw_input was called, but this frontend does not support input requests.\"\u001b[0m\u001b[1;33m\u001b[0m\u001b[1;33m\u001b[0m\u001b[0m\n\u001b[0;32m    859\u001b[0m             )\n\u001b[1;32m--> 860\u001b[1;33m         return self._input_request(str(prompt),\n\u001b[0m\u001b[0;32m    861\u001b[0m             \u001b[0mself\u001b[0m\u001b[1;33m.\u001b[0m\u001b[0m_parent_ident\u001b[0m\u001b[1;33m,\u001b[0m\u001b[1;33m\u001b[0m\u001b[1;33m\u001b[0m\u001b[0m\n\u001b[0;32m    862\u001b[0m             \u001b[0mself\u001b[0m\u001b[1;33m.\u001b[0m\u001b[0m_parent_header\u001b[0m\u001b[1;33m,\u001b[0m\u001b[1;33m\u001b[0m\u001b[1;33m\u001b[0m\u001b[0m\n",
      "\u001b[1;32m~\\anaconda3\\lib\\site-packages\\ipykernel\\kernelbase.py\u001b[0m in \u001b[0;36m_input_request\u001b[1;34m(self, prompt, ident, parent, password)\u001b[0m\n\u001b[0;32m    902\u001b[0m             \u001b[1;32mexcept\u001b[0m \u001b[0mKeyboardInterrupt\u001b[0m\u001b[1;33m:\u001b[0m\u001b[1;33m\u001b[0m\u001b[1;33m\u001b[0m\u001b[0m\n\u001b[0;32m    903\u001b[0m                 \u001b[1;31m# re-raise KeyboardInterrupt, to truncate traceback\u001b[0m\u001b[1;33m\u001b[0m\u001b[1;33m\u001b[0m\u001b[1;33m\u001b[0m\u001b[0m\n\u001b[1;32m--> 904\u001b[1;33m                 \u001b[1;32mraise\u001b[0m \u001b[0mKeyboardInterrupt\u001b[0m\u001b[1;33m(\u001b[0m\u001b[1;34m\"Interrupted by user\"\u001b[0m\u001b[1;33m)\u001b[0m \u001b[1;32mfrom\u001b[0m \u001b[1;32mNone\u001b[0m\u001b[1;33m\u001b[0m\u001b[1;33m\u001b[0m\u001b[0m\n\u001b[0m\u001b[0;32m    905\u001b[0m             \u001b[1;32mexcept\u001b[0m \u001b[0mException\u001b[0m \u001b[1;32mas\u001b[0m \u001b[0me\u001b[0m\u001b[1;33m:\u001b[0m\u001b[1;33m\u001b[0m\u001b[1;33m\u001b[0m\u001b[0m\n\u001b[0;32m    906\u001b[0m                 \u001b[0mself\u001b[0m\u001b[1;33m.\u001b[0m\u001b[0mlog\u001b[0m\u001b[1;33m.\u001b[0m\u001b[0mwarning\u001b[0m\u001b[1;33m(\u001b[0m\u001b[1;34m\"Invalid Message:\"\u001b[0m\u001b[1;33m,\u001b[0m \u001b[0mexc_info\u001b[0m\u001b[1;33m=\u001b[0m\u001b[1;32mTrue\u001b[0m\u001b[1;33m)\u001b[0m\u001b[1;33m\u001b[0m\u001b[1;33m\u001b[0m\u001b[0m\n",
      "\u001b[1;31mKeyboardInterrupt\u001b[0m: Interrupted by user"
     ]
    }
   ],
   "source": [
    "n = int(input())\n",
    "m = []\n",
    "for i in range(n+1):\n",
    "    k = int(input())\n",
    "    m.append(k)\n",
    "    print(max(m))\n"
   ]
  },
  {
   "cell_type": "code",
   "execution_count": 44,
   "id": "6d5bbc88",
   "metadata": {},
   "outputs": [
    {
     "name": "stdout",
     "output_type": "stream",
     "text": [
      "[3]\n",
      "[3, 4]\n"
     ]
    }
   ],
   "source": [
    "n = []\n",
    "n.append(3)\n",
    "print(n)\n",
    "n.append(4)\n",
    "print(n)"
   ]
  },
  {
   "cell_type": "code",
   "execution_count": 66,
   "id": "c4888c73",
   "metadata": {},
   "outputs": [
    {
     "name": "stdout",
     "output_type": "stream",
     "text": [
      "6\n",
      "1 2 3 4 5 6\n",
      "[4, 5, 6]\n"
     ]
    }
   ],
   "source": [
    "n = int(input())\n",
    "m = input().split()\n",
    "j = int(n/2)\n",
    "a = []\n",
    "for i in range(len(m)):\n",
    "    j = int(m[i])\n",
    "    a.append(j)\n",
    "b = len(a)\n",
    "c = int(b/2)\n",
    "print(a[-c:])\n"
   ]
  },
  {
   "cell_type": "code",
   "execution_count": 56,
   "id": "6cf2c5a6",
   "metadata": {},
   "outputs": [
    {
     "name": "stdout",
     "output_type": "stream",
     "text": [
      "[6, 7, 8]\n"
     ]
    }
   ],
   "source": [
    "n = [1,2,3,4,5,6,7,8]\n",
    "print(n[-3:])"
   ]
  },
  {
   "cell_type": "code",
   "execution_count": 68,
   "id": "878c6f90",
   "metadata": {},
   "outputs": [
    {
     "name": "stdout",
     "output_type": "stream",
     "text": [
      "-1\n"
     ]
    }
   ],
   "source": [
    "print(max([-5, -1, -2, -3]))"
   ]
  },
  {
   "cell_type": "code",
   "execution_count": 71,
   "id": "e86b9b06",
   "metadata": {},
   "outputs": [
    {
     "name": "stdout",
     "output_type": "stream",
     "text": [
      "1 2 3 4 5 7 8\n",
      "[1, 2, 3, 4, 5, 7, 8]\n"
     ]
    }
   ],
   "source": [
    "n = input()\n",
    "n = n.split()\n",
    "box = []\n",
    "for i in range(len(n)):\n",
    "   a = int(n[i])\n",
    "   box +=[a]\n",
    "print(max(box))"
   ]
  },
  {
   "cell_type": "code",
   "execution_count": 72,
   "id": "f7869944",
   "metadata": {},
   "outputs": [
    {
     "name": "stdout",
     "output_type": "stream",
     "text": [
      "8\n"
     ]
    }
   ],
   "source": [
    "a = (1,2,3,4,5,6,7,8)\n",
    "print(max(a))"
   ]
  },
  {
   "cell_type": "code",
   "execution_count": 73,
   "id": "b00c1e9c",
   "metadata": {},
   "outputs": [
    {
     "name": "stdout",
     "output_type": "stream",
     "text": [
      "krishna\n",
      "mohanKrishna\n"
     ]
    },
    {
     "ename": "TypeError",
     "evalue": "string indices must be integers",
     "output_type": "error",
     "traceback": [
      "\u001b[1;31m---------------------------------------------------------------------------\u001b[0m",
      "\u001b[1;31mTypeError\u001b[0m                                 Traceback (most recent call last)",
      "\u001b[1;32m<ipython-input-73-3dfd3039fd64>\u001b[0m in \u001b[0;36m<module>\u001b[1;34m\u001b[0m\n\u001b[0;32m      4\u001b[0m     \u001b[0mprint\u001b[0m\u001b[1;33m(\u001b[0m\u001b[0ma\u001b[0m\u001b[1;33m)\u001b[0m\u001b[1;33m\u001b[0m\u001b[1;33m\u001b[0m\u001b[0m\n\u001b[0;32m      5\u001b[0m \u001b[1;32mfor\u001b[0m \u001b[0mi\u001b[0m \u001b[1;32min\u001b[0m \u001b[0ma\u001b[0m\u001b[1;33m,\u001b[0m \u001b[0mb\u001b[0m\u001b[1;33m:\u001b[0m\u001b[1;33m\u001b[0m\u001b[1;33m\u001b[0m\u001b[0m\n\u001b[1;32m----> 6\u001b[1;33m     \u001b[1;32mif\u001b[0m \u001b[0ma\u001b[0m\u001b[1;33m[\u001b[0m\u001b[0mi\u001b[0m\u001b[1;33m]\u001b[0m \u001b[1;33m==\u001b[0m \u001b[0mb\u001b[0m\u001b[1;33m[\u001b[0m\u001b[0mi\u001b[0m\u001b[1;33m]\u001b[0m\u001b[1;33m:\u001b[0m\u001b[1;33m\u001b[0m\u001b[1;33m\u001b[0m\u001b[0m\n\u001b[0m\u001b[0;32m      7\u001b[0m         \u001b[0mprint\u001b[0m\u001b[1;33m(\u001b[0m\u001b[0ma\u001b[0m\u001b[1;33m,\u001b[0m\u001b[0mb\u001b[0m\u001b[1;33m)\u001b[0m\u001b[1;33m\u001b[0m\u001b[1;33m\u001b[0m\u001b[0m\n",
      "\u001b[1;31mTypeError\u001b[0m: string indices must be integers"
     ]
    }
   ],
   "source": [
    "a = input()\n",
    "b = input()\n",
    "if a == b:\n",
    "    print(a)\n",
    "for i in a, b:\n",
    "    if a[i] == b[i]:\n",
    "        print(a,b)"
   ]
  },
  {
   "cell_type": "code",
   "execution_count": null,
   "id": "b98fcb89",
   "metadata": {},
   "outputs": [],
   "source": []
  }
 ],
 "metadata": {
  "kernelspec": {
   "display_name": "Python 3",
   "language": "python",
   "name": "python3"
  },
  "language_info": {
   "codemirror_mode": {
    "name": "ipython",
    "version": 3
   },
   "file_extension": ".py",
   "mimetype": "text/x-python",
   "name": "python",
   "nbconvert_exporter": "python",
   "pygments_lexer": "ipython3",
   "version": "3.8.8"
  }
 },
 "nbformat": 4,
 "nbformat_minor": 5
}
