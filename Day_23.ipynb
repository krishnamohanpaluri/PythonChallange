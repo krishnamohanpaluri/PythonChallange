{
 "cells": [
  {
   "cell_type": "code",
   "execution_count": 14,
   "id": "796fe168",
   "metadata": {},
   "outputs": [
    {
     "name": "stdout",
     "output_type": "stream",
     "text": [
      "5\n",
      "*\n",
      "*  *\n",
      "*    *\n",
      "*      *\n",
      "* * * * * \n"
     ]
    }
   ],
   "source": [
    "n = int(input())\n",
    "print(\"*\")\n",
    "for i in range(1,n-1):\n",
    "    stars = \"*\"\n",
    "    space =\"  \"*i\n",
    "    patern = stars+space+stars\n",
    "    \n",
    "    print(patern)\n",
    "print(\"* \"*n)"
   ]
  },
  {
   "cell_type": "code",
   "execution_count": 15,
   "id": "0f1c86b4",
   "metadata": {},
   "outputs": [
    {
     "name": "stdout",
     "output_type": "stream",
     "text": [
      "cammnad\n"
     ]
    },
    {
     "ename": "ValueError",
     "evalue": "invalid literal for int() with base 10: 'cammnad'",
     "output_type": "error",
     "traceback": [
      "\u001b[1;31m---------------------------------------------------------------------------\u001b[0m",
      "\u001b[1;31mValueError\u001b[0m                                Traceback (most recent call last)",
      "\u001b[1;32m<ipython-input-15-b05c55056356>\u001b[0m in \u001b[0;36m<module>\u001b[1;34m\u001b[0m\n\u001b[1;32m----> 1\u001b[1;33m \u001b[0mn\u001b[0m \u001b[1;33m=\u001b[0m \u001b[0mint\u001b[0m\u001b[1;33m(\u001b[0m\u001b[0minput\u001b[0m\u001b[1;33m(\u001b[0m\u001b[1;33m)\u001b[0m\u001b[1;33m)\u001b[0m\u001b[1;33m\u001b[0m\u001b[1;33m\u001b[0m\u001b[0m\n\u001b[0m\u001b[0;32m      2\u001b[0m \u001b[1;33m\u001b[0m\u001b[0m\n\u001b[0;32m      3\u001b[0m \u001b[0mnums_list\u001b[0m \u001b[1;33m=\u001b[0m \u001b[1;33m[\u001b[0m\u001b[1;33m]\u001b[0m\u001b[1;33m\u001b[0m\u001b[1;33m\u001b[0m\u001b[0m\n\u001b[0;32m      4\u001b[0m \u001b[1;32mfor\u001b[0m \u001b[0mi\u001b[0m \u001b[1;32min\u001b[0m \u001b[0mrange\u001b[0m\u001b[1;33m(\u001b[0m\u001b[0mn\u001b[0m\u001b[1;33m)\u001b[0m\u001b[1;33m:\u001b[0m\u001b[1;33m\u001b[0m\u001b[1;33m\u001b[0m\u001b[0m\n\u001b[0;32m      5\u001b[0m    \u001b[0mcommand\u001b[0m \u001b[1;33m=\u001b[0m \u001b[0minput\u001b[0m\u001b[1;33m(\u001b[0m\u001b[1;33m)\u001b[0m\u001b[1;33m.\u001b[0m\u001b[0msplit\u001b[0m\u001b[1;33m(\u001b[0m\u001b[1;33m)\u001b[0m\u001b[1;33m\u001b[0m\u001b[1;33m\u001b[0m\u001b[0m\n",
      "\u001b[1;31mValueError\u001b[0m: invalid literal for int() with base 10: 'cammnad'"
     ]
    }
   ],
   "source": [
    " n = int(input())\n",
    "\n",
    "nums_list = []\n",
    "for i in range(n):\n",
    "    command = input().split()\n",
    "    if command[0] == 'insert':\n",
    "        index = int(command[1])\n",
    "        value = int(command[2])\n",
    "        nums_list.insert(index, value)\n",
    "    elif command[0] == 'append':\n",
    "        value = int(command[1])\n",
    "        nums_list.append(value)\n",
    "    elif command[0] == 'pop':\n",
    "        nums_list.pop()\n",
    "    elif command[0] == \"remove\":\n",
    "        value = int(command[1])\n",
    "        nums_list.remove(value)\n",
    "    elif command[0] == \"sort\":\n",
    "        nums_list.sort()\n",
    "    elif command[0] == \"print\":\n",
    "        print(nums_list)\n"
   ]
  },
  {
   "cell_type": "code",
   "execution_count": 16,
   "id": "609fc882",
   "metadata": {},
   "outputs": [
    {
     "name": "stdout",
     "output_type": "stream",
     "text": [
      "3 234 4\n"
     ]
    },
    {
     "ename": "TypeError",
     "evalue": "unsupported operand type(s) for ** or pow(): 'str' and 'int'",
     "output_type": "error",
     "traceback": [
      "\u001b[1;31m---------------------------------------------------------------------------\u001b[0m",
      "\u001b[1;31mTypeError\u001b[0m                                 Traceback (most recent call last)",
      "\u001b[1;32m<ipython-input-16-58562035fad8>\u001b[0m in \u001b[0;36m<module>\u001b[1;34m\u001b[0m\n\u001b[0;32m      3\u001b[0m \u001b[1;33m\u001b[0m\u001b[0m\n\u001b[0;32m      4\u001b[0m \u001b[1;32mfor\u001b[0m \u001b[0mnum\u001b[0m \u001b[1;32min\u001b[0m \u001b[0mlist_a\u001b[0m\u001b[1;33m:\u001b[0m\u001b[1;33m\u001b[0m\u001b[1;33m\u001b[0m\u001b[0m\n\u001b[1;32m----> 5\u001b[1;33m     \u001b[0mlist_x\u001b[0m \u001b[1;33m+=\u001b[0m \u001b[0mint\u001b[0m\u001b[1;33m(\u001b[0m\u001b[0mnum\u001b[0m\u001b[1;33m**\u001b[0m\u001b[1;36m2\u001b[0m\u001b[1;33m)\u001b[0m\u001b[1;33m\u001b[0m\u001b[1;33m\u001b[0m\u001b[0m\n\u001b[0m\u001b[0;32m      6\u001b[0m \u001b[1;33m\u001b[0m\u001b[0m\n\u001b[0;32m      7\u001b[0m \u001b[0mprint\u001b[0m\u001b[1;33m(\u001b[0m\u001b[0mlist_x\u001b[0m\u001b[1;33m)\u001b[0m\u001b[1;33m\u001b[0m\u001b[1;33m\u001b[0m\u001b[0m\n",
      "\u001b[1;31mTypeError\u001b[0m: unsupported operand type(s) for ** or pow(): 'str' and 'int'"
     ]
    }
   ],
   "source": [
    "list_a = input().split()\n",
    "list_x = []\n",
    "\n",
    "for num in list_a:\n",
    "    list_x += int(num**2)\n",
    "\n",
    "print(list_x)\n"
   ]
  },
  {
   "cell_type": "code",
   "execution_count": 17,
   "id": "b5e273c6",
   "metadata": {},
   "outputs": [
    {
     "name": "stdout",
     "output_type": "stream",
     "text": [
      "{1, 2, 3, 4, 5}\n"
     ]
    }
   ],
   "source": [
    "set_a = {0, 1, 2, 3, 4, 5}\n",
    "set_b =  {2, 4, 6, 8}\n",
    "set_c = {1, 3, 5, 7}\n",
    "\n",
    "result_1 = set_a.intersection(set_b)\n",
    "result_2 = set_a.intersection(set_c)\n",
    "result_3 = result_1.union(result_2)\n",
    "print(result_3)\n"
   ]
  },
  {
   "cell_type": "code",
   "execution_count": 18,
   "id": "a018e6df",
   "metadata": {},
   "outputs": [
    {
     "name": "stdout",
     "output_type": "stream",
     "text": [
      "{8, 4, 12}\n"
     ]
    }
   ],
   "source": [
    "set_a = {2, 4, 6, 8}\n",
    "set_b = {3, 6, 9, 12}\n",
    "set_c = {4, 8, 12, 16}\n",
    "result_1 = set_a | set_b\n",
    "result_2 = set_c & result_1\n",
    "print(result_2)\n"
   ]
  },
  {
   "cell_type": "code",
   "execution_count": 19,
   "id": "54b77e98",
   "metadata": {},
   "outputs": [
    {
     "name": "stdout",
     "output_type": "stream",
     "text": [
      "{8, 1, 4}\n"
     ]
    }
   ],
   "source": [
    "set_a = {4, 2, 8}\n",
    "set_b = {1, 2}\n",
    "result = set_a ^ set_b\n",
    "print(result)\n"
   ]
  },
  {
   "cell_type": "code",
   "execution_count": 20,
   "id": "c8d77ee8",
   "metadata": {},
   "outputs": [
    {
     "name": "stdout",
     "output_type": "stream",
     "text": [
      "True\n"
     ]
    }
   ],
   "source": [
    "set_1 = {'a', 1, 3, 5}\n",
    "set_2 = {'a', 1}\n",
    "result = set_2.issubset(set_1)\n",
    "print(result)\n"
   ]
  },
  {
   "cell_type": "code",
   "execution_count": 21,
   "id": "83ee37d0",
   "metadata": {},
   "outputs": [
    {
     "name": "stdout",
     "output_type": "stream",
     "text": [
      "False\n"
     ]
    }
   ],
   "source": [
    "set_a = {4, 2, 8}\n",
    "set_b = {1, 2}\n",
    "\n",
    "result_1 = set_a - set_b\n",
    "result_2 = set_a.difference(set_a)\n",
    "\n",
    "equal = result_1 == result_2\n",
    "print(equal)\n"
   ]
  },
  {
   "cell_type": "code",
   "execution_count": 22,
   "id": "7246ced3",
   "metadata": {},
   "outputs": [
    {
     "name": "stdout",
     "output_type": "stream",
     "text": [
      "False\n"
     ]
    }
   ],
   "source": [
    "set_a = {'a', 'b', 'c', 'd'}\n",
    "set_b =  {'A', 'B', 'C', 'D'}\n",
    "set_c = {'a', 'B', 'c', 'D'}\n",
    "\n",
    "result_1 = set_a.union(set_b)\n",
    "result_2 = result_1.issubset(set_c)\n",
    "print(result_2)"
   ]
  },
  {
   "cell_type": "code",
   "execution_count": 23,
   "id": "072bef11",
   "metadata": {},
   "outputs": [
    {
     "name": "stdout",
     "output_type": "stream",
     "text": [
      "{8, 4}\n"
     ]
    }
   ],
   "source": [
    "set_a = {4, 2, 8}\n",
    "tuple_a = (1, 2)\n",
    "result = set_a.difference(tuple_a)\n",
    "print(result)\n"
   ]
  },
  {
   "cell_type": "code",
   "execution_count": 24,
   "id": "0fa45528",
   "metadata": {},
   "outputs": [
    {
     "name": "stdout",
     "output_type": "stream",
     "text": [
      "True\n"
     ]
    }
   ],
   "source": [
    "set_a = {1, 2}\n",
    "set_b = {3, 4}\n",
    "result = set_a.isdisjoint(set_b)\n",
    "print(result)\n"
   ]
  },
  {
   "cell_type": "code",
   "execution_count": 25,
   "id": "413e5fd1",
   "metadata": {},
   "outputs": [
    {
     "name": "stdout",
     "output_type": "stream",
     "text": [
      "True\n"
     ]
    }
   ],
   "source": [
    "set_1 = {'a', 1, 3, 5}\n",
    "set_2 = {'a', 1}\n",
    "result = set_2.issubset(set_1)\n",
    "print(result)\n"
   ]
  },
  {
   "cell_type": "code",
   "execution_count": 26,
   "id": "e6b09da8",
   "metadata": {},
   "outputs": [
    {
     "name": "stdout",
     "output_type": "stream",
     "text": [
      "{8, 1, 4}\n"
     ]
    }
   ],
   "source": [
    "set_a = {4, 2, 8}\n",
    "set_b = {1, 2}\n",
    "result = set_a.symmetric_difference(set_b)\n",
    "print(result)\n"
   ]
  },
  {
   "cell_type": "code",
   "execution_count": 27,
   "id": "8e46aa80",
   "metadata": {},
   "outputs": [
    {
     "name": "stdout",
     "output_type": "stream",
     "text": [
      "{2}\n"
     ]
    }
   ],
   "source": [
    "set_a = {4, 2, 8}\n",
    "set_b = {1, 2}\n",
    "result = set_a & set_b\n",
    "print(result)\n"
   ]
  },
  {
   "cell_type": "code",
   "execution_count": null,
   "id": "8a95f58b",
   "metadata": {},
   "outputs": [],
   "source": [
    "list_a = [1,2,3,4,5,6,7,8]\n",
    "for i in range(len(list_a)):\n",
    "    list_a = list_a.tt"
   ]
  },
  {
   "cell_type": "code",
   "execution_count": 38,
   "id": "ff5f851d",
   "metadata": {},
   "outputs": [
    {
     "name": "stdout",
     "output_type": "stream",
     "text": [
      "[2, 3, 4, 5, 6, 7, 8]\n",
      "[2, 4, 5, 6, 7, 8]\n",
      "[2, 4, 6, 7, 8]\n",
      "[2, 4, 6, 8]\n"
     ]
    },
    {
     "ename": "IndexError",
     "evalue": "list index out of range",
     "output_type": "error",
     "traceback": [
      "\u001b[1;31m---------------------------------------------------------------------------\u001b[0m",
      "\u001b[1;31mIndexError\u001b[0m                                Traceback (most recent call last)",
      "\u001b[1;32m<ipython-input-38-a5732bc295b2>\u001b[0m in \u001b[0;36m<module>\u001b[1;34m\u001b[0m\n\u001b[0;32m      1\u001b[0m \u001b[0mlist_a\u001b[0m \u001b[1;33m=\u001b[0m \u001b[1;33m[\u001b[0m\u001b[1;36m1\u001b[0m\u001b[1;33m,\u001b[0m\u001b[1;36m2\u001b[0m\u001b[1;33m,\u001b[0m\u001b[1;36m3\u001b[0m\u001b[1;33m,\u001b[0m\u001b[1;36m4\u001b[0m\u001b[1;33m,\u001b[0m\u001b[1;36m5\u001b[0m\u001b[1;33m,\u001b[0m\u001b[1;36m6\u001b[0m\u001b[1;33m,\u001b[0m\u001b[1;36m7\u001b[0m\u001b[1;33m,\u001b[0m\u001b[1;36m8\u001b[0m\u001b[1;33m]\u001b[0m\u001b[1;33m\u001b[0m\u001b[1;33m\u001b[0m\u001b[0m\n\u001b[0;32m      2\u001b[0m \u001b[1;32mfor\u001b[0m \u001b[0mi\u001b[0m \u001b[1;32min\u001b[0m \u001b[0mrange\u001b[0m\u001b[1;33m(\u001b[0m\u001b[0mlen\u001b[0m\u001b[1;33m(\u001b[0m\u001b[0mlist_a\u001b[0m\u001b[1;33m)\u001b[0m\u001b[1;33m)\u001b[0m\u001b[1;33m:\u001b[0m\u001b[1;33m\u001b[0m\u001b[1;33m\u001b[0m\u001b[0m\n\u001b[1;32m----> 3\u001b[1;33m     \u001b[0ma\u001b[0m \u001b[1;33m=\u001b[0m \u001b[0mlist_a\u001b[0m\u001b[1;33m[\u001b[0m\u001b[0mi\u001b[0m\u001b[1;33m]\u001b[0m\u001b[1;33m\u001b[0m\u001b[1;33m\u001b[0m\u001b[0m\n\u001b[0m\u001b[0;32m      4\u001b[0m     \u001b[1;31m#print(a)\u001b[0m\u001b[1;33m\u001b[0m\u001b[1;33m\u001b[0m\u001b[1;33m\u001b[0m\u001b[0m\n\u001b[0;32m      5\u001b[0m     \u001b[1;32mdel\u001b[0m \u001b[0mlist_a\u001b[0m\u001b[1;33m[\u001b[0m\u001b[0mi\u001b[0m\u001b[1;33m]\u001b[0m\u001b[1;33m\u001b[0m\u001b[1;33m\u001b[0m\u001b[0m\n",
      "\u001b[1;31mIndexError\u001b[0m: list index out of range"
     ]
    }
   ],
   "source": [
    "list_a = [1,2,3,4,5,6,7,8]\n",
    "list_c = [1,2,3,4,5,6,7,8]\n",
    "for i in range(len(list_a)):\n",
    "    a = list_a[i]\n",
    "    #print(a)\n",
    "    del list_a[i]\n",
    "    print(list_a)"
   ]
  },
  {
   "cell_type": "code",
   "execution_count": null,
   "id": "0ff2d382",
   "metadata": {},
   "outputs": [],
   "source": [
    "a = [1,2,3,4,5,6,7,8]\n",
    "a = set(a)\n",
    "print(a)"
   ]
  },
  {
   "cell_type": "code",
   "execution_count": null,
   "id": "7ce9073d",
   "metadata": {},
   "outputs": [],
   "source": [
    "num_set = {10, 20, 30, 40, 50, 60, 70, 80, 90, 100}\n",
    "# Write your code here\n",
    "n = input()\n",
    "n = n.split()\n",
    "box = []\n",
    "for i in range(len(n)):\n",
    "   box.append(int(n[i]))\n",
    "box = set(box)\n",
    "dif = num_set.difference(box)\n",
    "dif = list(dif)\n",
    "dif = dif.sort()\n",
    "print(dif)"
   ]
  },
  {
   "cell_type": "code",
   "execution_count": null,
   "id": "60387a9e",
   "metadata": {},
   "outputs": [],
   "source": [
    "num_set = {10, 20, 30, 40, 50, 60, 70, 80, 90, 100}\n",
    "# Write your code here\n",
    "n = input()\n",
    "n = n.split()\n",
    "box = []\n",
    "for i in range(len(n)):\n",
    "   box.append(int(n[i]))\n",
    "box = set(box)\n",
    "dif = num_set.difference(box)\n",
    "print(dif)"
   ]
  },
  {
   "cell_type": "code",
   "execution_count": 45,
   "id": "29162343",
   "metadata": {},
   "outputs": [
    {
     "name": "stdout",
     "output_type": "stream",
     "text": [
      "100\n"
     ]
    }
   ],
   "source": [
    "num_set = [10, 20, 30, 40, 50, 60, 70, 80, 90, 100]\n",
    "a = len(num_set)\n",
    "print(num_set[(a-1)])"
   ]
  },
  {
   "cell_type": "code",
   "execution_count": null,
   "id": "3cdf6e6a",
   "metadata": {},
   "outputs": [],
   "source": []
  }
 ],
 "metadata": {
  "kernelspec": {
   "display_name": "Python 3",
   "language": "python",
   "name": "python3"
  },
  "language_info": {
   "codemirror_mode": {
    "name": "ipython",
    "version": 3
   },
   "file_extension": ".py",
   "mimetype": "text/x-python",
   "name": "python",
   "nbconvert_exporter": "python",
   "pygments_lexer": "ipython3",
   "version": "3.8.8"
  }
 },
 "nbformat": 4,
 "nbformat_minor": 5
}
