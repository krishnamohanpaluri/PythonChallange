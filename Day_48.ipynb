{
 "cells": [
  {
   "cell_type": "code",
   "execution_count": 10,
   "id": "25752ed4",
   "metadata": {},
   "outputs": [
    {
     "name": "stdout",
     "output_type": "stream",
     "text": [
      "1 2 3 4 5 6 7 8 9 4 6 8 34 64 2 4\n",
      "4\n",
      "0\n",
      "1\n",
      "2\n",
      "3\n",
      "4\n",
      "5\n",
      "6\n",
      "7\n",
      "8\n",
      "3\n",
      "5\n",
      "7\n",
      "12\n",
      "13\n",
      "1\n",
      "3\n"
     ]
    }
   ],
   "source": [
    "a = input().split()\n",
    "b = int(input())\n",
    "n = []\n",
    "index_list = []\n",
    "for i in a:\n",
    "    n.append(int(i))\n",
    "for i in n:\n",
    "    print(n.index(i))"
   ]
  },
  {
   "cell_type": "code",
   "execution_count": 11,
   "id": "2d01f44d",
   "metadata": {},
   "outputs": [
    {
     "name": "stdout",
     "output_type": "stream",
     "text": [
      "1,2,3,4,5,6,7\n",
      "['1', '2', '3', '4', '5', '6', '7']\n"
     ]
    }
   ],
   "source": [
    "n = int(input())\n",
    "t = int(input())\n",
    "numbers = [int(input()) for _ in range(n)]\n",
    "for _ in range(t):\n",
    "    print(numbers[int(input())])"
   ]
  },
  {
   "cell_type": "code",
   "execution_count": null,
   "id": "c9abc5fe",
   "metadata": {},
   "outputs": [],
   "source": [
    "\n",
    "\n"
   ]
  }
 ],
 "metadata": {
  "kernelspec": {
   "display_name": "Python 3",
   "language": "python",
   "name": "python3"
  },
  "language_info": {
   "codemirror_mode": {
    "name": "ipython",
    "version": 3
   },
   "file_extension": ".py",
   "mimetype": "text/x-python",
   "name": "python",
   "nbconvert_exporter": "python",
   "pygments_lexer": "ipython3",
   "version": "3.8.8"
  }
 },
 "nbformat": 4,
 "nbformat_minor": 5
}
