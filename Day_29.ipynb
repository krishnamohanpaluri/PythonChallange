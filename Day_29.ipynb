{
 "cells": [
  {
   "cell_type": "code",
   "execution_count": 1,
   "id": "1300f0cf",
   "metadata": {},
   "outputs": [
    {
     "name": "stdout",
     "output_type": "stream",
     "text": [
      "Ravi Kumar\n"
     ]
    }
   ],
   "source": [
    "class Person:\n",
    "    def __init__(self, first_name, last_name):\n",
    "        self.first_name = first_name\n",
    "        self.last_name = last_name\n",
    "    \n",
    "    def full_name(self, first_name=\"Sai\", last_name=\"Megha\"):\n",
    "        return \"{} {}\".format(self.first_name, self.last_name)\n",
    "\n",
    "person_obj = Person(\"Ravi\", \"Kumar\")\n",
    "full_name = person_obj.full_name()\n",
    "print(full_name)\n"
   ]
  },
  {
   "cell_type": "code",
   "execution_count": 2,
   "id": "43d990bb",
   "metadata": {},
   "outputs": [
    {
     "name": "stdout",
     "output_type": "stream",
     "text": [
      "{'book': 500, 'laptop': 30000}\n"
     ]
    }
   ],
   "source": [
    "class Cart:\n",
    "  def __init__(self):\n",
    "      self.items = {}\n",
    "      self.price_details = {\"book\": 500, \"laptop\": 30000}\n",
    "\n",
    "cart_1 = Cart()\n",
    "print(cart_1.price_details)\n"
   ]
  },
  {
   "cell_type": "code",
   "execution_count": 3,
   "id": "8a825520",
   "metadata": {},
   "outputs": [],
   "source": [
    "class Employee:\n",
    "    def __init__(self, first_name, last_name, email, pay):\n",
    "        self.first_name = first_name \n",
    "        self.last_name = last_name\n",
    "        self.email = email\n",
    "        self.pay = pay\n",
    "\n",
    "\n",
    "emp_1 = Employee(\"Teja\", \"Sai\", \"teja.sai@company.com\", 50000)\n",
    "emp_2 = Employee(\"Sai\", \"Kumar\", \"sai.kumar@company.com\", 60000)\n"
   ]
  },
  {
   "cell_type": "code",
   "execution_count": 4,
   "id": "6432fa28",
   "metadata": {},
   "outputs": [
    {
     "ename": "TypeError",
     "evalue": "__init__() missing 1 required positional argument: 'a'",
     "output_type": "error",
     "traceback": [
      "\u001b[1;31m---------------------------------------------------------------------------\u001b[0m",
      "\u001b[1;31mTypeError\u001b[0m                                 Traceback (most recent call last)",
      "\u001b[1;32m<ipython-input-4-56dc82e189f4>\u001b[0m in \u001b[0;36m<module>\u001b[1;34m\u001b[0m\n\u001b[0;32m      6\u001b[0m                 \u001b[0mprint\u001b[0m\u001b[1;33m(\u001b[0m\u001b[0mself\u001b[0m\u001b[1;33m.\u001b[0m\u001b[0ma\u001b[0m\u001b[1;33m)\u001b[0m\u001b[1;33m\u001b[0m\u001b[1;33m\u001b[0m\u001b[0m\n\u001b[0;32m      7\u001b[0m \u001b[1;33m\u001b[0m\u001b[0m\n\u001b[1;32m----> 8\u001b[1;33m \u001b[0mobj\u001b[0m \u001b[1;33m=\u001b[0m \u001b[0mTest\u001b[0m\u001b[1;33m(\u001b[0m\u001b[1;33m)\u001b[0m\u001b[1;33m\u001b[0m\u001b[1;33m\u001b[0m\u001b[0m\n\u001b[0m\u001b[0;32m      9\u001b[0m \u001b[0mobj\u001b[0m\u001b[1;33m.\u001b[0m\u001b[0mdisplay\u001b[0m\u001b[1;33m(\u001b[0m\u001b[1;33m)\u001b[0m\u001b[1;33m\u001b[0m\u001b[1;33m\u001b[0m\u001b[0m\n",
      "\u001b[1;31mTypeError\u001b[0m: __init__() missing 1 required positional argument: 'a'"
     ]
    }
   ],
   "source": [
    "class Test:\n",
    "\tdef __init__(self,a):\n",
    "\t\tself.a=a\n",
    "\n",
    "\tdef display(self):\n",
    "\t\tprint(self.a)\n",
    "\n",
    "obj = Test()\n",
    "obj.display()\n"
   ]
  },
  {
   "cell_type": "code",
   "execution_count": 5,
   "id": "5ff1bcba",
   "metadata": {},
   "outputs": [
    {
     "name": "stdout",
     "output_type": "stream",
     "text": [
      "Ravi Kumar\n",
      "None\n"
     ]
    }
   ],
   "source": [
    "class Person:\n",
    "    def __init__(self, first_name, last_name):\n",
    "        self.first_name = first_name\n",
    "        self.last_name = last_name\n",
    "    \n",
    "    def full_name(self):\n",
    "        print(\"{} {}\".format(self.first_name, self.last_name))\n",
    "\n",
    "person_obj = Person(\"Ravi\", \"Kumar\")\n",
    "full_name = person_obj.full_name()\n",
    "print(full_name)\n"
   ]
  },
  {
   "cell_type": "code",
   "execution_count": 7,
   "id": "2ad79b06",
   "metadata": {},
   "outputs": [],
   "source": [
    "class Employee:\n",
    "    def __init__(self, first_name, last_name, email, pay):\n",
    "        self.first_name = first_name \n",
    "        self.last_name = last_name\n",
    "        self.email = email\n",
    "        self.pay = pay\n",
    "\n",
    "\n",
    "emp_1 = Employee(\"Teja\", \"Sai\", \"teja.sai@company.com\", 50000)\n",
    "emp_2 = Employee(\"Sai\", \"Kumar\", \"sai.kumar@company.com\", 60000)\n"
   ]
  },
  {
   "cell_type": "code",
   "execution_count": 8,
   "id": "d44b5c7b",
   "metadata": {},
   "outputs": [
    {
     "name": "stdout",
     "output_type": "stream",
     "text": [
      "Ravi Kumar\n"
     ]
    }
   ],
   "source": [
    "class Person:\n",
    "    def __init__(self, first_name, last_name):\n",
    "        self.first_name = first_name\n",
    "        self.last_name = last_name\n",
    "    \n",
    "    def full_name(self, first_name=\"Sai\", last_name=\"Megha\"):\n",
    "        return \"{} {}\".format(self.first_name, self.last_name)\n",
    "\n",
    "person_obj = Person(\"Ravi\", \"Kumar\")\n",
    "full_name = person_obj.full_name(\"Sai\", \"Megha\")\n",
    "print(full_name)\n"
   ]
  },
  {
   "cell_type": "code",
   "execution_count": null,
   "id": "339945b3",
   "metadata": {},
   "outputs": [],
   "source": [
    "class cart:\n",
    "    flat_discount = 0\n",
    "    min_bill = 100\n",
    "    @classmethod\n",
    "    "
   ]
  }
 ],
 "metadata": {
  "kernelspec": {
   "display_name": "Python 3",
   "language": "python",
   "name": "python3"
  },
  "language_info": {
   "codemirror_mode": {
    "name": "ipython",
    "version": 3
   },
   "file_extension": ".py",
   "mimetype": "text/x-python",
   "name": "python",
   "nbconvert_exporter": "python",
   "pygments_lexer": "ipython3",
   "version": "3.8.8"
  }
 },
 "nbformat": 4,
 "nbformat_minor": 5
}
