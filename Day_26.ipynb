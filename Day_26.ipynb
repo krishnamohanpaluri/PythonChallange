{
 "cells": [
  {
   "cell_type": "markdown",
   "id": "fe6aac18",
   "metadata": {},
   "source": [
    "# Fuctions Excersize."
   ]
  },
  {
   "cell_type": "markdown",
   "id": "14e30bc6",
   "metadata": {},
   "source": [
    "1. Write a Program to print the largets of three numbers."
   ]
  },
  {
   "cell_type": "code",
   "execution_count": 2,
   "id": "abd5c2ee",
   "metadata": {
    "scrolled": true
   },
   "outputs": [
    {
     "name": "stdout",
     "output_type": "stream",
     "text": [
      "5\n",
      "8\n",
      "9\n"
     ]
    },
    {
     "data": {
      "text/plain": [
       "9"
      ]
     },
     "execution_count": 2,
     "metadata": {},
     "output_type": "execute_result"
    }
   ],
   "source": [
    "def max_of_two(x,y):\n",
    "    if x>y:\n",
    "        return x\n",
    "    return y\n",
    "def max_of_three(x,y,z):\n",
    "    return max_of_two(x, max_of_two(y,z))\n",
    "a = int(input())\n",
    "b = int(input())\n",
    "c = int(input())\n",
    "max_of_three(a,b,c)"
   ]
  },
  {
   "cell_type": "markdown",
   "id": "213109a0",
   "metadata": {},
   "source": [
    "2. write a program multiply all the numbers in a given list/tuple/set"
   ]
  },
  {
   "cell_type": "code",
   "execution_count": 6,
   "id": "e848bda8",
   "metadata": {},
   "outputs": [
    {
     "name": "stdout",
     "output_type": "stream",
     "text": [
      "3\n",
      "3\n",
      "6\n",
      "4\n"
     ]
    },
    {
     "data": {
      "text/plain": [
       "72"
      ]
     },
     "execution_count": 6,
     "metadata": {},
     "output_type": "execute_result"
    }
   ],
   "source": [
    "def multiply(numbers):\n",
    "    total = 1\n",
    "    for i in numbers:\n",
    "        total *= i\n",
    "    return total\n",
    "n = int(input())\n",
    "numbers=[]\n",
    "for i in range(n):\n",
    "    k = int(input())\n",
    "    numbers.append(k)\n",
    "\n",
    "multiply(numbers)"
   ]
  },
  {
   "cell_type": "code",
   "execution_count": 27,
   "id": "1f059f1d",
   "metadata": {},
   "outputs": [
    {
     "name": "stdout",
     "output_type": "stream",
     "text": [
      "5\n",
      "1 2 3 4 5 \n",
      " 1 2 3 4 \n",
      "  1 2 3 \n",
      "   1 2 \n",
      "    1 \n"
     ]
    }
   ],
   "source": [
    "n = int(input())\n",
    "for i in range(1, n+1):\n",
    "    spaces = \" \"*(i-1)\n",
    "    k = n - (i-1)\n",
    "    number = ''\n",
    "    for j in range(1,k+1):\n",
    "            number = number + (str(j)+' ')\n",
    "    print(spaces+number)\n",
    "      "
   ]
  },
  {
   "cell_type": "code",
   "execution_count": 25,
   "id": "39e7f74f",
   "metadata": {},
   "outputs": [
    {
     "name": "stdout",
     "output_type": "stream",
     "text": [
      "5\n",
      "1 2 3 4 5 \n",
      " 1 2 3 4 \n",
      "  1 2 3 \n",
      "   1 2 \n",
      "    1 \n"
     ]
    }
   ],
   "source": [
    "n = int(input())\n",
    "for row in range(1, n+1):\n",
    "    left_spaces = \" \" * (row-1)\n",
    "    i = n - (row-1)\n",
    "    numbers = \"\"\n",
    "    for j in range(1, i+1):\n",
    "        numbers = numbers + (str(j) + \" \")\n",
    "    print(left_spaces + numbers)\n"
   ]
  },
  {
   "cell_type": "code",
   "execution_count": 38,
   "id": "5827060a",
   "metadata": {},
   "outputs": [
    {
     "name": "stdout",
     "output_type": "stream",
     "text": [
      "5\n",
      "* * * * * \n",
      "*     * \n",
      "*   * \n",
      "* * \n",
      "* \n"
     ]
    }
   ],
   "source": [
    "n = int(input())\n",
    "print(\"* \"*n)\n",
    "for i in range(1, n-1):\n",
    "    stars = \"* \"\n",
    "    space =\"  \"*((n - i-2))\n",
    "    patern = stars+space+stars \n",
    "    print(patern)\n",
    "print(\"* \")"
   ]
  },
  {
   "cell_type": "code",
   "execution_count": 29,
   "id": "cb350b71",
   "metadata": {},
   "outputs": [
    {
     "name": "stdout",
     "output_type": "stream",
     "text": [
      "5\n",
      "* \n",
      "* * \n",
      "*   * \n",
      "*     * \n",
      "* * * * * \n"
     ]
    }
   ],
   "source": [
    "N = int(input())\n",
    "\n",
    "print(\"* \")\n",
    "for i in range(N-2):\n",
    "    hollow_spaces = \" \"*(2*i)\n",
    "    hollow_line = \"* \" + hollow_spaces + \"* \" \n",
    "    print(hollow_line)\n",
    "\n",
    "star_line = \"* \" * N\n",
    "print(star_line)"
   ]
  },
  {
   "cell_type": "code",
   "execution_count": 35,
   "id": "d9debcad",
   "metadata": {},
   "outputs": [
    {
     "name": "stdout",
     "output_type": "stream",
     "text": [
      "5\n",
      "* * * * * \n",
      "*     * \n",
      "*   * \n",
      "* * \n",
      "* \n"
     ]
    }
   ],
   "source": [
    "N = int(input())\n",
    "\n",
    "star_line = \"* \" * N\n",
    "print(star_line)\n",
    "\n",
    "for row in range(1, N-1):\n",
    "    hollow_spaces = \"  \"*(N-row-2)\n",
    "    hollow_line = \"* \" + hollow_spaces + \"* \"\n",
    "    print(hollow_line)\n",
    "\n",
    "print(\"* \")\n"
   ]
  },
  {
   "cell_type": "code",
   "execution_count": 39,
   "id": "24fc8876",
   "metadata": {},
   "outputs": [
    {
     "name": "stdout",
     "output_type": "stream",
     "text": [
      "sdf6516\n",
      "Invalid PIN Code\n"
     ]
    }
   ],
   "source": [
    "def validate_atm_pin_code(pin):\n",
    "    is_valid = True\n",
    "    is_having_four_or_six_characters = (len(pin) == 4) or (len(pin) == 6)\n",
    "\n",
    "    if is_having_four_or_six_characters:\n",
    "        is_all_digits = pin.isdigit()\n",
    "        if not is_all_digits:\n",
    "            is_valid = False\n",
    "    else:\n",
    "        is_valid = False\n",
    "\n",
    "    if is_valid:\n",
    "        print(\"Valid PIN Code\")\n",
    "    else:\n",
    "        print(\"Invalid PIN Code\")\n",
    "\n",
    "pin = input()\n",
    "validate_atm_pin_code(pin)"
   ]
  },
  {
   "cell_type": "code",
   "execution_count": 43,
   "id": "d469d806",
   "metadata": {},
   "outputs": [
    {
     "name": "stdout",
     "output_type": "stream",
     "text": [
      "69375\n",
      "Valid PIN Code\n"
     ]
    }
   ],
   "source": [
    "def validate_atm_pin_code(pin):\n",
    "    # Complete this function\n",
    "    if len(pin) >= 4 and len(pin) <=6:\n",
    "        if pin.isdigit() == True:\n",
    "            print(\"Valid PIN Code\")\n",
    "        else:\n",
    "            print(\"Invalid PIN Code\")\n",
    "\n",
    "pin = input()\n",
    "# Call the validate_atm_pin_code function\n",
    "validate_atm_pin_code(pin)"
   ]
  },
  {
   "cell_type": "code",
   "execution_count": null,
   "id": "fffd9c6a",
   "metadata": {},
   "outputs": [],
   "source": []
  }
 ],
 "metadata": {
  "kernelspec": {
   "display_name": "Python 3",
   "language": "python",
   "name": "python3"
  },
  "language_info": {
   "codemirror_mode": {
    "name": "ipython",
    "version": 3
   },
   "file_extension": ".py",
   "mimetype": "text/x-python",
   "name": "python",
   "nbconvert_exporter": "python",
   "pygments_lexer": "ipython3",
   "version": "3.8.8"
  }
 },
 "nbformat": 4,
 "nbformat_minor": 5
}
