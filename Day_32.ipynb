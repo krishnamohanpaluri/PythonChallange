{
 "cells": [
  {
   "cell_type": "code",
   "execution_count": 6,
   "id": "76eaf8a8",
   "metadata": {},
   "outputs": [
    {
     "name": "stdout",
     "output_type": "stream",
     "text": [
      "No lemon no melon\n",
      "no lemon no melon\n",
      "['no', 'lemon', 'no', 'melon']\n",
      "['melon', 'no', 'lemon', 'no']\n",
      "Not a polindrome\n"
     ]
    }
   ],
   "source": [
    "m = input()\n",
    "m = m.lower()\n",
    "print(m)\n",
    "m = m.split()\n",
    "print(m)\n",
    "print(m[::-1])\n",
    "if m[::-1] == m:\n",
    "    print(\"Polindrom\")\n",
    "else:\n",
    "    print(\"Not a polindrome\")"
   ]
  },
  {
   "cell_type": "code",
   "execution_count": 10,
   "id": "fc0ad99d",
   "metadata": {},
   "outputs": [
    {
     "name": "stdout",
     "output_type": "stream",
     "text": [
      "GGGGRRRGG\n",
      "3\n"
     ]
    }
   ],
   "source": [
    "m = input()\n",
    "g = 0\n",
    "r = 0\n",
    "for char in m:\n",
    "    if char == 'G':\n",
    "        g+=1\n",
    "    elif char == 'R':\n",
    "        r+=1\n",
    "if g<r:\n",
    "    print(g)\n",
    "else:\n",
    "    print(r)"
   ]
  },
  {
   "cell_type": "code",
   "execution_count": null,
   "id": "edd5d579",
   "metadata": {},
   "outputs": [],
   "source": [
    "Grand Assignment"
   ]
  },
  {
   "cell_type": "code",
   "execution_count": 24,
   "id": "a115a5a7",
   "metadata": {},
   "outputs": [
    {
     "name": "stdout",
     "output_type": "stream",
     "text": [
      "5\n"
     ]
    },
    {
     "ename": "IndexError",
     "evalue": "string index out of range",
     "output_type": "error",
     "traceback": [
      "\u001b[1;31m---------------------------------------------------------------------------\u001b[0m",
      "\u001b[1;31mIndexError\u001b[0m                                Traceback (most recent call last)",
      "\u001b[1;32m<ipython-input-24-b5a20b208777>\u001b[0m in \u001b[0;36m<module>\u001b[1;34m\u001b[0m\n\u001b[0;32m      3\u001b[0m \u001b[0mm\u001b[0m \u001b[1;33m=\u001b[0m \u001b[0malphabet\u001b[0m\u001b[1;33m[\u001b[0m\u001b[1;36m0\u001b[0m\u001b[1;33m:\u001b[0m\u001b[0mn\u001b[0m\u001b[1;33m]\u001b[0m\u001b[1;33m\u001b[0m\u001b[1;33m\u001b[0m\u001b[0m\n\u001b[0;32m      4\u001b[0m \u001b[1;32mfor\u001b[0m \u001b[0mchar\u001b[0m \u001b[1;32min\u001b[0m \u001b[0mrange\u001b[0m\u001b[1;33m(\u001b[0m\u001b[0mn\u001b[0m\u001b[1;33m)\u001b[0m\u001b[1;33m:\u001b[0m\u001b[1;33m\u001b[0m\u001b[1;33m\u001b[0m\u001b[0m\n\u001b[1;32m----> 5\u001b[1;33m     \u001b[0mprint\u001b[0m\u001b[1;33m(\u001b[0m\u001b[0mm\u001b[0m\u001b[1;33m[\u001b[0m\u001b[0mn\u001b[0m\u001b[1;33m-\u001b[0m\u001b[0mchar\u001b[0m\u001b[1;33m]\u001b[0m\u001b[1;33m)\u001b[0m\u001b[1;33m\u001b[0m\u001b[1;33m\u001b[0m\u001b[0m\n\u001b[0m",
      "\u001b[1;31mIndexError\u001b[0m: string index out of range"
     ]
    }
   ],
   "source": [
    "alphabet = 'ABCDEFGHIJKLMNOPQRSTUVWXYZ'\n",
    "n = int(input())\n",
    "m = alphabet[0:n]\n",
    "for char in range(n):\n",
    "    print(m[n-char])"
   ]
  },
  {
   "cell_type": "markdown",
   "id": "b3168050",
   "metadata": {},
   "source": []
  },
  {
   "cell_type": "code",
   "execution_count": 37,
   "id": "25170c64",
   "metadata": {},
   "outputs": [
    {
     "name": "stdout",
     "output_type": "stream",
     "text": [
      "5\n",
      "Prime\n"
     ]
    }
   ],
   "source": [
    "def prime(n):\n",
    "    count = 0\n",
    "    for i in range(2, n):\n",
    "        if n%i == 0:\n",
    "            count+=1\n",
    "    if count > 1:\n",
    "        print(\"non prime\")\n",
    "    else:\n",
    "        print(\"Prime\")\n",
    "n = int(input())\n",
    "for \n",
    "prime(n)"
   ]
  },
  {
   "cell_type": "code",
   "execution_count": 39,
   "id": "6e110e0c",
   "metadata": {},
   "outputs": [
    {
     "name": "stdout",
     "output_type": "stream",
     "text": [
      "55\n"
     ]
    }
   ],
   "source": [
    "a= '5'\n",
    "b= '5'\n",
    "print(a+b)"
   ]
  },
  {
   "cell_type": "code",
   "execution_count": 43,
   "id": "b0499220",
   "metadata": {},
   "outputs": [
    {
     "name": "stdout",
     "output_type": "stream",
     "text": [
      "5\n"
     ]
    }
   ],
   "source": [
    "num_list = [(2, 4, 6, 8), (5, 15, 25, 35), (7, 14, 21)]\n",
    "n = int(input())\n",
    "for i in range(len(num_list)):\n",
    "    for j in range(len(num_list)):\n",
    "        if num_list[i][i] == 4:\n",
    "            print(i,j)\n"
   ]
  },
  {
   "cell_type": "code",
   "execution_count": 61,
   "id": "19fc51b1",
   "metadata": {},
   "outputs": [
    {
     "name": "stdout",
     "output_type": "stream",
     "text": [
      "8593\n",
      "8 1 0 1 2 0 3\n"
     ]
    }
   ],
   "source": [
    "n = int(input())\n",
    "a = n//1000\n",
    "b = n -(a*1000)\n",
    "c = b//500\n",
    "d = b-(c*500)\n",
    "e = d//100\n",
    "f = d - (e*100)\n",
    "g = f//50\n",
    "h = f - (g*50)\n",
    "i = h//20\n",
    "j = h - (i*20)\n",
    "k = j//5\n",
    "m = j -k\n",
    "\n",
    "\n",
    "print(a, c, e, g, i, k,m)"
   ]
  },
  {
   "cell_type": "code",
   "execution_count": 89,
   "id": "94b022b2",
   "metadata": {},
   "outputs": [
    {
     "name": "stdout",
     "output_type": "stream",
     "text": [
      "5\n",
      "1\n",
      "12\n",
      "123\n",
      "1234\n",
      "12345\n"
     ]
    }
   ],
   "source": [
    "n = int(input())\n",
    "for i in range(1, n+1):\n",
    "    for j in range(1, i+1):\n",
    "        f = str(j)+str()\n",
    "        g = str()\n",
    "        print(f, end='')\n",
    "    print()"
   ]
  },
  {
   "cell_type": "code",
   "execution_count": null,
   "id": "be2b7995",
   "metadata": {},
   "outputs": [],
   "source": []
  },
  {
   "cell_type": "code",
   "execution_count": null,
   "id": "aeb8ded0",
   "metadata": {},
   "outputs": [],
   "source": []
  },
  {
   "cell_type": "code",
   "execution_count": null,
   "id": "96033417",
   "metadata": {},
   "outputs": [],
   "source": []
  },
  {
   "cell_type": "code",
   "execution_count": null,
   "id": "5ed89fd9",
   "metadata": {},
   "outputs": [],
   "source": []
  },
  {
   "cell_type": "code",
   "execution_count": null,
   "id": "8779eadf",
   "metadata": {},
   "outputs": [],
   "source": []
  },
  {
   "cell_type": "code",
   "execution_count": null,
   "id": "6b4d1bf8",
   "metadata": {},
   "outputs": [],
   "source": []
  }
 ],
 "metadata": {
  "kernelspec": {
   "display_name": "Python 3",
   "language": "python",
   "name": "python3"
  },
  "language_info": {
   "codemirror_mode": {
    "name": "ipython",
    "version": 3
   },
   "file_extension": ".py",
   "mimetype": "text/x-python",
   "name": "python",
   "nbconvert_exporter": "python",
   "pygments_lexer": "ipython3",
   "version": "3.8.8"
  }
 },
 "nbformat": 4,
 "nbformat_minor": 5
}
