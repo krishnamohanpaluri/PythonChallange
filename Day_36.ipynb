{
 "cells": [
  {
   "cell_type": "code",
   "execution_count": 5,
   "id": "1d7107e9",
   "metadata": {},
   "outputs": [
    {
     "ename": "KeyboardInterrupt",
     "evalue": "Interrupted by user",
     "output_type": "error",
     "traceback": [
      "\u001b[1;31m---------------------------------------------------------------------------\u001b[0m",
      "\u001b[1;31mKeyboardInterrupt\u001b[0m                         Traceback (most recent call last)",
      "\u001b[1;32m<ipython-input-5-eb89331512f2>\u001b[0m in \u001b[0;36m<module>\u001b[1;34m\u001b[0m\n\u001b[0;32m      4\u001b[0m         \u001b[0mst\u001b[0m \u001b[1;33m+=\u001b[0m \u001b[0mstr\u001b[0m\u001b[1;33m(\u001b[0m\u001b[0mi\u001b[0m\u001b[1;33m)\u001b[0m\u001b[1;33m\u001b[0m\u001b[1;33m\u001b[0m\u001b[0m\n\u001b[0;32m      5\u001b[0m     \u001b[0mprint\u001b[0m\u001b[1;33m(\u001b[0m\u001b[0mlen\u001b[0m\u001b[1;33m(\u001b[0m\u001b[0mst\u001b[0m\u001b[1;33m)\u001b[0m\u001b[1;33m)\u001b[0m\u001b[1;33m\u001b[0m\u001b[1;33m\u001b[0m\u001b[0m\n\u001b[1;32m----> 6\u001b[1;33m \u001b[0mN\u001b[0m \u001b[1;33m=\u001b[0m \u001b[0mint\u001b[0m\u001b[1;33m(\u001b[0m\u001b[0minput\u001b[0m\u001b[1;33m(\u001b[0m\u001b[1;33m)\u001b[0m\u001b[1;33m)\u001b[0m\u001b[1;33m\u001b[0m\u001b[1;33m\u001b[0m\u001b[0m\n\u001b[0m\u001b[0;32m      7\u001b[0m \u001b[0mdigits\u001b[0m\u001b[1;33m(\u001b[0m\u001b[0mN\u001b[0m\u001b[1;33m)\u001b[0m\u001b[1;33m\u001b[0m\u001b[1;33m\u001b[0m\u001b[0m\n",
      "\u001b[1;32m~\\anaconda3\\lib\\site-packages\\ipykernel\\kernelbase.py\u001b[0m in \u001b[0;36mraw_input\u001b[1;34m(self, prompt)\u001b[0m\n\u001b[0;32m    858\u001b[0m                 \u001b[1;34m\"raw_input was called, but this frontend does not support input requests.\"\u001b[0m\u001b[1;33m\u001b[0m\u001b[1;33m\u001b[0m\u001b[0m\n\u001b[0;32m    859\u001b[0m             )\n\u001b[1;32m--> 860\u001b[1;33m         return self._input_request(str(prompt),\n\u001b[0m\u001b[0;32m    861\u001b[0m             \u001b[0mself\u001b[0m\u001b[1;33m.\u001b[0m\u001b[0m_parent_ident\u001b[0m\u001b[1;33m,\u001b[0m\u001b[1;33m\u001b[0m\u001b[1;33m\u001b[0m\u001b[0m\n\u001b[0;32m    862\u001b[0m             \u001b[0mself\u001b[0m\u001b[1;33m.\u001b[0m\u001b[0m_parent_header\u001b[0m\u001b[1;33m,\u001b[0m\u001b[1;33m\u001b[0m\u001b[1;33m\u001b[0m\u001b[0m\n",
      "\u001b[1;32m~\\anaconda3\\lib\\site-packages\\ipykernel\\kernelbase.py\u001b[0m in \u001b[0;36m_input_request\u001b[1;34m(self, prompt, ident, parent, password)\u001b[0m\n\u001b[0;32m    902\u001b[0m             \u001b[1;32mexcept\u001b[0m \u001b[0mKeyboardInterrupt\u001b[0m\u001b[1;33m:\u001b[0m\u001b[1;33m\u001b[0m\u001b[1;33m\u001b[0m\u001b[0m\n\u001b[0;32m    903\u001b[0m                 \u001b[1;31m# re-raise KeyboardInterrupt, to truncate traceback\u001b[0m\u001b[1;33m\u001b[0m\u001b[1;33m\u001b[0m\u001b[1;33m\u001b[0m\u001b[0m\n\u001b[1;32m--> 904\u001b[1;33m                 \u001b[1;32mraise\u001b[0m \u001b[0mKeyboardInterrupt\u001b[0m\u001b[1;33m(\u001b[0m\u001b[1;34m\"Interrupted by user\"\u001b[0m\u001b[1;33m)\u001b[0m \u001b[1;32mfrom\u001b[0m \u001b[1;32mNone\u001b[0m\u001b[1;33m\u001b[0m\u001b[1;33m\u001b[0m\u001b[0m\n\u001b[0m\u001b[0;32m    905\u001b[0m             \u001b[1;32mexcept\u001b[0m \u001b[0mException\u001b[0m \u001b[1;32mas\u001b[0m \u001b[0me\u001b[0m\u001b[1;33m:\u001b[0m\u001b[1;33m\u001b[0m\u001b[1;33m\u001b[0m\u001b[0m\n\u001b[0;32m    906\u001b[0m                 \u001b[0mself\u001b[0m\u001b[1;33m.\u001b[0m\u001b[0mlog\u001b[0m\u001b[1;33m.\u001b[0m\u001b[0mwarning\u001b[0m\u001b[1;33m(\u001b[0m\u001b[1;34m\"Invalid Message:\"\u001b[0m\u001b[1;33m,\u001b[0m \u001b[0mexc_info\u001b[0m\u001b[1;33m=\u001b[0m\u001b[1;32mTrue\u001b[0m\u001b[1;33m)\u001b[0m\u001b[1;33m\u001b[0m\u001b[1;33m\u001b[0m\u001b[0m\n",
      "\u001b[1;31mKeyboardInterrupt\u001b[0m: Interrupted by user"
     ]
    }
   ],
   "source": [
    "def digits(N):\n",
    "    st = \"\"\n",
    "    for i in range(1, N+1):\n",
    "        st += str(i)\n",
    "    print(len(st))\n",
    "N = int(input())\n",
    "digits(N)"
   ]
  },
  {
   "cell_type": "code",
   "execution_count": 6,
   "id": "5e36c15f",
   "metadata": {},
   "outputs": [
    {
     "name": "stdout",
     "output_type": "stream",
     "text": [
      "3\n",
      "9\n",
      "0\n"
     ]
    }
   ],
   "source": [
    "number1 = int(input())\n",
    "number2 = int (input())\n",
    "count = 0\n",
    "for i in range(number1, number2+1):\n",
    "        if int(i**0.5)== i**0.5:\n",
    "            count = count + 1\n",
    "print(count)"
   ]
  },
  {
   "cell_type": "code",
   "execution_count": 36,
   "id": "e95d1c26",
   "metadata": {},
   "outputs": [
    {
     "name": "stdout",
     "output_type": "stream",
     "text": [
      "6\n",
      "* * * * * * \n",
      "  *      * \n",
      "    *      * \n",
      "      *      * \n",
      "        *      * \n",
      "          *      * \n"
     ]
    }
   ],
   "source": [
    "n = int(input())\n",
    "print(\"* \"*(n))\n",
    "for i in range(1,n):\n",
    "    #space1 = \"  \"*i\n",
    "    space2 = \" \"*(n-1)\n",
    "    star = \"* \"\n",
    "    #star2 = \"*\"+(\" \"*(n-1))\n",
    "    total = star+space2+star\n",
    "    print(total)"
   ]
  },
  {
   "cell_type": "code",
   "execution_count": 44,
   "id": "2075c176",
   "metadata": {},
   "outputs": [
    {
     "name": "stdout",
     "output_type": "stream",
     "text": [
      "6\n",
      "* * * * * * \n",
      "  *      *\n",
      "   *      *\n",
      "    *      *\n",
      "     *      *\n",
      "      *      *\n"
     ]
    }
   ],
   "source": [
    "n = int(input())\n",
    "print(\"* \"*(n))\n",
    "for i in range(1,n):\n",
    "    space1 = \" \"*(n-1)\n",
    "    star = \" *\"\n",
    "    space2 = \" \"*(i)\n",
    "    total = space2+star+space1+star\n",
    "    print(total)"
   ]
  },
  {
   "cell_type": "code",
   "execution_count": 47,
   "id": "d8790b6b",
   "metadata": {},
   "outputs": [
    {
     "name": "stdout",
     "output_type": "stream",
     "text": [
      "6\n",
      "          *\n",
      "        *\n",
      "      *\n",
      "    *\n",
      "  *\n"
     ]
    }
   ],
   "source": [
    "n = int(input())\n",
    "for i in range(1, n):\n",
    "    spaces = \"  \"*(n-i)\n",
    "    star = \"*\"\n",
    "    total = spaces+star\n",
    "    print(total)\n",
    "    "
   ]
  },
  {
   "cell_type": "code",
   "execution_count": 51,
   "id": "987a751a",
   "metadata": {},
   "outputs": [
    {
     "name": "stdout",
     "output_type": "stream",
     "text": [
      "9\n",
      "                  \n",
      "                * \n",
      "              * * \n",
      "            * * * \n",
      "          * * * * \n",
      "        * * * * * \n",
      "      * * * * * * \n",
      "    * * * * * * * \n",
      "  * * * * * * * * \n"
     ]
    }
   ],
   "source": [
    "n = int(input())\n",
    "for i in range(n):\n",
    "    print(\"  \"*(n-i)+\"* \"*i)"
   ]
  },
  {
   "cell_type": "code",
   "execution_count": 65,
   "id": "9cb0ed93",
   "metadata": {},
   "outputs": [
    {
     "name": "stdout",
     "output_type": "stream",
     "text": [
      "9\n",
      " * * * * * * * * *\n",
      "   * * * * * * * *\n",
      "     * * * * * * *\n",
      "       * * * * * *\n",
      "         * * * * *\n",
      "           * * * *\n",
      "             * * *\n",
      "               * *\n",
      "                 *\n"
     ]
    }
   ],
   "source": [
    "n =int(input())\n",
    "for i in range(n):\n",
    "    space = \"  \"*i\n",
    "    star = \" *\"*(n-i)\n",
    "    print(space+star)"
   ]
  },
  {
   "cell_type": "code",
   "execution_count": 80,
   "id": "51ea2666",
   "metadata": {},
   "outputs": [
    {
     "name": "stdout",
     "output_type": "stream",
     "text": [
      "2\n",
      "5\n",
      "25\n",
      "\n",
      "5\n",
      "20\n"
     ]
    }
   ],
   "source": [
    "n = int(input())\n",
    "x = int(input())\n",
    "even_sum = 0\n",
    "odd_sum = 0\n",
    "for i in range(1, n+1):\n",
    "    if i%2 == 0:\n",
    "        even_sum += (x**i)\n",
    "print(even_sum)\n",
    "print()\n",
    "for j in range(1, n+1):\n",
    "    if j%2 == 1:\n",
    "        odd_sum += (x**j)\n",
    "print(odd_sum)\n",
    "total = even_sum - odd_sum\n",
    "print(total)"
   ]
  },
  {
   "cell_type": "code",
   "execution_count": 99,
   "id": "73829120",
   "metadata": {
    "scrolled": true
   },
   "outputs": [
    {
     "name": "stdout",
     "output_type": "stream",
     "text": [
      "2\n",
      "5\n",
      "410\n"
     ]
    }
   ],
   "source": [
    "x = int(input())\n",
    "n_terms = int(input())\n",
    "y = 2*n_terms\n",
    "empty_list = []\n",
    "for i in range(y):\n",
    "    if i%2 == 1:\n",
    "        empty_list.append(x**(i))\n",
    "#print(empty_list)\n",
    "even_sum = 0\n",
    "odd_sum = 0\n",
    "for i in range(len(empty_list)):\n",
    "    if i%2 == 0:\n",
    "        #print(empty_list[i])\n",
    "        even_sum+=empty_list[i]\n",
    "#print(even_sum)\n",
    "for j in range(len(empty_list)):\n",
    "    if j%2 == 1:\n",
    "        #print(empty_list[i])\n",
    "        odd_sum+=empty_list[j]\n",
    "#print(odd_sum)\n",
    "print(even_sum-odd_sum)"
   ]
  },
  {
   "cell_type": "code",
   "execution_count": null,
   "id": "0f604295",
   "metadata": {},
   "outputs": [],
   "source": []
  },
  {
   "cell_type": "code",
   "execution_count": null,
   "id": "5b3f0e5a",
   "metadata": {},
   "outputs": [],
   "source": [
    "k = [1,3,4,5,6,7,8,0]\n",
    "for i in k:\n",
    "    "
   ]
  }
 ],
 "metadata": {
  "kernelspec": {
   "display_name": "Python 3",
   "language": "python",
   "name": "python3"
  },
  "language_info": {
   "codemirror_mode": {
    "name": "ipython",
    "version": 3
   },
   "file_extension": ".py",
   "mimetype": "text/x-python",
   "name": "python",
   "nbconvert_exporter": "python",
   "pygments_lexer": "ipython3",
   "version": "3.8.8"
  }
 },
 "nbformat": 4,
 "nbformat_minor": 5
}
