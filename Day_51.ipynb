{
 "cells": [
  {
   "cell_type": "code",
   "execution_count": 1,
   "id": "2f38c3cb",
   "metadata": {},
   "outputs": [
    {
     "name": "stdout",
     "output_type": "stream",
     "text": [
      "Krishna\n",
      "Mohan\n",
      "Mohan is playing Krishna\n"
     ]
    }
   ],
   "source": [
    "str_a = input()\n",
    "str_b = input()\n",
    "message = \"{arg_1} is playing {arg_2}\"\n",
    "print(message.format(arg_2=str_a, arg_1=str_b))"
   ]
  },
  {
   "cell_type": "code",
   "execution_count": null,
   "id": "3b3c974e",
   "metadata": {},
   "outputs": [],
   "source": []
  }
 ],
 "metadata": {
  "kernelspec": {
   "display_name": "Python 3",
   "language": "python",
   "name": "python3"
  },
  "language_info": {
   "codemirror_mode": {
    "name": "ipython",
    "version": 3
   },
   "file_extension": ".py",
   "mimetype": "text/x-python",
   "name": "python",
   "nbconvert_exporter": "python",
   "pygments_lexer": "ipython3",
   "version": "3.8.8"
  }
 },
 "nbformat": 4,
 "nbformat_minor": 5
}
