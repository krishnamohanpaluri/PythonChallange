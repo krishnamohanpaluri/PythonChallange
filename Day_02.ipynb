{
 "cells": [
  {
   "cell_type": "code",
   "execution_count": 1,
   "id": "63f4ffbe-d913-4ecf-8ac0-b28855f00303",
   "metadata": {},
   "outputs": [
    {
     "name": "stdout",
     "output_type": "stream",
     "text": [
      "Hello World\n"
     ]
    }
   ],
   "source": [
    "print(\"Hello World\")"
   ]
  },
  {
   "cell_type": "code",
   "execution_count": 2,
   "id": "e606d1f4-b480-43dc-be54-acb254dcc81b",
   "metadata": {},
   "outputs": [
    {
     "name": "stdin",
     "output_type": "stream",
     "text": [
      " 23\n",
      " 43\n"
     ]
    },
    {
     "name": "stdout",
     "output_type": "stream",
     "text": [
      "Profit\n"
     ]
    }
   ],
   "source": [
    "CP = int(input())\n",
    "SP = int(input())\n",
    "if SP<CP:\n",
    "     print(\"Loss\")\n",
    "elif SP>CP:\n",
    "     print(\"Profit\")\n",
    "else:\n",
    "     print(\"No Profit -  No Loss\")"
   ]
  },
  {
   "cell_type": "code",
   "execution_count": 5,
   "id": "e913c57d-8fbd-49b4-be10-f5d0e7b11ea8",
   "metadata": {},
   "outputs": [
    {
     "name": "stdin",
     "output_type": "stream",
     "text": [
      " 15\n"
     ]
    },
    {
     "name": "stdout",
     "output_type": "stream",
     "text": [
      "2\n"
     ]
    }
   ],
   "source": [
    "n = int(input())\n",
    "a = int(n/7) \n",
    "print(a)"
   ]
  },
  {
   "cell_type": "code",
   "execution_count": null,
   "id": "b67e18c9-df21-4126-9bae-8b6677d5335b",
   "metadata": {},
   "outputs": [],
   "source": [
    "#Given the weekday of the first day of the month, determine the day of the week of the given date in that month\n",
    "#day = input()\n",
    "#n= int(input())\n",
    "#if day == \"Monday\":\n",
    "#    if n>30:\n",
    "        \n",
    "    "
   ]
  }
 ],
 "metadata": {
  "kernelspec": {
   "display_name": "Python 3",
   "language": "python",
   "name": "python3"
  },
  "language_info": {
   "codemirror_mode": {
    "name": "ipython",
    "version": 3
   },
   "file_extension": ".py",
   "mimetype": "text/x-python",
   "name": "python",
   "nbconvert_exporter": "python",
   "pygments_lexer": "ipython3",
   "version": "3.8.8"
  }
 },
 "nbformat": 4,
 "nbformat_minor": 5
}
