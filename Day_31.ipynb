{
 "cells": [
  {
   "cell_type": "code",
   "execution_count": 3,
   "id": "12ac933e",
   "metadata": {},
   "outputs": [
    {
     "name": "stdout",
     "output_type": "stream",
     "text": [
      "krishNa\n",
      "N\n"
     ]
    }
   ],
   "source": [
    "word = input()\n",
    "for char in word:\n",
    "    if char.isupper():\n",
    "        print(char)\n",
    "        "
   ]
  },
  {
   "cell_type": "code",
   "execution_count": 9,
   "id": "31515404",
   "metadata": {},
   "outputs": [
    {
     "name": "stdout",
     "output_type": "stream",
     "text": [
      "python is\n",
      "PYTHON"
     ]
    }
   ],
   "source": [
    "sentence = input()\n",
    "for char in sentence:\n",
    "    if char == ' ':\n",
    "        break\n",
    "    char = char.upper()\n",
    "    print(char,end='')\n"
   ]
  },
  {
   "cell_type": "code",
   "execution_count": 11,
   "id": "2a9668fb",
   "metadata": {},
   "outputs": [
    {
     "name": "stdout",
     "output_type": "stream",
     "text": [
      "2\n",
      "11\n",
      "5\n",
      "5\n"
     ]
    }
   ],
   "source": [
    "n = int(input())\n",
    "m = int(input())\n",
    "even_count = 0\n",
    "odd_count = 0\n",
    "if n > m:\n",
    "    (n,m) = (m,n)\n",
    "\n",
    "for i in range(n, m+1):\n",
    "    if i%2 == 0:\n",
    "        even_count+=1\n",
    "    else:\n",
    "        odd_count+=1\n",
    "print(even_count)\n",
    "print(odd_count)"
   ]
  },
  {
   "cell_type": "code",
   "execution_count": 13,
   "id": "3291d22f",
   "metadata": {},
   "outputs": [
    {
     "name": "stdout",
     "output_type": "stream",
     "text": [
      "krishna\n",
      "2\n",
      "5\n"
     ]
    }
   ],
   "source": [
    "word = input()\n",
    "vowel_count = 0\n",
    "consonent_count = 0\n",
    "for char in word:\n",
    "    if char == 'a' or char == 'e' or char == 'i' or char == 'o' or char == 'u':\n",
    "        vowel_count+=1\n",
    "    else:\n",
    "        consonent_count+=1\n",
    "print(vowel_count)\n",
    "print(consonent_count)"
   ]
  },
  {
   "cell_type": "code",
   "execution_count": null,
   "id": "ce82ec9f",
   "metadata": {},
   "outputs": [],
   "source": []
  }
 ],
 "metadata": {
  "kernelspec": {
   "display_name": "Python 3",
   "language": "python",
   "name": "python3"
  },
  "language_info": {
   "codemirror_mode": {
    "name": "ipython",
    "version": 3
   },
   "file_extension": ".py",
   "mimetype": "text/x-python",
   "name": "python",
   "nbconvert_exporter": "python",
   "pygments_lexer": "ipython3",
   "version": "3.8.8"
  }
 },
 "nbformat": 4,
 "nbformat_minor": 5
}
