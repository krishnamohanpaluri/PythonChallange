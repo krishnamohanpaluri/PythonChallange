{
 "cells": [
  {
   "cell_type": "code",
   "execution_count": 7,
   "id": "f2f08689",
   "metadata": {},
   "outputs": [
    {
     "name": "stdout",
     "output_type": "stream",
     "text": [
      "x o x\n",
      "x x o\n",
      "o x o\n",
      "['x', 'o', 'x']\n",
      "['x', 'x', 'o']\n",
      "['o', 'x', 'o']\n"
     ]
    }
   ],
   "source": [
    "j = input().split(' ')\n",
    "k = input().split(' ')\n",
    "l = input().split(' ')\n",
    "print(j)\n",
    "print(k)\n",
    "print(l)\n",
    "if j[0] == j[1] == j[2]== 'x':\n",
    "    print(\"Abhinav wins\")\n",
    "    \n",
    "    "
   ]
  },
  {
   "cell_type": "code",
   "execution_count": 10,
   "id": "868423a1",
   "metadata": {
    "scrolled": true
   },
   "outputs": [
    {
     "ename": "KeyError",
     "evalue": "'Jan'",
     "output_type": "error",
     "traceback": [
      "\u001b[1;31m---------------------------------------------------------------------------\u001b[0m",
      "\u001b[1;31mKeyError\u001b[0m                                  Traceback (most recent call last)",
      "\u001b[1;32m<ipython-input-10-ea8b4c7b784a>\u001b[0m in \u001b[0;36m<module>\u001b[1;34m\u001b[0m\n\u001b[0;32m      1\u001b[0m \u001b[0mmonth_num\u001b[0m \u001b[1;33m=\u001b[0m \u001b[1;33m{\u001b[0m\u001b[1;36m1\u001b[0m\u001b[1;33m:\u001b[0m\u001b[1;34m\"Jan\"\u001b[0m\u001b[1;33m,\u001b[0m \u001b[1;36m2\u001b[0m\u001b[1;33m:\u001b[0m\u001b[1;34m\"Feb\"\u001b[0m\u001b[1;33m,\u001b[0m \u001b[1;36m3\u001b[0m\u001b[1;33m:\u001b[0m\u001b[1;34m\"Mar\"\u001b[0m\u001b[1;33m,\u001b[0m \u001b[1;36m4\u001b[0m\u001b[1;33m:\u001b[0m\u001b[1;34m\"April\"\u001b[0m\u001b[1;33m,\u001b[0m \u001b[1;36m5\u001b[0m\u001b[1;33m:\u001b[0m\u001b[1;34m\"May\"\u001b[0m\u001b[1;33m,\u001b[0m \u001b[1;36m6\u001b[0m\u001b[1;33m:\u001b[0m\u001b[1;34m\"June\"\u001b[0m\u001b[1;33m,\u001b[0m \u001b[1;36m7\u001b[0m\u001b[1;33m:\u001b[0m\u001b[1;34m\"July\"\u001b[0m\u001b[1;33m,\u001b[0m \u001b[1;36m8\u001b[0m\u001b[1;33m:\u001b[0m\u001b[1;34m\"Aug\"\u001b[0m\u001b[1;33m,\u001b[0m \u001b[1;36m9\u001b[0m\u001b[1;33m:\u001b[0m\u001b[1;34m\"Sept\"\u001b[0m\u001b[1;33m,\u001b[0m \u001b[1;36m10\u001b[0m\u001b[1;33m:\u001b[0m\u001b[1;34m\"Oct\"\u001b[0m\u001b[1;33m,\u001b[0m \u001b[1;36m11\u001b[0m\u001b[1;33m:\u001b[0m\u001b[1;34m\"Nov\"\u001b[0m\u001b[1;33m,\u001b[0m \u001b[1;36m12\u001b[0m\u001b[1;33m:\u001b[0m\u001b[1;34m\"Dec\"\u001b[0m\u001b[1;33m}\u001b[0m\u001b[1;33m\u001b[0m\u001b[1;33m\u001b[0m\u001b[0m\n\u001b[0;32m      2\u001b[0m \u001b[1;33m\u001b[0m\u001b[0m\n\u001b[1;32m----> 3\u001b[1;33m \u001b[0mprint\u001b[0m\u001b[1;33m(\u001b[0m\u001b[0mmonth_num\u001b[0m\u001b[1;33m[\u001b[0m\u001b[1;34m\"Jan\"\u001b[0m\u001b[1;33m]\u001b[0m\u001b[1;33m)\u001b[0m\u001b[1;33m\u001b[0m\u001b[1;33m\u001b[0m\u001b[0m\n\u001b[0m",
      "\u001b[1;31mKeyError\u001b[0m: 'Jan'"
     ]
    }
   ],
   "source": [
    "month_num = {1:\"Jan\", 2:\"Feb\", 3:\"Mar\", 4:\"April\", 5:\"May\", 6:\"June\", 7:\"July\", 8:\"Aug\", 9:\"Sept\", 10:\"Oct\", 11:\"Nov\", 12:\"Dec\"}\n",
    "\n",
    "a = input().split(\" \")\n",
    "b = input().split(\" \")\n",
    "s_d = int(a[0])\n",
    "s_m = month_num[str(a[1])]\n",
    "s_y = int(a[2])\n",
    "\n",
    "e_d = int(b[0])\n",
    "e_m = month_num[str(b[1])]\n",
    "e_y = int(b[2])\n",
    "print(date(s_d, s_m, s_y))"
   ]
  },
  {
   "cell_type": "code",
   "execution_count": null,
   "id": "3aa57164",
   "metadata": {},
   "outputs": [],
   "source": []
  },
  {
   "cell_type": "markdown",
   "id": "3705fe70",
   "metadata": {},
   "source": [
    "# Calculating the number of sats and sundays in a given time range."
   ]
  },
  {
   "cell_type": "code",
   "execution_count": 25,
   "id": "5d3c9f7e",
   "metadata": {},
   "outputs": [
    {
     "name": "stdout",
     "output_type": "stream",
     "text": [
      "25 Jan 2021\n",
      "14 Feb 2021\n",
      "Saturday: 3\n",
      "Sunday: 3\n"
     ]
    }
   ],
   "source": [
    "from datetime import date, timedelta\n",
    "month_num = {\"Jan\":1, \"Feb\":2, \"Mar\":3, \"April\":4, \"May\":5, \"June\":6, \"July\":7, \"Aug\":8, \"Sept\":9, \"Oct\":10, \"Nov\":11, \"Dec\":12}\n",
    "a = input().split(\" \")\n",
    "s_d = int(a[0])\n",
    "s_m = month_num[a[1]]\n",
    "s_y = int(a[2])\n",
    "b = input().split(\" \")\n",
    "e_d = int(b[0])\n",
    "e_m = month_num[b[1]]\n",
    "e_y = int(b[2])\n",
    "\n",
    "sdate = date(s_y,  s_m, s_d )\n",
    "edate = date(e_y, e_m, e_d) \n",
    "\n",
    "delta = edate - sdate       # as timedelta\n",
    "sunday_count = 0\n",
    "saturday_count = 0\n",
    "\n",
    "for i in range(delta.days + 1):\n",
    "    day = sdate + timedelta(days=i)\n",
    "    if day.strftime(\"%A\") == \"Saturday\":\n",
    "        saturday_count+=1\n",
    "    elif day.strftime(\"%A\") == \"Sunday\":\n",
    "        sunday_count+=1\n",
    "print(\"Saturday: \"+str(saturday_count))\n",
    "print(\"Sunday: \"+str(sunday_count))\n",
    "#24 Jan 2001\n",
    "#15 June 2021\n"
   ]
  },
  {
   "cell_type": "code",
   "execution_count": null,
   "id": "8046061d",
   "metadata": {},
   "outputs": [],
   "source": [
    "from datetime import date, timedelta\n",
    "\n",
    "sdate = date(2008, 8, 15)   # start date\n",
    "edate = date(2009, 9, 15)   # end date\n",
    "\n",
    "delta = edate - sdate       # as timedelta\n",
    "sunday_count = 0\n",
    "saturday_count = 0\n",
    "\n",
    "for i in range(delta.days + 1):\n",
    "    day = sdate + timedelta(days=i)\n",
    "    if day.strftime(\"%A\") == \"Saturday\":\n",
    "        saturday_count+=1\n",
    "    elif day.strftime(\"%A\") == \"Sunday\":\n",
    "        sunday_count+=1\n",
    "print(\"Saturday: \"+str(saturday_count))\n",
    "print(\"Sunday: \"+str(sunday_count))"
   ]
  },
  {
   "cell_type": "code",
   "execution_count": 29,
   "id": "9cac6ab9",
   "metadata": {},
   "outputs": [
    {
     "name": "stdout",
     "output_type": "stream",
     "text": [
      "ramisgood\n",
      "goodforall\n",
      "good\n"
     ]
    }
   ],
   "source": [
    "\n",
    "def common_string(string_1, string_2):\n",
    "    string_3 = \"\"\n",
    "    len_1 = len(string_1) \n",
    "    len_2 = len(string_2)\n",
    "    for i in range(len_1):\n",
    "        match = \"\"\n",
    "        for j in range(len_2):\n",
    "            if (i + j < len_1 and string_1[i + j] == string_2[j]):\n",
    "                match += string_2[j]\n",
    "            else:\n",
    "                if (len(match) > len(string_3)): string_3 = match\n",
    "                match = \"\"\n",
    "    if string_3 == '':\n",
    "        return 'No overlapping'\n",
    "    else:\n",
    "        return string_3\n",
    "\n",
    "a = input()\n",
    "b = input()\n",
    "print(common_string(a, b))"
   ]
  },
  {
   "cell_type": "code",
   "execution_count": 32,
   "id": "d9fec1ec",
   "metadata": {},
   "outputs": [
    {
     "name": "stdout",
     "output_type": "stream",
     "text": [
      "20\n",
      "Wierd\n"
     ]
    }
   ],
   "source": [
    "n = int(input())\n",
    "if n%2 == 1:\n",
    "    print(\"Weird\")\n",
    "elif n%2 == 0 and (n>=2 and n<=5):\n",
    "    print(\"Not Weird\")\n",
    "elif n%2 == 0 and (n>=6 and n<=20):\n",
    "    print(\"Wierd\")\n",
    "elif n%2 == 0 and (n>20):\n",
    "    print(\"Not Weird\")"
   ]
  },
  {
   "cell_type": "code",
   "execution_count": null,
   "id": "ce55257e",
   "metadata": {},
   "outputs": [],
   "source": []
  },
  {
   "cell_type": "code",
   "execution_count": null,
   "id": "71a8a436",
   "metadata": {},
   "outputs": [],
   "source": []
  }
 ],
 "metadata": {
  "kernelspec": {
   "display_name": "Python 3",
   "language": "python",
   "name": "python3"
  },
  "language_info": {
   "codemirror_mode": {
    "name": "ipython",
    "version": 3
   },
   "file_extension": ".py",
   "mimetype": "text/x-python",
   "name": "python",
   "nbconvert_exporter": "python",
   "pygments_lexer": "ipython3",
   "version": "3.8.8"
  }
 },
 "nbformat": 4,
 "nbformat_minor": 5
}
