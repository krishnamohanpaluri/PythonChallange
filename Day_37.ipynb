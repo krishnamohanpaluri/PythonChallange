{
 "cells": [
  {
   "cell_type": "code",
   "execution_count": 6,
   "id": "97b9c34c",
   "metadata": {},
   "outputs": [
    {
     "name": "stdout",
     "output_type": "stream",
     "text": [
      "30\n",
      "12\n"
     ]
    }
   ],
   "source": [
    "import math\n",
    "def pythagorean_triplet(n):\n",
    "    count = 0\n",
    "    for b in range(n-1):\n",
    "        for a in range(1, b):\n",
    "            c = math.sqrt( a * a + b * b)\n",
    "            if c % 1 == 0:\n",
    "                #print(a, b, int(c))\n",
    "                count+=1\n",
    "    print(count)\n",
    "\n",
    "n = int(input())\n",
    "pythagorean_triplet(n)"
   ]
  },
  {
   "cell_type": "code",
   "execution_count": 8,
   "id": "4330c84d",
   "metadata": {},
   "outputs": [
    {
     "name": "stdout",
     "output_type": "stream",
     "text": [
      "211\n",
      "32\n",
      "22187 22188 22189 22190 22191 22192 22193 22194 22195 22196 22197 22198 22199 22200 22201 22202 22203 22204 22205 22206 22207 22208 22209 22210 22211 22212 22213 22214 22215 22216 22217 22218 22219 22220 22221 22222 22223 22224 22225 22226 22227 22228 22229 22230 22231 22232 22233 22234 22235 22236 22237 22238 22239 22240 22241 22242 22243 22244 22245 22246 22247 22248 22249 22250 22251 22252 22253 22254 22255 22256 22257 22258 22259 22260 22261 22262 22263 22264 22265 22266 22267 22268 22269 22270 22271 22272 22273 22274 22275 22276 22277 22278 22279 22280 22281 22282 22283 22284 22285 22286 22287 22288 22289 22290 22291 22292 22293 22294 22295 22296 22297 22298 22299 22300 22301 22302 22303 22304 22305 22306 22307 22308 22309 22310 22311 22312 22313 22314 22315 22316 22317 22318 22319 22320 22321 22322 22323 22324 22325 22326 22327 22328 22329 22330 22331 22332 22333 22334 22335 22336 22337 22338 22339 22340 22341 22342 22343 22344 22345 22346 22347 22348 22349 22350 22351 22352 22353 22354 22355 22356 22357 22358 22359 22360 22361 22362 22363 22364 22365 22366 22367 22368 22369 22370 22371 22372 22373 22374 22375 22376 22377 22378 22379 22380 22381 22382 22383 22384 22385 22386 22387 22388 22389 22390 22391 22392 22393 22394 22395 22396 22397 \n"
     ]
    }
   ],
   "source": [
    "n = int(input())\n",
    "a = int(input())\n",
    "for i in range(n):\n",
    "    space = \"\"\n",
    "    for j in range(i+1):\n",
    "        space = space + str(a)+\" \"\n",
    "        a+=1 \n",
    "print(space)\n"
   ]
  },
  {
   "cell_type": "code",
   "execution_count": null,
   "id": "caf8370c",
   "metadata": {},
   "outputs": [],
   "source": [
    "string1 = input()\n",
    "string2 = input()\n",
    "a = len(string1)\n",
    "b = len(string2)\n",
    "if a<b:\n",
    "    a,b = b,a\n",
    "print\n"
   ]
  },
  {
   "cell_type": "code",
   "execution_count": 1,
   "id": "52cf732b",
   "metadata": {},
   "outputs": [
    {
     "name": "stdout",
     "output_type": "stream",
     "text": [
      "13\n"
     ]
    }
   ],
   "source": [
    "from datetime import date\n",
    "\n",
    "date_object = date(2020, 4, 13)\n",
    "print(date_object.day)\n"
   ]
  },
  {
   "cell_type": "code",
   "execution_count": 2,
   "id": "13c02bf8",
   "metadata": {},
   "outputs": [
    {
     "name": "stdout",
     "output_type": "stream",
     "text": [
      "2000-07-02\n"
     ]
    }
   ],
   "source": [
    "import datetime\n",
    "\n",
    "date_object = datetime.date(2000, 7, 2)\n",
    "print(date_object)\n"
   ]
  },
  {
   "cell_type": "code",
   "execution_count": 3,
   "id": "02495648",
   "metadata": {},
   "outputs": [
    {
     "ename": "ValueError",
     "evalue": "day is out of range for month",
     "output_type": "error",
     "traceback": [
      "\u001b[1;31m---------------------------------------------------------------------------\u001b[0m",
      "\u001b[1;31mValueError\u001b[0m                                Traceback (most recent call last)",
      "\u001b[1;32m<ipython-input-3-48c6401dd1de>\u001b[0m in \u001b[0;36m<module>\u001b[1;34m\u001b[0m\n\u001b[0;32m      1\u001b[0m \u001b[1;32mfrom\u001b[0m \u001b[0mdatetime\u001b[0m \u001b[1;32mimport\u001b[0m \u001b[0mdate\u001b[0m\u001b[1;33m\u001b[0m\u001b[1;33m\u001b[0m\u001b[0m\n\u001b[0;32m      2\u001b[0m \u001b[1;33m\u001b[0m\u001b[0m\n\u001b[1;32m----> 3\u001b[1;33m \u001b[0mdate_obj\u001b[0m \u001b[1;33m=\u001b[0m \u001b[0mdate\u001b[0m\u001b[1;33m(\u001b[0m\u001b[1;36m2022\u001b[0m\u001b[1;33m,\u001b[0m \u001b[1;36m2\u001b[0m\u001b[1;33m,\u001b[0m \u001b[1;36m31\u001b[0m\u001b[1;33m)\u001b[0m\u001b[1;33m\u001b[0m\u001b[1;33m\u001b[0m\u001b[0m\n\u001b[0m\u001b[0;32m      4\u001b[0m \u001b[0mprint\u001b[0m\u001b[1;33m(\u001b[0m\u001b[0mdate_obj\u001b[0m\u001b[1;33m)\u001b[0m\u001b[1;33m\u001b[0m\u001b[1;33m\u001b[0m\u001b[0m\n",
      "\u001b[1;31mValueError\u001b[0m: day is out of range for month"
     ]
    }
   ],
   "source": [
    "from datetime import date\n",
    "\n",
    "date_obj = date(2022, 2, 31)\n",
    "print(date_obj)\n"
   ]
  },
  {
   "cell_type": "code",
   "execution_count": 4,
   "id": "302bd43a",
   "metadata": {},
   "outputs": [
    {
     "name": "stdout",
     "output_type": "stream",
     "text": [
      "2021-11-08\n"
     ]
    }
   ],
   "source": [
    "import datetime\n",
    "\n",
    "date_object = datetime.date.today()\n",
    "print(date_object)\n"
   ]
  },
  {
   "cell_type": "code",
   "execution_count": 5,
   "id": "3621cec9",
   "metadata": {},
   "outputs": [
    {
     "name": "stdout",
     "output_type": "stream",
     "text": [
      "2024-02-29\n"
     ]
    }
   ],
   "source": [
    "from datetime import date\n",
    "\n",
    "date_obj = date(2024, 2, 29)\n",
    "print(date_obj)\n"
   ]
  },
  {
   "cell_type": "code",
   "execution_count": 6,
   "id": "0705e7de",
   "metadata": {},
   "outputs": [
    {
     "name": "stdout",
     "output_type": "stream",
     "text": [
      "2021-11-08 18:10:04.923017\n"
     ]
    }
   ],
   "source": [
    "import datetime\n",
    "\n",
    "datetime_object = datetime.datetime.now()\n",
    "print(datetime_object)\n"
   ]
  },
  {
   "cell_type": "code",
   "execution_count": 7,
   "id": "228b0a82",
   "metadata": {},
   "outputs": [
    {
     "name": "stdout",
     "output_type": "stream",
     "text": [
      "<class 'datetime.datetime'>\n"
     ]
    }
   ],
   "source": [
    "from datetime import datetime\n",
    "\n",
    "date_string = \"28 November, 2018\"\n",
    "\n",
    "date_object = datetime.strptime(date_string, \"%d %B, %Y\")\n",
    "print(type(date_object))\n"
   ]
  },
  {
   "cell_type": "code",
   "execution_count": 8,
   "id": "93ac5d5d",
   "metadata": {},
   "outputs": [
    {
     "name": "stdout",
     "output_type": "stream",
     "text": [
      "11:34:56\n"
     ]
    }
   ],
   "source": [
    "from datetime import time\n",
    "\n",
    "time_object = time(11, 34, 56)\n",
    "print(time_object)\n"
   ]
  },
  {
   "cell_type": "code",
   "execution_count": 9,
   "id": "ecd2c70d",
   "metadata": {},
   "outputs": [
    {
     "name": "stdout",
     "output_type": "stream",
     "text": [
      "34\n"
     ]
    }
   ],
   "source": [
    "from datetime import time\n",
    "\n",
    "time_object = time(11, 34, 56)\n",
    "print(time_object.minute)\n"
   ]
  },
  {
   "cell_type": "code",
   "execution_count": 10,
   "id": "24746855",
   "metadata": {},
   "outputs": [
    {
     "name": "stdout",
     "output_type": "stream",
     "text": [
      "-13 days, 0:00:00\n"
     ]
    }
   ],
   "source": [
    "import datetime\n",
    "\n",
    "dt1 = datetime.datetime(2022, 2, 18)\n",
    "dt2 = datetime.datetime(2022, 2, 5)\n",
    "duration = dt2 - dt1\n",
    "print(duration)"
   ]
  },
  {
   "cell_type": "code",
   "execution_count": 11,
   "id": "f31ea793",
   "metadata": {},
   "outputs": [
    {
     "name": "stdout",
     "output_type": "stream",
     "text": [
      "2018-11-28 00:00:00\n"
     ]
    }
   ],
   "source": [
    "from datetime import datetime\n",
    "\n",
    "date_time_obj = datetime(2018, 11, 28)\n",
    "print(date_time_obj)\n"
   ]
  },
  {
   "cell_type": "code",
   "execution_count": 12,
   "id": "5f0b644d",
   "metadata": {},
   "outputs": [
    {
     "name": "stdout",
     "output_type": "stream",
     "text": [
      "<class 'str'>\n"
     ]
    }
   ],
   "source": [
    "from datetime import datetime\n",
    "\n",
    "now = datetime.now()\n",
    "formatted_datetime_2 = now.strftime(\"%d/%m/%Y, %H:%M:%S\")\n",
    "print(type(formatted_datetime_2))"
   ]
  },
  {
   "cell_type": "code",
   "execution_count": 13,
   "id": "c08a1137",
   "metadata": {},
   "outputs": [
    {
     "name": "stdout",
     "output_type": "stream",
     "text": [
      "330 days, 0:00:00\n"
     ]
    }
   ],
   "source": [
    "import datetime\n",
    "\n",
    "dt1 = datetime.datetime(2021, 2, 5)\n",
    "dt2 = datetime.datetime(2022, 1, 1)\n",
    "duration = dt2 - dt1\n",
    "print(duration)\n"
   ]
  },
  {
   "cell_type": "code",
   "execution_count": 15,
   "id": "3d9c44a6",
   "metadata": {},
   "outputs": [
    {
     "name": "stdout",
     "output_type": "stream",
     "text": [
      "10\n"
     ]
    }
   ],
   "source": [
    "from datetime import datetime\n",
    "\n",
    "date_time_obj = datetime(2019, 7, 16, 10, 15, 26)\n",
    "print(date_time_obj.hour)\n"
   ]
  },
  {
   "cell_type": "code",
   "execution_count": 16,
   "id": "bc194a45",
   "metadata": {},
   "outputs": [
    {
     "name": "stdout",
     "output_type": "stream",
     "text": [
      "365 days, 4:00:00\n"
     ]
    }
   ],
   "source": [
    "from datetime import timedelta\n",
    "\n",
    "delta = timedelta(days=365, hours=4)\n",
    "print(delta)\n"
   ]
  },
  {
   "cell_type": "code",
   "execution_count": 17,
   "id": "9829a3de",
   "metadata": {},
   "outputs": [
    {
     "name": "stdout",
     "output_type": "stream",
     "text": [
      "08/11/2021, 18:13:17\n"
     ]
    }
   ],
   "source": [
    "from datetime import datetime\n",
    "\n",
    "now = datetime.now()\n",
    "formatted_datetime = now.strftime(\"%d/%m/%Y, %H:%M:%S\")\n",
    "print(formatted_datetime)\n"
   ]
  },
  {
   "cell_type": "code",
   "execution_count": 18,
   "id": "3103f505",
   "metadata": {},
   "outputs": [
    {
     "name": "stdout",
     "output_type": "stream",
     "text": [
      "08 Nov 2021 06:13:34 PM\n"
     ]
    }
   ],
   "source": [
    "from datetime import datetime\n",
    "\n",
    "now = datetime.now()\n",
    "formatted_datetime = now.strftime(\"%d %b %Y %I:%M:%S %p\")\n",
    "print(formatted_datetime)\n"
   ]
  },
  {
   "cell_type": "code",
   "execution_count": 19,
   "id": "1a7a8386",
   "metadata": {},
   "outputs": [
    {
     "name": "stdout",
     "output_type": "stream",
     "text": [
      "13 April 2019\n"
     ]
    }
   ],
   "source": [
    "import datetime\n",
    "\n",
    "date_object = datetime.date(2019, 4, 13)\n",
    "formatted_time = date_object.strftime(\"%d %B %Y\")\n",
    "print(formatted_time)\n"
   ]
  },
  {
   "cell_type": "code",
   "execution_count": 20,
   "id": "fcb4a41f",
   "metadata": {},
   "outputs": [
    {
     "name": "stdout",
     "output_type": "stream",
     "text": [
      "2022-11-08\n"
     ]
    }
   ],
   "source": [
    "from datetime import timedelta, date\n",
    "\n",
    "delta = timedelta(days=365)\n",
    "current_datetime = date.today()\n",
    "\n",
    "next_year_datetime = current_datetime + delta\n",
    "print(next_year_datetime)"
   ]
  },
  {
   "cell_type": "code",
   "execution_count": 21,
   "id": "621b8c30",
   "metadata": {},
   "outputs": [
    {
     "name": "stdout",
     "output_type": "stream",
     "text": [
      "2018-11-28 00:00:00\n"
     ]
    }
   ],
   "source": [
    "from datetime import datetime\n",
    "\n",
    "date_string = \"28 November, 2018\"\n",
    "\n",
    "date_object = datetime.strptime(date_string, \"%d %B, %Y\")\n",
    "print(date_object)\n"
   ]
  },
  {
   "cell_type": "code",
   "execution_count": 22,
   "id": "caf3cb7a",
   "metadata": {},
   "outputs": [
    {
     "name": "stdout",
     "output_type": "stream",
     "text": [
      "2021-11-08 18:14:30.220734\n"
     ]
    }
   ],
   "source": [
    "import datetime\n",
    "\n",
    "datetime_object = datetime.datetime.now()\n",
    "print(datetime_object)\n"
   ]
  },
  {
   "cell_type": "code",
   "execution_count": 23,
   "id": "eeb7fe86",
   "metadata": {},
   "outputs": [
    {
     "name": "stdout",
     "output_type": "stream",
     "text": [
      "2022-11-08\n"
     ]
    }
   ],
   "source": [
    "    from datetime import timedelta, date\n",
    "\n",
    "delta = timedelta(days=365)\n",
    "current_datetime = date.today()\n",
    "\n",
    "next_year_datetime = current_datetime + delta\n",
    "print(next_year_datetime)\n"
   ]
  },
  {
   "cell_type": "code",
   "execution_count": 24,
   "id": "3037353e",
   "metadata": {},
   "outputs": [
    {
     "name": "stdout",
     "output_type": "stream",
     "text": [
      "True\n"
     ]
    }
   ],
   "source": [
    "list_a = ['Teja', 15]\n",
    "list_b = list_a\n",
    "list_b.append(20)\n",
    "list_a_id = id(list_a)\n",
    "list_b_id = id(list_b)\n",
    "is_same = list_a_id == list_b_id\n",
    "print(is_same)\n"
   ]
  },
  {
   "cell_type": "code",
   "execution_count": 25,
   "id": "b7f65e72",
   "metadata": {},
   "outputs": [
    {
     "name": "stdout",
     "output_type": "stream",
     "text": [
      "False\n"
     ]
    }
   ],
   "source": [
    "list_a = ['Teja', 15]\n",
    "list_b = list_a.copy()\n",
    "list_b.extend([20])\n",
    "list_a_id = id(list_a)\n",
    "list_b_id = id(list_b)\n",
    "is_same = list_a_id == list_b_id\n",
    "print(is_same)\n"
   ]
  },
  {
   "cell_type": "code",
   "execution_count": 26,
   "id": "aaeaa357",
   "metadata": {},
   "outputs": [
    {
     "name": "stdout",
     "output_type": "stream",
     "text": [
      "False\n"
     ]
    }
   ],
   "source": [
    "dict_a = {\n",
    "    'name': 'Teja',\n",
    "    'age': 15\n",
    "}\n",
    "dict_b = dict_a.copy()\n",
    "dict_b['age'] = 20\n",
    "dict_a_id = id(dict_a)\n",
    "dict_b_id = id(dict_b)\n",
    "is_same = dict_a_id == dict_b_id\n",
    "print(is_same)\n"
   ]
  },
  {
   "cell_type": "code",
   "execution_count": 27,
   "id": "52669519",
   "metadata": {},
   "outputs": [
    {
     "name": "stdout",
     "output_type": "stream",
     "text": [
      "True\n"
     ]
    }
   ],
   "source": [
    "def foo(list_b):\n",
    "    list_b[0] = ['def']\n",
    "    list_b[1] = ['abc']\n",
    "    return list_b\n",
    "\n",
    "list_a = ['abc', 'def']\n",
    "list_b = foo(list_a)\n",
    "is_same = id(list_a) == id(list_b)\n",
    "print(is_same)\n"
   ]
  },
  {
   "cell_type": "code",
   "execution_count": 28,
   "id": "26e84fd3",
   "metadata": {},
   "outputs": [
    {
     "name": "stdout",
     "output_type": "stream",
     "text": [
      "True\n"
     ]
    }
   ],
   "source": [
    "dict_a = {\n",
    "    'name': 'Teja',\n",
    "    'age': 15\n",
    "}\n",
    "dict_b = dict_a\n",
    "dict_b['age'] = 20\n",
    "dict_a_id = id(dict_a)\n",
    "dict_b_id = id(dict_b)\n",
    "is_same = dict_a_id == dict_b_id\n",
    "print(is_same)\n"
   ]
  },
  {
   "cell_type": "code",
   "execution_count": 29,
   "id": "31930613",
   "metadata": {},
   "outputs": [
    {
     "name": "stdout",
     "output_type": "stream",
     "text": [
      "Hello Ram\n"
     ]
    }
   ],
   "source": [
    "def greet(arg1=\"Hi\", arg2=\"Ram\"):\n",
    "    print(arg1 + \" \" + arg2)\n",
    "\n",
    "data = [\"Hello\"]\n",
    "greet(*data)\n"
   ]
  },
  {
   "cell_type": "code",
   "execution_count": 30,
   "id": "0090feb0",
   "metadata": {},
   "outputs": [
    {
     "ename": "RuntimeError",
     "evalue": "dictionary changed size during iteration",
     "output_type": "error",
     "traceback": [
      "\u001b[1;31m---------------------------------------------------------------------------\u001b[0m",
      "\u001b[1;31mRuntimeError\u001b[0m                              Traceback (most recent call last)",
      "\u001b[1;32m<ipython-input-30-5b2647c27e3a>\u001b[0m in \u001b[0;36m<module>\u001b[1;34m\u001b[0m\n\u001b[0;32m      4\u001b[0m }\n\u001b[0;32m      5\u001b[0m \u001b[0mdict_b\u001b[0m \u001b[1;33m=\u001b[0m \u001b[0mdict_a\u001b[0m\u001b[1;33m\u001b[0m\u001b[1;33m\u001b[0m\u001b[0m\n\u001b[1;32m----> 6\u001b[1;33m \u001b[1;32mfor\u001b[0m \u001b[0mk\u001b[0m \u001b[1;32min\u001b[0m \u001b[0mdict_b\u001b[0m\u001b[1;33m.\u001b[0m\u001b[0mkeys\u001b[0m\u001b[1;33m(\u001b[0m\u001b[1;33m)\u001b[0m\u001b[1;33m:\u001b[0m\u001b[1;33m\u001b[0m\u001b[1;33m\u001b[0m\u001b[0m\n\u001b[0m\u001b[0;32m      7\u001b[0m     \u001b[1;32mif\u001b[0m \u001b[0mk\u001b[0m \u001b[1;33m==\u001b[0m \u001b[1;34m'name'\u001b[0m\u001b[1;33m:\u001b[0m\u001b[1;33m\u001b[0m\u001b[1;33m\u001b[0m\u001b[0m\n\u001b[0;32m      8\u001b[0m         \u001b[1;32mdel\u001b[0m \u001b[0mdict_b\u001b[0m\u001b[1;33m[\u001b[0m\u001b[0mk\u001b[0m\u001b[1;33m]\u001b[0m\u001b[1;33m\u001b[0m\u001b[1;33m\u001b[0m\u001b[0m\n",
      "\u001b[1;31mRuntimeError\u001b[0m: dictionary changed size during iteration"
     ]
    }
   ],
   "source": [
    "dict_a = {\n",
    "    'name': 'Teja',\n",
    "    'age': 15\n",
    "}\n",
    "dict_b = dict_a\n",
    "for k in dict_b.keys():\n",
    "    if k == 'name':\n",
    "        del dict_b[k]\n",
    "print(dict_b)"
   ]
  },
  {
   "cell_type": "code",
   "execution_count": 31,
   "id": "bd8ff8aa",
   "metadata": {},
   "outputs": [
    {
     "ename": "TypeError",
     "evalue": "greet() got an unexpected keyword argument 'msg'",
     "output_type": "error",
     "traceback": [
      "\u001b[1;31m---------------------------------------------------------------------------\u001b[0m",
      "\u001b[1;31mTypeError\u001b[0m                                 Traceback (most recent call last)",
      "\u001b[1;32m<ipython-input-31-4858fcbfc07c>\u001b[0m in \u001b[0;36m<module>\u001b[1;34m\u001b[0m\n\u001b[0;32m      6\u001b[0m     \u001b[1;34m'name'\u001b[0m\u001b[1;33m:\u001b[0m\u001b[1;34m'Teja'\u001b[0m\u001b[1;33m\u001b[0m\u001b[1;33m\u001b[0m\u001b[0m\n\u001b[0;32m      7\u001b[0m }\n\u001b[1;32m----> 8\u001b[1;33m \u001b[0mgreet\u001b[0m\u001b[1;33m(\u001b[0m\u001b[1;33m**\u001b[0m\u001b[0mdata\u001b[0m\u001b[1;33m)\u001b[0m\u001b[1;33m\u001b[0m\u001b[1;33m\u001b[0m\u001b[0m\n\u001b[0m",
      "\u001b[1;31mTypeError\u001b[0m: greet() got an unexpected keyword argument 'msg'"
     ]
    }
   ],
   "source": [
    "def greet(arg1=\"Hi\", arg2=\"Ram\"):\n",
    "    print(arg1 + \" \" + arg2)\n",
    "\n",
    "data = {\n",
    "    'msg':'Hello',\n",
    "    'name':'Teja'\n",
    "}\n",
    "greet(**data)\n"
   ]
  },
  {
   "cell_type": "code",
   "execution_count": 32,
   "id": "cf974060",
   "metadata": {},
   "outputs": [
    {
     "name": "stdout",
     "output_type": "stream",
     "text": [
      "{'a': 1, 'b': 2}\n"
     ]
    }
   ],
   "source": [
    "def more_args(**kwargs):\n",
    "    print(kwargs)\n",
    "    \n",
    "more_args(a=1, b=2)\n"
   ]
  },
  {
   "cell_type": "code",
   "execution_count": 33,
   "id": "858c74f4",
   "metadata": {},
   "outputs": [
    {
     "ename": "TypeError",
     "evalue": "can only concatenate list (not \"str\") to list",
     "output_type": "error",
     "traceback": [
      "\u001b[1;31m---------------------------------------------------------------------------\u001b[0m",
      "\u001b[1;31mTypeError\u001b[0m                                 Traceback (most recent call last)",
      "\u001b[1;32m<ipython-input-33-3a6fd3c3ddde>\u001b[0m in \u001b[0;36m<module>\u001b[1;34m\u001b[0m\n\u001b[0;32m      3\u001b[0m \u001b[1;33m\u001b[0m\u001b[0m\n\u001b[0;32m      4\u001b[0m \u001b[0mdata\u001b[0m \u001b[1;33m=\u001b[0m \u001b[1;33m[\u001b[0m\u001b[1;34m\"Hello\"\u001b[0m\u001b[1;33m,\u001b[0m \u001b[1;34m\"Teja\"\u001b[0m\u001b[1;33m]\u001b[0m\u001b[1;33m\u001b[0m\u001b[1;33m\u001b[0m\u001b[0m\n\u001b[1;32m----> 5\u001b[1;33m \u001b[0mgreet\u001b[0m\u001b[1;33m(\u001b[0m\u001b[0mdata\u001b[0m\u001b[1;33m)\u001b[0m\u001b[1;33m\u001b[0m\u001b[1;33m\u001b[0m\u001b[0m\n\u001b[0m",
      "\u001b[1;32m<ipython-input-33-3a6fd3c3ddde>\u001b[0m in \u001b[0;36mgreet\u001b[1;34m(arg1, arg2)\u001b[0m\n\u001b[0;32m      1\u001b[0m \u001b[1;32mdef\u001b[0m \u001b[0mgreet\u001b[0m\u001b[1;33m(\u001b[0m\u001b[0marg1\u001b[0m\u001b[1;33m=\u001b[0m\u001b[1;34m\"Hi\"\u001b[0m\u001b[1;33m,\u001b[0m \u001b[0marg2\u001b[0m\u001b[1;33m=\u001b[0m\u001b[1;34m\"Ram\"\u001b[0m\u001b[1;33m)\u001b[0m\u001b[1;33m:\u001b[0m\u001b[1;33m\u001b[0m\u001b[1;33m\u001b[0m\u001b[0m\n\u001b[1;32m----> 2\u001b[1;33m     \u001b[0mprint\u001b[0m\u001b[1;33m(\u001b[0m\u001b[0marg1\u001b[0m \u001b[1;33m+\u001b[0m \u001b[1;34m\" \"\u001b[0m \u001b[1;33m+\u001b[0m \u001b[0marg2\u001b[0m\u001b[1;33m)\u001b[0m\u001b[1;33m\u001b[0m\u001b[1;33m\u001b[0m\u001b[0m\n\u001b[0m\u001b[0;32m      3\u001b[0m \u001b[1;33m\u001b[0m\u001b[0m\n\u001b[0;32m      4\u001b[0m \u001b[0mdata\u001b[0m \u001b[1;33m=\u001b[0m \u001b[1;33m[\u001b[0m\u001b[1;34m\"Hello\"\u001b[0m\u001b[1;33m,\u001b[0m \u001b[1;34m\"Teja\"\u001b[0m\u001b[1;33m]\u001b[0m\u001b[1;33m\u001b[0m\u001b[1;33m\u001b[0m\u001b[0m\n\u001b[0;32m      5\u001b[0m \u001b[0mgreet\u001b[0m\u001b[1;33m(\u001b[0m\u001b[0mdata\u001b[0m\u001b[1;33m)\u001b[0m\u001b[1;33m\u001b[0m\u001b[1;33m\u001b[0m\u001b[0m\n",
      "\u001b[1;31mTypeError\u001b[0m: can only concatenate list (not \"str\") to list"
     ]
    }
   ],
   "source": [
    "def greet(arg1=\"Hi\", arg2=\"Ram\"):\n",
    "    print(arg1 + \" \" + arg2)\n",
    "\n",
    "data = [\"Hello\", \"Teja\"]\n",
    "greet(data)\n"
   ]
  },
  {
   "cell_type": "code",
   "execution_count": 34,
   "id": "bc321d94",
   "metadata": {},
   "outputs": [
    {
     "name": "stdout",
     "output_type": "stream",
     "text": [
      "Hello Teja\n"
     ]
    }
   ],
   "source": [
    "def greet(arg1=\"Hi\", arg2=\"Ram\"):\n",
    "    print(arg1 + \" \" + arg2)\n",
    "\n",
    "data = [\"Hello\", \"Teja\"]\n",
    "greet(*data)\n"
   ]
  },
  {
   "cell_type": "code",
   "execution_count": 35,
   "id": "f479b1cc",
   "metadata": {},
   "outputs": [
    {
     "ename": "RuntimeError",
     "evalue": "dictionary changed size during iteration",
     "output_type": "error",
     "traceback": [
      "\u001b[1;31m---------------------------------------------------------------------------\u001b[0m",
      "\u001b[1;31mRuntimeError\u001b[0m                              Traceback (most recent call last)",
      "\u001b[1;32m<ipython-input-35-e8bf40265285>\u001b[0m in \u001b[0;36m<module>\u001b[1;34m\u001b[0m\n\u001b[0;32m      4\u001b[0m }\n\u001b[0;32m      5\u001b[0m \u001b[0mdict_b\u001b[0m \u001b[1;33m=\u001b[0m \u001b[0mdict_a\u001b[0m\u001b[1;33m\u001b[0m\u001b[1;33m\u001b[0m\u001b[0m\n\u001b[1;32m----> 6\u001b[1;33m \u001b[1;32mfor\u001b[0m \u001b[0mk\u001b[0m \u001b[1;32min\u001b[0m \u001b[0mdict_a\u001b[0m\u001b[1;33m.\u001b[0m\u001b[0mkeys\u001b[0m\u001b[1;33m(\u001b[0m\u001b[1;33m)\u001b[0m\u001b[1;33m:\u001b[0m\u001b[1;33m\u001b[0m\u001b[1;33m\u001b[0m\u001b[0m\n\u001b[0m\u001b[0;32m      7\u001b[0m     \u001b[1;32mif\u001b[0m \u001b[0mk\u001b[0m \u001b[1;33m==\u001b[0m \u001b[1;34m'name'\u001b[0m\u001b[1;33m:\u001b[0m\u001b[1;33m\u001b[0m\u001b[1;33m\u001b[0m\u001b[0m\n\u001b[0;32m      8\u001b[0m         \u001b[1;32mdel\u001b[0m \u001b[0mdict_b\u001b[0m\u001b[1;33m[\u001b[0m\u001b[0mk\u001b[0m\u001b[1;33m]\u001b[0m\u001b[1;33m\u001b[0m\u001b[1;33m\u001b[0m\u001b[0m\n",
      "\u001b[1;31mRuntimeError\u001b[0m: dictionary changed size during iteration"
     ]
    }
   ],
   "source": [
    "dict_a = {\n",
    "    'name': 'Teja',\n",
    "    'age': 15\n",
    "}\n",
    "dict_b = dict_a\n",
    "for k in dict_a.keys():\n",
    "    if k == 'name':\n",
    "        del dict_b[k]\n",
    "print(dict_b)\n"
   ]
  },
  {
   "cell_type": "code",
   "execution_count": 36,
   "id": "64341011",
   "metadata": {},
   "outputs": [
    {
     "name": "stdout",
     "output_type": "stream",
     "text": [
      "([1, 2, 3, 4],)\n"
     ]
    }
   ],
   "source": [
    "def more_args(*args):\n",
    "    print(args)\n",
    "    \n",
    "more_args([1, 2, 3, 4])\n"
   ]
  },
  {
   "cell_type": "code",
   "execution_count": 37,
   "id": "7ef365bb",
   "metadata": {},
   "outputs": [
    {
     "name": "stdout",
     "output_type": "stream",
     "text": [
      "{'b': 2, 'a': 1}\n"
     ]
    }
   ],
   "source": [
    "def more_args(**kwargs):\n",
    "    print(kwargs)\n",
    "    \n",
    "more_args(b=2, a=1)\n"
   ]
  },
  {
   "cell_type": "code",
   "execution_count": 38,
   "id": "9c8bdf84",
   "metadata": {},
   "outputs": [
    {
     "name": "stdout",
     "output_type": "stream",
     "text": [
      "a:1\n",
      "b:2\n"
     ]
    }
   ],
   "source": [
    "def more_args(**kwargs):\n",
    "    for i, j in kwargs.items():\n",
    "      print('{}:{}'.format(i,j))\n",
    " \n",
    "more_args(a=1, b=2)\n"
   ]
  },
  {
   "cell_type": "code",
   "execution_count": 39,
   "id": "1fc8ee3d",
   "metadata": {},
   "outputs": [
    {
     "ename": "RuntimeError",
     "evalue": "dictionary changed size during iteration",
     "output_type": "error",
     "traceback": [
      "\u001b[1;31m---------------------------------------------------------------------------\u001b[0m",
      "\u001b[1;31mRuntimeError\u001b[0m                              Traceback (most recent call last)",
      "\u001b[1;32m<ipython-input-39-08b9dd558a3b>\u001b[0m in \u001b[0;36m<module>\u001b[1;34m\u001b[0m\n\u001b[0;32m      3\u001b[0m     \u001b[1;34m'age'\u001b[0m\u001b[1;33m:\u001b[0m \u001b[1;36m15\u001b[0m\u001b[1;33m\u001b[0m\u001b[1;33m\u001b[0m\u001b[0m\n\u001b[0;32m      4\u001b[0m }\n\u001b[1;32m----> 5\u001b[1;33m \u001b[1;32mfor\u001b[0m \u001b[0mk\u001b[0m \u001b[1;32min\u001b[0m \u001b[0mdict_a\u001b[0m\u001b[1;33m.\u001b[0m\u001b[0mkeys\u001b[0m\u001b[1;33m(\u001b[0m\u001b[1;33m)\u001b[0m\u001b[1;33m:\u001b[0m\u001b[1;33m\u001b[0m\u001b[1;33m\u001b[0m\u001b[0m\n\u001b[0m\u001b[0;32m      6\u001b[0m     \u001b[1;32mif\u001b[0m \u001b[0mk\u001b[0m \u001b[1;33m==\u001b[0m \u001b[1;34m'name'\u001b[0m\u001b[1;33m:\u001b[0m\u001b[1;33m\u001b[0m\u001b[1;33m\u001b[0m\u001b[0m\n\u001b[0;32m      7\u001b[0m         \u001b[1;32mdel\u001b[0m \u001b[0mdict_a\u001b[0m\u001b[1;33m[\u001b[0m\u001b[0mk\u001b[0m\u001b[1;33m]\u001b[0m\u001b[1;33m\u001b[0m\u001b[1;33m\u001b[0m\u001b[0m\n",
      "\u001b[1;31mRuntimeError\u001b[0m: dictionary changed size during iteration"
     ]
    }
   ],
   "source": [
    "dict_a = {\n",
    "    'name': 'Teja',\n",
    "    'age': 15\n",
    "}\n",
    "for k in dict_a.keys():\n",
    "    if k == 'name':\n",
    "        del dict_a[k]\n",
    "print(dict_a)\n"
   ]
  },
  {
   "cell_type": "code",
   "execution_count": 40,
   "id": "75a805c0",
   "metadata": {},
   "outputs": [
    {
     "name": "stdout",
     "output_type": "stream",
     "text": [
      "(1, 2, 3, 4)\n"
     ]
    }
   ],
   "source": [
    "def more_args(*args):\n",
    "    print(args)\n",
    "    \n",
    "more_args(1, 2, 3, 4)\n"
   ]
  },
  {
   "cell_type": "code",
   "execution_count": 41,
   "id": "68bdf161",
   "metadata": {},
   "outputs": [
    {
     "name": "stdout",
     "output_type": "stream",
     "text": [
      "{'age': 15}\n"
     ]
    }
   ],
   "source": [
    "dict_a = {\n",
    "    'name': 'Teja',\n",
    "    'age': 15\n",
    "}\n",
    "dict_b = dict_a.copy()\n",
    "for k in dict_a.keys():\n",
    "    if k == 'name':\n",
    "        del dict_b[k]\n",
    "print(dict_b)\n"
   ]
  },
  {
   "cell_type": "code",
   "execution_count": 42,
   "id": "3c6a5d79",
   "metadata": {},
   "outputs": [
    {
     "name": "stdout",
     "output_type": "stream",
     "text": [
      "Hello Teja\n"
     ]
    }
   ],
   "source": [
    "def greet(arg1=\"Hi\", arg2=\"Ram\"):\n",
    "    print(arg1 + \" \" + arg2)\n",
    "\n",
    "data = {\n",
    "    'arg1':'Hello',\n",
    "    'arg2':'Teja'\n",
    "}\n",
    "greet(**data)\n"
   ]
  },
  {
   "cell_type": "code",
   "execution_count": 43,
   "id": "9cf6b313",
   "metadata": {},
   "outputs": [
    {
     "name": "stdout",
     "output_type": "stream",
     "text": [
      "Teja Ram\n"
     ]
    }
   ],
   "source": [
    "def greet(arg1=\"Hi\", arg2=\"Ram\"):\n",
    "    print(arg1 + \" \" + arg2)\n",
    "\n",
    "greet(\"Teja\")\n"
   ]
  },
  {
   "cell_type": "code",
   "execution_count": 47,
   "id": "465da808",
   "metadata": {},
   "outputs": [
    {
     "name": "stdout",
     "output_type": "stream",
     "text": [
      "6\n",
      "A \n",
      "B B \n",
      "C C C \n",
      "D D D D \n",
      "E E E E E \n",
      "F F F F F F \n",
      "G G G G G G G \n"
     ]
    }
   ],
   "source": [
    "alphabet = \"ABCDEFGHIJKLMNOPQRSTUVWXYZ\"\n",
    "n = int(input())\n",
    "for i in range(n+1):\n",
    "    print((alphabet[i]+\" \")*(i+1))"
   ]
  },
  {
   "cell_type": "code",
   "execution_count": 30,
   "id": "ae68a213",
   "metadata": {},
   "outputs": [
    {
     "name": "stdout",
     "output_type": "stream",
     "text": [
      "Tea is good for you\n",
      "3\n",
      "is good "
     ]
    }
   ],
   "source": [
    "sentence = input().split()\n",
    "n = int(input())\n",
    "for word in sentence:\n",
    "    if len(word) == n:\n",
    "        sentence.remove(word)\n",
    "        \n",
    "length = len(sentence)\n",
    "#print(sentence)\n",
    "last_word = sentence[(length-1)]\n",
    "if len(last_word) == n:\n",
    "    sentence.remove(last_word)\n",
    "\n",
    "for i in sentence:\n",
    "    print(i, end = ' ')"
   ]
  },
  {
   "cell_type": "code",
   "execution_count": 40,
   "id": "dfb06feb",
   "metadata": {},
   "outputs": [
    {
     "name": "stdout",
     "output_type": "stream",
     "text": [
      "sdrg34r\n",
      "sdrgr\n",
      "34\n",
      "sdrgr34\n"
     ]
    }
   ],
   "source": [
    "string = input()\n",
    "text_string = \"\"\n",
    "num_string = \"\"\n",
    "for i in string:\n",
    "    if i.isdigit():\n",
    "        num_string+=i\n",
    "    else:\n",
    "        text_string+=i\n",
    "print(text_string)\n",
    "print(num_string)\n",
    "print(text_string+num_string)\n"
   ]
  },
  {
   "cell_type": "code",
   "execution_count": null,
   "id": "53b23ef2",
   "metadata": {},
   "outputs": [],
   "source": [
    "n = input()\n",
    "m = \"\"\n",
    "for i in n:\n",
    "    m = m+i\n",
    "print(m)"
   ]
  },
  {
   "cell_type": "code",
   "execution_count": null,
   "id": "6e2220e4",
   "metadata": {},
   "outputs": [],
   "source": []
  }
 ],
 "metadata": {
  "kernelspec": {
   "display_name": "Python 3",
   "language": "python",
   "name": "python3"
  },
  "language_info": {
   "codemirror_mode": {
    "name": "ipython",
    "version": 3
   },
   "file_extension": ".py",
   "mimetype": "text/x-python",
   "name": "python",
   "nbconvert_exporter": "python",
   "pygments_lexer": "ipython3",
   "version": "3.8.8"
  }
 },
 "nbformat": 4,
 "nbformat_minor": 5
}
