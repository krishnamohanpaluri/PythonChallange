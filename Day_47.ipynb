{
 "cells": [
  {
   "cell_type": "code",
   "execution_count": 2,
   "id": "2ecbf936",
   "metadata": {},
   "outputs": [
    {
     "name": "stdout",
     "output_type": "stream",
     "text": [
      "Enter the values of M and N separated by a space: 4 4\n",
      "Enter all matrix values separated by a space: 1 2 3 4 5 6 7 8 9 10 11 12 13 14 15 16\n",
      "1 \n",
      "2 5 \n",
      "3 6 9 \n",
      "4 7 10 13 \n",
      "8 11 \n",
      "12 15 \n",
      "16 \n"
     ]
    }
   ],
   "source": [
    "m, n = input().split()\n",
    "m = int(m)\n",
    "n = int(n)  \n",
    "matrix_str = input().split()\n",
    "\n",
    "matrix = [matrix_str[n*i:n*(i+1)] for i in range(m)]\n",
    "\n",
    "for i in range(n):\n",
    "    for j in range(i+1):\n",
    "        try:\n",
    "            print(matrix[j][i-j],end=' ')\n",
    "        except:\n",
    "            break\n",
    "    print('')\n",
    "\n",
    "for i in range(1,m):\n",
    "    for j in range(i+1):\n",
    "        try:\n",
    "            print(matrix[i+j][-1-j],end=' ')\n",
    "        except:\n",
    "            break\n",
    "    print('')  "
   ]
  },
  {
   "cell_type": "code",
   "execution_count": 3,
   "id": "18d5513d",
   "metadata": {},
   "outputs": [
    {
     "name": "stdout",
     "output_type": "stream",
     "text": [
      "4 4\n",
      "1 2 3 4\n",
      "5 6\n"
     ]
    },
    {
     "ename": "KeyboardInterrupt",
     "evalue": "Interrupted by user",
     "output_type": "error",
     "traceback": [
      "\u001b[1;31m---------------------------------------------------------------------------\u001b[0m",
      "\u001b[1;31mKeyboardInterrupt\u001b[0m                         Traceback (most recent call last)",
      "\u001b[1;32m<ipython-input-3-7c44f4473fb4>\u001b[0m in \u001b[0;36m<module>\u001b[1;34m\u001b[0m\n\u001b[0;32m      5\u001b[0m \u001b[0mcols\u001b[0m \u001b[1;33m=\u001b[0m \u001b[1;33m[\u001b[0m\u001b[1;33m]\u001b[0m\u001b[1;33m\u001b[0m\u001b[1;33m\u001b[0m\u001b[0m\n\u001b[0;32m      6\u001b[0m \u001b[1;32mfor\u001b[0m \u001b[0mi\u001b[0m \u001b[1;32min\u001b[0m \u001b[0mrange\u001b[0m\u001b[1;33m(\u001b[0m\u001b[1;36m1\u001b[0m\u001b[1;33m,\u001b[0m \u001b[0mm\u001b[0m\u001b[1;33m+\u001b[0m\u001b[1;36m1\u001b[0m\u001b[1;33m)\u001b[0m\u001b[1;33m:\u001b[0m\u001b[1;33m\u001b[0m\u001b[1;33m\u001b[0m\u001b[0m\n\u001b[1;32m----> 7\u001b[1;33m     \u001b[0ma\u001b[0m \u001b[1;33m=\u001b[0m \u001b[0minput\u001b[0m\u001b[1;33m(\u001b[0m\u001b[1;33m)\u001b[0m\u001b[1;33m.\u001b[0m\u001b[0msplit\u001b[0m\u001b[1;33m(\u001b[0m\u001b[1;33m)\u001b[0m\u001b[1;33m\u001b[0m\u001b[1;33m\u001b[0m\u001b[0m\n\u001b[0m\u001b[0;32m      8\u001b[0m     \u001b[0mrows\u001b[0m\u001b[1;33m.\u001b[0m\u001b[0mappend\u001b[0m\u001b[1;33m(\u001b[0m\u001b[0ma\u001b[0m\u001b[1;33m)\u001b[0m\u001b[1;33m\u001b[0m\u001b[1;33m\u001b[0m\u001b[0m\n\u001b[0;32m      9\u001b[0m \u001b[0mprint\u001b[0m\u001b[1;33m(\u001b[0m\u001b[0mrows\u001b[0m\u001b[1;33m)\u001b[0m\u001b[1;33m\u001b[0m\u001b[1;33m\u001b[0m\u001b[0m\n",
      "\u001b[1;32m~\\anaconda3\\lib\\site-packages\\ipykernel\\kernelbase.py\u001b[0m in \u001b[0;36mraw_input\u001b[1;34m(self, prompt)\u001b[0m\n\u001b[0;32m    858\u001b[0m                 \u001b[1;34m\"raw_input was called, but this frontend does not support input requests.\"\u001b[0m\u001b[1;33m\u001b[0m\u001b[1;33m\u001b[0m\u001b[0m\n\u001b[0;32m    859\u001b[0m             )\n\u001b[1;32m--> 860\u001b[1;33m         return self._input_request(str(prompt),\n\u001b[0m\u001b[0;32m    861\u001b[0m             \u001b[0mself\u001b[0m\u001b[1;33m.\u001b[0m\u001b[0m_parent_ident\u001b[0m\u001b[1;33m,\u001b[0m\u001b[1;33m\u001b[0m\u001b[1;33m\u001b[0m\u001b[0m\n\u001b[0;32m    862\u001b[0m             \u001b[0mself\u001b[0m\u001b[1;33m.\u001b[0m\u001b[0m_parent_header\u001b[0m\u001b[1;33m,\u001b[0m\u001b[1;33m\u001b[0m\u001b[1;33m\u001b[0m\u001b[0m\n",
      "\u001b[1;32m~\\anaconda3\\lib\\site-packages\\ipykernel\\kernelbase.py\u001b[0m in \u001b[0;36m_input_request\u001b[1;34m(self, prompt, ident, parent, password)\u001b[0m\n\u001b[0;32m    902\u001b[0m             \u001b[1;32mexcept\u001b[0m \u001b[0mKeyboardInterrupt\u001b[0m\u001b[1;33m:\u001b[0m\u001b[1;33m\u001b[0m\u001b[1;33m\u001b[0m\u001b[0m\n\u001b[0;32m    903\u001b[0m                 \u001b[1;31m# re-raise KeyboardInterrupt, to truncate traceback\u001b[0m\u001b[1;33m\u001b[0m\u001b[1;33m\u001b[0m\u001b[1;33m\u001b[0m\u001b[0m\n\u001b[1;32m--> 904\u001b[1;33m                 \u001b[1;32mraise\u001b[0m \u001b[0mKeyboardInterrupt\u001b[0m\u001b[1;33m(\u001b[0m\u001b[1;34m\"Interrupted by user\"\u001b[0m\u001b[1;33m)\u001b[0m \u001b[1;32mfrom\u001b[0m \u001b[1;32mNone\u001b[0m\u001b[1;33m\u001b[0m\u001b[1;33m\u001b[0m\u001b[0m\n\u001b[0m\u001b[0;32m    905\u001b[0m             \u001b[1;32mexcept\u001b[0m \u001b[0mException\u001b[0m \u001b[1;32mas\u001b[0m \u001b[0me\u001b[0m\u001b[1;33m:\u001b[0m\u001b[1;33m\u001b[0m\u001b[1;33m\u001b[0m\u001b[0m\n\u001b[0;32m    906\u001b[0m                 \u001b[0mself\u001b[0m\u001b[1;33m.\u001b[0m\u001b[0mlog\u001b[0m\u001b[1;33m.\u001b[0m\u001b[0mwarning\u001b[0m\u001b[1;33m(\u001b[0m\u001b[1;34m\"Invalid Message:\"\u001b[0m\u001b[1;33m,\u001b[0m \u001b[0mexc_info\u001b[0m\u001b[1;33m=\u001b[0m\u001b[1;32mTrue\u001b[0m\u001b[1;33m)\u001b[0m\u001b[1;33m\u001b[0m\u001b[1;33m\u001b[0m\u001b[0m\n",
      "\u001b[1;31mKeyboardInterrupt\u001b[0m: Interrupted by user"
     ]
    }
   ],
   "source": []
  },
  {
   "cell_type": "code",
   "execution_count": 7,
   "id": "f5b3571c",
   "metadata": {},
   "outputs": [
    {
     "name": "stdout",
     "output_type": "stream",
     "text": [
      "4 4\n",
      "1 2 3 4 \n",
      "1 2 3 4\n",
      "1 2 3 4\n",
      "1 2 3 4\n",
      "[['1', '2', '3', '4'], ['1', '2', '3', '4'], ['1', '2', '3', '4'], ['1', '2', '3', '4']]\n",
      "2 1 \n",
      "3 2 1 \n",
      "4 3 2 1 \n",
      "4 3 \n",
      "4 3 \n",
      "4 \n"
     ]
    }
   ],
   "source": [
    "m, n = input().split()\n",
    "m = int(m)\n",
    "n = int(n)\n",
    "matrix = []\n",
    "cols = []\n",
    "for i in range(1, m+1):\n",
    "    a = input().split()\n",
    "    matrix.append(a)\n",
    "print(matrix)\n",
    "\n",
    "for i in range(1, m):\n",
    "    for j in range(i+1):\n",
    "        try:\n",
    "            print(matrix[j][i-j], end =' ')\n",
    "        except:\n",
    "            break\n",
    "    print('')\n",
    "\n",
    "for i in range(1, m):\n",
    "    for j in range(i+1):\n",
    "        try:\n",
    "            print(matrix[i+j][-1-j], end= ' ')\n",
    "        except:\n",
    "            break\n",
    "    print('')"
   ]
  },
  {
   "cell_type": "code",
   "execution_count": 4,
   "id": "7d65e002",
   "metadata": {},
   "outputs": [
    {
     "name": "stdout",
     "output_type": "stream",
     "text": [
      "Enter the values of M and N separated by a space: 4 4\n",
      "Enter all matrix values separated by a space: 1 2 3 4 5 6 7 8 9 10 11 12 13 14 15 16\n",
      "[['1', '2', '3', '4'], ['5', '6', '7', '8'], ['9', '10', '11', '12'], ['13', '14', '15', '16']]\n"
     ]
    }
   ],
   "source": [
    "\n",
    "m, n = input('Enter the values of M and N separated by a space: ').split()\n",
    "m = int(m)\n",
    "n = int(n)  \n",
    "matrix_str = input('Enter all matrix values separated by a space: ').split()\n",
    "\n",
    "matrix = [matrix_str[n*i:n*(i+1)] for i in range(m)]\n",
    "print(matrix)"
   ]
  },
  {
   "cell_type": "code",
   "execution_count": 8,
   "id": "fdc0b716",
   "metadata": {},
   "outputs": [
    {
     "name": "stdout",
     "output_type": "stream",
     "text": [
      "THis is what it looks like\n",
      "THis: 1\n",
      "is: 1\n",
      "what: 1\n",
      "it: 1\n",
      "looks: 1\n",
      "like: 1\n"
     ]
    }
   ],
   "source": [
    "sentence = input().split(\" \")\n",
    "unique = dict()\n",
    "ordered_dict = dict()\n",
    "for word in sentence:\n",
    "    if word in unique:\n",
    "        continue\n",
    "    unique[word]=1\n",
    "    count = sentence.count(word)\n",
    "    ordered_dict.word + \": \"+str(count))"
   ]
  },
  {
   "cell_type": "code",
   "execution_count": 9,
   "id": "902763e6",
   "metadata": {},
   "outputs": [
    {
     "ename": "KeyboardInterrupt",
     "evalue": "Interrupted by user",
     "output_type": "error",
     "traceback": [
      "\u001b[1;31m---------------------------------------------------------------------------\u001b[0m",
      "\u001b[1;31mKeyboardInterrupt\u001b[0m                         Traceback (most recent call last)",
      "\u001b[1;32m<ipython-input-9-75216d6f4dc5>\u001b[0m in \u001b[0;36m<module>\u001b[1;34m\u001b[0m\n\u001b[0;32m     20\u001b[0m \u001b[0mboard\u001b[0m \u001b[1;33m=\u001b[0m \u001b[1;33m[\u001b[0m\u001b[1;33m]\u001b[0m\u001b[1;33m\u001b[0m\u001b[1;33m\u001b[0m\u001b[0m\n\u001b[0;32m     21\u001b[0m \u001b[1;32mfor\u001b[0m \u001b[0mr\u001b[0m \u001b[1;32min\u001b[0m \u001b[0mrange\u001b[0m\u001b[1;33m(\u001b[0m\u001b[1;36m3\u001b[0m\u001b[1;33m)\u001b[0m\u001b[1;33m:\u001b[0m\u001b[1;33m\u001b[0m\u001b[1;33m\u001b[0m\u001b[0m\n\u001b[1;32m---> 22\u001b[1;33m     \u001b[0mline\u001b[0m \u001b[1;33m=\u001b[0m \u001b[0minput\u001b[0m\u001b[1;33m(\u001b[0m\u001b[1;33m)\u001b[0m\u001b[1;33m\u001b[0m\u001b[1;33m\u001b[0m\u001b[0m\n\u001b[0m\u001b[0;32m     23\u001b[0m     \u001b[0mboard\u001b[0m\u001b[1;33m.\u001b[0m\u001b[0mappend\u001b[0m\u001b[1;33m(\u001b[0m\u001b[0mline\u001b[0m\u001b[1;33m.\u001b[0m\u001b[0msplit\u001b[0m\u001b[1;33m(\u001b[0m\u001b[1;33m)\u001b[0m\u001b[1;33m)\u001b[0m\u001b[1;33m\u001b[0m\u001b[1;33m\u001b[0m\u001b[0m\n\u001b[0;32m     24\u001b[0m \u001b[1;33m\u001b[0m\u001b[0m\n",
      "\u001b[1;32m~\\anaconda3\\lib\\site-packages\\ipykernel\\kernelbase.py\u001b[0m in \u001b[0;36mraw_input\u001b[1;34m(self, prompt)\u001b[0m\n\u001b[0;32m    858\u001b[0m                 \u001b[1;34m\"raw_input was called, but this frontend does not support input requests.\"\u001b[0m\u001b[1;33m\u001b[0m\u001b[1;33m\u001b[0m\u001b[0m\n\u001b[0;32m    859\u001b[0m             )\n\u001b[1;32m--> 860\u001b[1;33m         return self._input_request(str(prompt),\n\u001b[0m\u001b[0;32m    861\u001b[0m             \u001b[0mself\u001b[0m\u001b[1;33m.\u001b[0m\u001b[0m_parent_ident\u001b[0m\u001b[1;33m,\u001b[0m\u001b[1;33m\u001b[0m\u001b[1;33m\u001b[0m\u001b[0m\n\u001b[0;32m    862\u001b[0m             \u001b[0mself\u001b[0m\u001b[1;33m.\u001b[0m\u001b[0m_parent_header\u001b[0m\u001b[1;33m,\u001b[0m\u001b[1;33m\u001b[0m\u001b[1;33m\u001b[0m\u001b[0m\n",
      "\u001b[1;32m~\\anaconda3\\lib\\site-packages\\ipykernel\\kernelbase.py\u001b[0m in \u001b[0;36m_input_request\u001b[1;34m(self, prompt, ident, parent, password)\u001b[0m\n\u001b[0;32m    902\u001b[0m             \u001b[1;32mexcept\u001b[0m \u001b[0mKeyboardInterrupt\u001b[0m\u001b[1;33m:\u001b[0m\u001b[1;33m\u001b[0m\u001b[1;33m\u001b[0m\u001b[0m\n\u001b[0;32m    903\u001b[0m                 \u001b[1;31m# re-raise KeyboardInterrupt, to truncate traceback\u001b[0m\u001b[1;33m\u001b[0m\u001b[1;33m\u001b[0m\u001b[1;33m\u001b[0m\u001b[0m\n\u001b[1;32m--> 904\u001b[1;33m                 \u001b[1;32mraise\u001b[0m \u001b[0mKeyboardInterrupt\u001b[0m\u001b[1;33m(\u001b[0m\u001b[1;34m\"Interrupted by user\"\u001b[0m\u001b[1;33m)\u001b[0m \u001b[1;32mfrom\u001b[0m \u001b[1;32mNone\u001b[0m\u001b[1;33m\u001b[0m\u001b[1;33m\u001b[0m\u001b[0m\n\u001b[0m\u001b[0;32m    905\u001b[0m             \u001b[1;32mexcept\u001b[0m \u001b[0mException\u001b[0m \u001b[1;32mas\u001b[0m \u001b[0me\u001b[0m\u001b[1;33m:\u001b[0m\u001b[1;33m\u001b[0m\u001b[1;33m\u001b[0m\u001b[0m\n\u001b[0;32m    906\u001b[0m                 \u001b[0mself\u001b[0m\u001b[1;33m.\u001b[0m\u001b[0mlog\u001b[0m\u001b[1;33m.\u001b[0m\u001b[0mwarning\u001b[0m\u001b[1;33m(\u001b[0m\u001b[1;34m\"Invalid Message:\"\u001b[0m\u001b[1;33m,\u001b[0m \u001b[0mexc_info\u001b[0m\u001b[1;33m=\u001b[0m\u001b[1;32mTrue\u001b[0m\u001b[1;33m)\u001b[0m\u001b[1;33m\u001b[0m\u001b[1;33m\u001b[0m\u001b[0m\n",
      "\u001b[1;31mKeyboardInterrupt\u001b[0m: Interrupted by user"
     ]
    }
   ],
   "source": [
    "def check_win(board):\n",
    "    for r in range(3):\n",
    "        if board[r][0] == board[r][1] == board[r][2]:\n",
    "            return board[r][0]\n",
    "        \n",
    "    for c in range(3):\n",
    "        if board[0][c] == board[1][c] == board[2][c]:\n",
    "            return board[0][c]\n",
    "\n",
    "    if board[0][0] == board [1][1] == board [2][2]:\n",
    "        return board[0][0]\n",
    "    \n",
    "    if board[0][2] == board [1][1] == board [2][0]:\n",
    "        return board[0][2]\n",
    "\n",
    "board = []\n",
    "for r in range(3):\n",
    "    line = input()\n",
    "    board.append(line.split())\n",
    "\n",
    "res = check_win(board)\n",
    "if res is None:\n",
    "    print(Tie)\n",
    "elif res.upper() == 'X':\n",
    "    print('Anjali Wins')\n",
    "elif res.upper() == 'O':\n",
    "    print('Abhinav Wins')"
   ]
  },
  {
   "cell_type": "code",
   "execution_count": 39,
   "id": "40fa5c50",
   "metadata": {},
   "outputs": [
    {
     "name": "stdout",
     "output_type": "stream",
     "text": [
      "3 1 2 5 3 7 7\n",
      "4\n"
     ]
    }
   ],
   "source": [
    "nums = input().split()\n",
    "nums_1 = []\n",
    "for i in nums:\n",
    "    nums_1.append(int(i))\n",
    "a = sorted(nums_1)\n",
    "small_number = 1\n",
    "while True:\n",
    "    if small_number not in nums_1:\n",
    "        break\n",
    "    small_number+=1\n",
    "print(small_number)\n",
    "        "
   ]
  },
  {
   "cell_type": "code",
   "execution_count": 25,
   "id": "46794737",
   "metadata": {},
   "outputs": [
    {
     "name": "stdout",
     "output_type": "stream",
     "text": [
      "8\n"
     ]
    }
   ],
   "source": [
    "a = [1,2,3,4,5,6,7,8]\n",
    "print(a[-1])"
   ]
  },
  {
   "cell_type": "code",
   "execution_count": 38,
   "id": "30a2b62f",
   "metadata": {},
   "outputs": [
    {
     "name": "stdout",
     "output_type": "stream",
     "text": [
      "Sample Input:\n",
      "3 4 7 2 9 5 1\n",
      "\n",
      "Sample Output:\n",
      "6\n"
     ]
    }
   ],
   "source": [
    "print('Sample Input:')\n",
    "# String containing list of numbers\n",
    "numbers = \"3 4 7 2 9 5 1\"\n",
    "print(numbers)\n",
    "# List containing numbers in string form\n",
    "numberListStr = numbers.split(' ')\n",
    "# Convert each item in list to integer\n",
    "numberListInt = [int(number) for number in numberListStr]\n",
    "\n",
    "smallestMissing = 1\n",
    "\n",
    "while True:\n",
    "    if smallestMissing not in numberListInt:\n",
    "        # Smallest missing number has been found\n",
    "        break\n",
    "    smallestMissing += 1\n",
    "\n",
    "print()\n",
    "print('Sample Output:')\n",
    "print(smallestMissing)"
   ]
  },
  {
   "cell_type": "code",
   "execution_count": null,
   "id": "8c0b1dfa",
   "metadata": {},
   "outputs": [],
   "source": [
    "def convert_string_to_int(str_num_list):\n",
    "    new_list = []\n",
    "    for item in str_num_list:\n",
    "        num = int(item)\n",
    "        new_list.append(num)\n",
    "    return new_list\n",
    "\n",
    "\n",
    "str_num_list = input().split(\",\")\n",
    "rotate_times = int(input())\n",
    "\n",
    "int_list = convert_string_to_int(str_num_list)\n",
    "len_of_list = len(int_list)\n",
    "val = rotate_times % len_of_list\n",
    "\n",
    "first_part = int_list[0:val]\n",
    "second_part = int_list[val:]\n",
    "second_part.extend(first_part)\n",
    "print(second_part)\n"
   ]
  }
 ],
 "metadata": {
  "kernelspec": {
   "display_name": "Python 3",
   "language": "python",
   "name": "python3"
  },
  "language_info": {
   "codemirror_mode": {
    "name": "ipython",
    "version": 3
   },
   "file_extension": ".py",
   "mimetype": "text/x-python",
   "name": "python",
   "nbconvert_exporter": "python",
   "pygments_lexer": "ipython3",
   "version": "3.8.8"
  }
 },
 "nbformat": 4,
 "nbformat_minor": 5
}
