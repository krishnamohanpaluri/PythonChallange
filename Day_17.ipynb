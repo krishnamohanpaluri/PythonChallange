{
 "cells": [
  {
   "cell_type": "code",
   "execution_count": 5,
   "id": "3a8e20af",
   "metadata": {},
   "outputs": [
    {
     "name": "stdout",
     "output_type": "stream",
     "text": [
      "Go\n",
      "Go\n"
     ]
    }
   ],
   "source": [
    "programming_languages_list = [\"Python\", \"Java\", \"Ruby\", \"C\", \"C++\", \"Go\", \"R\", \"JavaScript\", \"Swift\", \"PHP\", \"Kotlin\", \"Perl\"]\n",
    "# Write your code here\n",
    "string =input()\n",
    "for i in programming_languages_list:\n",
    "    if i == string:\n",
    "        print(i)"
   ]
  },
  {
   "cell_type": "code",
   "execution_count": 19,
   "id": "8a0aa16c",
   "metadata": {},
   "outputs": [
    {
     "name": "stdout",
     "output_type": "stream",
     "text": [
      "1\n"
     ]
    }
   ],
   "source": [
    "progr = [\"Python\", \"Java\", \"Ruby\", \"C\", \"C++\", \"Go\", \"R\", \"JavaScript\", \"Swift\", \"PHP\", \"Kotlin\", \"Perl\"]\n",
    "print(progr.index(\"Java\"))"
   ]
  },
  {
   "cell_type": "code",
   "execution_count": 9,
   "id": "a16402e8",
   "metadata": {},
   "outputs": [
    {
     "name": "stdout",
     "output_type": "stream",
     "text": [
      "[3]\n"
     ]
    }
   ],
   "source": [
    "list_1 = []\n",
    "for i in range(1,4):\n",
    "    list_1 = [i]\n",
    "print(list_1)"
   ]
  },
  {
   "cell_type": "code",
   "execution_count": 10,
   "id": "56f23e8c",
   "metadata": {},
   "outputs": [
    {
     "name": "stdout",
     "output_type": "stream",
     "text": [
      "[3, 4, 5]\n"
     ]
    }
   ],
   "source": [
    "list_1 = [1,2,3,4,5,6]\n",
    "list_2 = list_1[2:5]\n",
    "print(list_2)"
   ]
  },
  {
   "cell_type": "code",
   "execution_count": 18,
   "id": "22483608",
   "metadata": {},
   "outputs": [
    {
     "name": "stdout",
     "output_type": "stream",
     "text": [
      "['1223', '2234', '323423', '423423', '1231235', '1231236', '2', '3', '4', '3']\n"
     ]
    }
   ],
   "source": [
    "list_1 = ['1223','2234','323423','423423','1231235','1231236']\n",
    "list_1+=list(\"2343\")\n",
    "print(list_1)"
   ]
  },
  {
   "cell_type": "code",
   "execution_count": 20,
   "id": "cfa5d4a3",
   "metadata": {},
   "outputs": [
    {
     "name": "stdout",
     "output_type": "stream",
     "text": [
      "6\n"
     ]
    }
   ],
   "source": [
    "num_list = [1, 6, 32, 93, 71, -20, 30, -90, 50]\n",
    "print(num_list[1])"
   ]
  },
  {
   "cell_type": "code",
   "execution_count": 23,
   "id": "88a8db29",
   "metadata": {},
   "outputs": [
    {
     "name": "stdout",
     "output_type": "stream",
     "text": [
      "[1, [2, 3, 4]]\n",
      "[2, 3, 4]\n"
     ]
    }
   ],
   "source": [
    "a = [1,[2,3]]\n",
    "b = a[1]\n",
    "b += [4] \n",
    "print(a)\n",
    "print(b)"
   ]
  },
  {
   "cell_type": "code",
   "execution_count": 24,
   "id": "e0f9a7bb",
   "metadata": {},
   "outputs": [
    {
     "name": "stdout",
     "output_type": "stream",
     "text": [
      "[1, 2, 6, 7]\n",
      "[1, 2]\n"
     ]
    }
   ],
   "source": [
    "a = [1,2]\n",
    "b = a\n",
    "a = a+[6,7]\n",
    "print(a)\n",
    "print(b)"
   ]
  },
  {
   "cell_type": "code",
   "execution_count": 25,
   "id": "d1431e9c",
   "metadata": {},
   "outputs": [
    {
     "name": "stdout",
     "output_type": "stream",
     "text": [
      "[1, 2]\n",
      "[1, 2]\n"
     ]
    }
   ],
   "source": [
    "a = 2\n",
    "la = [1,a]\n",
    "print(la)\n",
    "a = 3\n",
    "print(la)"
   ]
  },
  {
   "cell_type": "code",
   "execution_count": 26,
   "id": "de0c12a3",
   "metadata": {},
   "outputs": [
    {
     "name": "stdout",
     "output_type": "stream",
     "text": [
      "[1, 2, 6, 7]\n",
      "[1, 2, 6, 7]\n"
     ]
    }
   ],
   "source": [
    "a = [1,2]\n",
    "b = a\n",
    "a+=[6,7]\n",
    "print(a)\n",
    "print(b)"
   ]
  },
  {
   "cell_type": "code",
   "execution_count": 27,
   "id": "b3a824e9",
   "metadata": {},
   "outputs": [
    {
     "name": "stdout",
     "output_type": "stream",
     "text": [
      "3\n",
      "1\n",
      "3\n",
      "d\n",
      "['1', '3', 'd']\n"
     ]
    }
   ],
   "source": [
    "n = int(input())\n",
    "empty_list=[]\n",
    "for i in range(1, n+1):\n",
    "    k = input()\n",
    "    empty_list.append(k)\n",
    "print(empty_list)\n"
   ]
  },
  {
   "cell_type": "code",
   "execution_count": null,
   "id": "5fb4f976",
   "metadata": {},
   "outputs": [],
   "source": []
  }
 ],
 "metadata": {
  "kernelspec": {
   "display_name": "Python 3",
   "language": "python",
   "name": "python3"
  },
  "language_info": {
   "codemirror_mode": {
    "name": "ipython",
    "version": 3
   },
   "file_extension": ".py",
   "mimetype": "text/x-python",
   "name": "python",
   "nbconvert_exporter": "python",
   "pygments_lexer": "ipython3",
   "version": "3.8.8"
  }
 },
 "nbformat": 4,
 "nbformat_minor": 5
}
