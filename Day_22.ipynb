{
 "cells": [
  {
   "cell_type": "code",
   "execution_count": null,
   "id": "8fa439c1",
   "metadata": {},
   "outputs": [],
   "source": [
    "def fibonacci(n):\n",
    "    # Complete this function to return nth term in fibonacci series\n",
    "    fib_list = [0]\n",
    "    a,b = 0,1\n",
    "    for i in range(1, n+1):\n",
    "        a, b = b, a+b\n",
    "        fib_list+=[a]\n",
    "    return fib_list[n]\n",
    "def get_fibonacci_series(n):\n",
    "    # Complete this function to return list of n terms of fibonacci series\n",
    "    fib_list = [0]\n",
    "    a,b = 0,1\n",
    "    for i in range(1, n+1):\n",
    "        a, b = b, a+b\n",
    "        fib_list+=[a]\n",
    "    return fib_list\n",
    "n = int(input())\n",
    "# Call the get_fibonacci_series function\n",
    "get_fibonacci_series(n)"
   ]
  },
  {
   "cell_type": "code",
   "execution_count": 20,
   "id": "1a0823aa",
   "metadata": {},
   "outputs": [
    {
     "name": "stdout",
     "output_type": "stream",
     "text": [
      "60\n",
      "[(10, 20, 60), (1, 60), (5, 10, 15, 60)]\n"
     ]
    }
   ],
   "source": [
    "n = int(input())\n",
    "num_list = [(10, 20, 30), (1, 2), (5, 10, 15, 45)]\n",
    "new_list =[]\n",
    "# Write your code here\n",
    "l = len(num_list)\n",
    "for i in range(0, l):\n",
    "    k = num_list[i][:-1]+(n,)\n",
    "    new_list+=[k]\n",
    "print(new_list)"
   ]
  },
  {
   "cell_type": "code",
   "execution_count": 22,
   "id": "ca5d4d61",
   "metadata": {},
   "outputs": [
    {
     "name": "stdout",
     "output_type": "stream",
     "text": [
      "6\n"
     ]
    }
   ],
   "source": [
    "a = [1,2,2,2,2,2,2,3,5,3,6,9,5,7,5,]\n",
    "print(a.count(2))"
   ]
  },
  {
   "cell_type": "code",
   "execution_count": 27,
   "id": "351d4775",
   "metadata": {},
   "outputs": [
    {
     "name": "stdout",
     "output_type": "stream",
     "text": [
      "1 2 1 3 5 6 46 84 64 659 5 32 46 89 546 4943 9 2 6 \n",
      "2\n",
      "2\n",
      "2\n",
      "2\n",
      "2\n",
      "2\n",
      "2\n",
      "2\n",
      "2\n",
      "2\n",
      "2\n",
      "2\n",
      "2\n",
      "2\n",
      "2\n",
      "2\n",
      "2\n",
      "2\n",
      "2\n"
     ]
    }
   ],
   "source": [
    "n = input()\n",
    "n = n.split()\n",
    "box = []\n",
    "length = len(n)\n",
    "for i in range(length):\n",
    "    box += [int(n[i])]\n",
    "for j in range(len(box)):\n",
    "print(box.count(j))"
   ]
  },
  {
   "cell_type": "code",
   "execution_count": null,
   "id": "7c745a99",
   "metadata": {},
   "outputs": [],
   "source": []
  }
 ],
 "metadata": {
  "kernelspec": {
   "display_name": "Python 3",
   "language": "python",
   "name": "python3"
  },
  "language_info": {
   "codemirror_mode": {
    "name": "ipython",
    "version": 3
   },
   "file_extension": ".py",
   "mimetype": "text/x-python",
   "name": "python",
   "nbconvert_exporter": "python",
   "pygments_lexer": "ipython3",
   "version": "3.8.8"
  }
 },
 "nbformat": 4,
 "nbformat_minor": 5
}
