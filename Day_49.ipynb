{
 "cells": [
  {
   "cell_type": "code",
   "execution_count": 9,
   "id": "1d0dd145",
   "metadata": {},
   "outputs": [
    {
     "name": "stdout",
     "output_type": "stream",
     "text": [
      "safga 345 dsfg we 5 45 er e4353 345\n",
      "['345', '5', '45', '345']\n"
     ]
    },
    {
     "ename": "IndexError",
     "evalue": "string index out of range",
     "output_type": "error",
     "traceback": [
      "\u001b[1;31m---------------------------------------------------------------------------\u001b[0m",
      "\u001b[1;31mIndexError\u001b[0m                                Traceback (most recent call last)",
      "\u001b[1;32m<ipython-input-9-e45f9de2f7bd>\u001b[0m in \u001b[0;36m<module>\u001b[1;34m\u001b[0m\n\u001b[0;32m      6\u001b[0m \u001b[0mprint\u001b[0m\u001b[1;33m(\u001b[0m\u001b[0mdig\u001b[0m\u001b[1;33m)\u001b[0m\u001b[1;33m\u001b[0m\u001b[1;33m\u001b[0m\u001b[0m\n\u001b[0;32m      7\u001b[0m \u001b[1;32mfor\u001b[0m \u001b[0mi\u001b[0m \u001b[1;32min\u001b[0m \u001b[0mdig\u001b[0m\u001b[1;33m:\u001b[0m\u001b[1;33m\u001b[0m\u001b[1;33m\u001b[0m\u001b[0m\n\u001b[1;32m----> 8\u001b[1;33m     \u001b[0mprint\u001b[0m\u001b[1;33m(\u001b[0m\u001b[0mi\u001b[0m\u001b[1;33m[\u001b[0m\u001b[1;36m0\u001b[0m\u001b[1;33m]\u001b[0m\u001b[1;33m[\u001b[0m\u001b[1;36m1\u001b[0m\u001b[1;33m]\u001b[0m\u001b[1;33m)\u001b[0m\u001b[1;33m\u001b[0m\u001b[1;33m\u001b[0m\u001b[0m\n\u001b[0m",
      "\u001b[1;31mIndexError\u001b[0m: string index out of range"
     ]
    }
   ],
   "source": [
    "n = input().split()\n",
    "dig = []\n",
    "for i in n:\n",
    "    if i.isdigit():\n",
    "        dig.append(i)\n",
    "print(dig)\n",
    "for i in dig:\n",
    "    print(i[0][1])"
   ]
  },
  {
   "cell_type": "code",
   "execution_count": 10,
   "id": "bbf267ce",
   "metadata": {},
   "outputs": [
    {
     "name": "stdout",
     "output_type": "stream",
     "text": [
      "python\n",
      "ythonp\n",
      "5\n"
     ]
    }
   ],
   "source": [
    "#Get the given strings S1 and S2\n",
    "s1=input(\"\")\n",
    "s2=input(\"\")\n",
    "numberRotation =0\n",
    "tmp=s1\n",
    "NoMatch=False\n",
    "#Check two strings\n",
    "while tmp!=s2:\n",
    "    numberRotation+=1\n",
    "    #Right rotation \n",
    "    tmp = s1[len(s1) - numberRotation:] + s1[0 : len(s1) - numberRotation]\n",
    "    if(numberRotation>=len(s1)):\n",
    "        tmp=s2\n",
    "        NoMatch=True\n",
    "\n",
    "\n",
    "#If string S2 is a rotation of another string S1,\n",
    "#print number of right rotations made by string\n",
    "#S1 to match the string S2. Otherwise, print \"No Match\".\n",
    "if NoMatch:\n",
    "    print(\"No Match\")\n",
    "else:\n",
    "    print(str(numberRotation))\n"
   ]
  },
  {
   "cell_type": "code",
   "execution_count": 11,
   "id": "95bb0aa5",
   "metadata": {},
   "outputs": [
    {
     "name": "stdout",
     "output_type": "stream",
     "text": [
      "2 2\n",
      "1 2\n",
      "2 1\n"
     ]
    }
   ],
   "source": [
    "def convert_string_to_int(list_a):\n",
    "    new_list = []\n",
    "    for item in list_a:\n",
    "        num = int(item)\n",
    "        new_list.append(num)\n",
    "    return new_list\n",
    "\n",
    "\n",
    "m, n = input().split()\n",
    "m, n = int(m), int(n)\n",
    "num_list = []\n",
    "\n",
    "for i in range(m):\n",
    "    list_a = input().split()\n",
    "    list_a = convert_string_to_int(list_a)\n",
    "    num_list.append(list_a)\n"
   ]
  },
  {
   "cell_type": "code",
   "execution_count": 13,
   "id": "ac389518",
   "metadata": {},
   "outputs": [
    {
     "name": "stdout",
     "output_type": "stream",
     "text": [
      "4 4\n",
      "1 2 3 4\n",
      "5 6 7 8\n",
      "9 10 11 12\n",
      "13 14 15 16\n",
      "[[1, 2, 3, 4], [5, 6, 7, 8], [9, 10, 11, 12], [13, 14, 15, 16]]\n"
     ]
    }
   ],
   "source": [
    "def string_to_int(a):\n",
    "    n_list = []\n",
    "    for i in a:\n",
    "        i = int(i)\n",
    "        n_list.append(i)\n",
    "    return n_list\n",
    "        \n",
    "m,n = input().split()\n",
    "m = int(m)\n",
    "n = int(n)\n",
    "list_a = []\n",
    "for i in range(m):\n",
    "    a = input().split()\n",
    "    a = string_to_int(a)\n",
    "    list_a.append(a)\n",
    "print(list_a)"
   ]
  },
  {
   "cell_type": "code",
   "execution_count": 14,
   "id": "b0d45380",
   "metadata": {},
   "outputs": [
    {
     "name": "stdout",
     "output_type": "stream",
     "text": [
      "Krishna\n",
      "you are amazingly\n",
      "good at programming\n"
     ]
    }
   ],
   "source": [
    "print('''Krishna\n",
    "you are amazingly\n",
    "good at programming''')"
   ]
  },
  {
   "cell_type": "code",
   "execution_count": 15,
   "id": "98fef180",
   "metadata": {},
   "outputs": [
    {
     "ename": "SyntaxError",
     "evalue": "EOL while scanning string literal (<ipython-input-15-fe52f0ae5bd0>, line 1)",
     "output_type": "error",
     "traceback": [
      "\u001b[1;36m  File \u001b[1;32m\"<ipython-input-15-fe52f0ae5bd0>\"\u001b[1;36m, line \u001b[1;32m1\u001b[0m\n\u001b[1;33m    print(\"\u001b[0m\n\u001b[1;37m           ^\u001b[0m\n\u001b[1;31mSyntaxError\u001b[0m\u001b[1;31m:\u001b[0m EOL while scanning string literal\n"
     ]
    }
   ],
   "source": [
    "print(\"\n",
    "      krishn\n",
    "      na\")"
   ]
  },
  {
   "cell_type": "code",
   "execution_count": 17,
   "id": "41ff2b70",
   "metadata": {},
   "outputs": [
    {
     "name": "stdout",
     "output_type": "stream",
     "text": [
      "6\n",
      "0 1 2 3 4 5 "
     ]
    }
   ],
   "source": [
    "a = int(input())\n",
    "for i in range(a):\n",
    "    print(i, end = \" \")\n",
    "    \"\"\"This prints \n",
    "    numbers upto a\"\"\""
   ]
  },
  {
   "cell_type": "code",
   "execution_count": 37,
   "id": "6ef48b17",
   "metadata": {},
   "outputs": [
    {
     "name": "stdout",
     "output_type": "stream",
     "text": [
      "5\n",
      "11\n",
      "9\n"
     ]
    }
   ],
   "source": [
    "n = int(input())\n",
    "m = int(input())\n",
    "if n>m:\n",
    "    n,m =m,n\n",
    "num_list = []\n",
    "for i in range(n,m+1):\n",
    "    if (i**0.5) == int(i**0.5):\n",
    "        num_list.append(i)\n",
    "if len(num_list) == 0:\n",
    "    print(\"No Perfect Square\")\n",
    "else:\n",
    "    print(num_list[0])\n"
   ]
  },
  {
   "cell_type": "code",
   "execution_count": 36,
   "id": "8e170fe4",
   "metadata": {},
   "outputs": [
    {
     "name": "stdout",
     "output_type": "stream",
     "text": [
      "0\n"
     ]
    }
   ],
   "source": [
    "a = []\n",
    "print(len(a))"
   ]
  },
  {
   "cell_type": "code",
   "execution_count": 41,
   "id": "7ea2911e",
   "metadata": {},
   "outputs": [
    {
     "name": "stdout",
     "output_type": "stream",
     "text": [
      "False\n"
     ]
    }
   ],
   "source": [
    "a = 13**0.5\n",
    "b = int(13**0.5)\n",
    "print(a==b)"
   ]
  },
  {
   "cell_type": "code",
   "execution_count": 53,
   "id": "5a622244",
   "metadata": {},
   "outputs": [
    {
     "name": "stdout",
     "output_type": "stream",
     "text": [
      "1\n",
      "1\n",
      "2\n",
      "2\n",
      "[[0, 0, 0], [0, 0, 1], [0, 1, 0], [0, 1, 2], [1, 0, 0], [1, 0, 2], [1, 1, 1], [1, 1, 2]]\n"
     ]
    }
   ],
   "source": [
    "x = int(input())\n",
    "y = int(input())\n",
    "z = int(input())\n",
    "n = int(input())\n",
    "f = [(a,b,c) for a in range(x+1) for b in range(y+1) for c in range(z+1) if (a>=0 and a<=x) if (b>=0 and b<=y) if (c>=0 and c<=z)]\n",
    "new = []\n",
    "for i in f:\n",
    "    i = list(i)\n",
    "    new.append(i)\n",
    "new_1 = []\n",
    "for j in new:\n",
    "    if sum(j) !=n:\n",
    "        new_1.append(j)\n",
    "print(new_1)"
   ]
  },
  {
   "cell_type": "code",
   "execution_count": 44,
   "id": "5ccb0fa6",
   "metadata": {},
   "outputs": [
    {
     "data": {
      "text/plain": [
       "[(1, 3), (1, 4), (2, 3), (2, 1), (2, 4), (3, 1), (3, 4)]"
      ]
     },
     "execution_count": 44,
     "metadata": {},
     "output_type": "execute_result"
    }
   ],
   "source": [
    "a = [(x, y,z) for x in [a,b,c] for y in [a,b,c] if x != y]"
   ]
  },
  {
   "cell_type": "code",
   "execution_count": 57,
   "id": "1e945cb8",
   "metadata": {},
   "outputs": [
    {
     "ename": "SyntaxError",
     "evalue": "unexpected EOF while parsing (<ipython-input-57-db184240ac2f>, line 9)",
     "output_type": "error",
     "traceback": [
      "\u001b[1;36m  File \u001b[1;32m\"<ipython-input-57-db184240ac2f>\"\u001b[1;36m, line \u001b[1;32m9\u001b[0m\n\u001b[1;33m    \u001b[0m\n\u001b[1;37m    ^\u001b[0m\n\u001b[1;31mSyntaxError\u001b[0m\u001b[1;31m:\u001b[0m unexpected EOF while parsing\n"
     ]
    }
   ],
   "source": [
    "n = int(input())\n",
    "m = input().split()\n",
    "num_list = []\n",
    "for i in m:\n",
    "    i = int(i)\n",
    "    num_list.append(i)\n",
    "num_list = sorted(num_list)\n",
    "for i in num_list:\n",
    "    "
   ]
  },
  {
   "cell_type": "code",
   "execution_count": 70,
   "id": "b40caefd",
   "metadata": {},
   "outputs": [
    {
     "name": "stdout",
     "output_type": "stream",
     "text": [
      "Enter your Guess: 10\n",
      "Too low for the correct guess\n",
      "Enter your Guess: 15\n",
      "you have taken 2 guesses\n"
     ]
    }
   ],
   "source": [
    "import random\n",
    "secret_number = random.randint(1,20)\n",
    "for i in range(1,6):\n",
    "    k = int(input(\"Enter your Guess: \"))\n",
    "    if k < secret_number:\n",
    "        print(\"Too low for the correct guess\")\n",
    "    elif  k>secret_number:\n",
    "        print(\"Too high for the correct guess\")\n",
    "    else:\n",
    "        break\n",
    "if k == secret_number:\n",
    "    print(\"you have taken \"+str(i)+\" guesses\")\n",
    "else:\n",
    "    print(\"Nope \"+str(secret_number)+\" is the correct answer\")"
   ]
  },
  {
   "cell_type": "code",
   "execution_count": null,
   "id": "2602870b",
   "metadata": {},
   "outputs": [],
   "source": []
  },
  {
   "cell_type": "code",
   "execution_count": null,
   "id": "a4bb188e",
   "metadata": {},
   "outputs": [],
   "source": []
  }
 ],
 "metadata": {
  "kernelspec": {
   "display_name": "Python 3",
   "language": "python",
   "name": "python3"
  },
  "language_info": {
   "codemirror_mode": {
    "name": "ipython",
    "version": 3
   },
   "file_extension": ".py",
   "mimetype": "text/x-python",
   "name": "python",
   "nbconvert_exporter": "python",
   "pygments_lexer": "ipython3",
   "version": "3.8.8"
  }
 },
 "nbformat": 4,
 "nbformat_minor": 5
}
