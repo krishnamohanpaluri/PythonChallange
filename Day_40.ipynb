{
 "cells": [
  {
   "cell_type": "code",
   "execution_count": null,
   "id": "f92e4391",
   "metadata": {},
   "outputs": [],
   "source": [
    "n = int(input())\n",
    "for i in range(1, n):\n",
    "    spaces = \" \"*(n-i-1)\n",
    "    numbers = numbers+"
   ]
  },
  {
   "cell_type": "code",
   "execution_count": 2,
   "id": "7cbf4a7b",
   "metadata": {},
   "outputs": [
    {
     "name": "stdout",
     "output_type": "stream",
     "text": [
      "9\n",
      " * * * * * * * * * * * * * * * * * \n",
      "  * * * * * * * * * * * * * * * * \n",
      "   * * * * * * *     * * * * * * *\n",
      "    * * * * * *       * * * * * *\n",
      "     * * * * *         * * * * *\n",
      "      * * * *           * * * *\n",
      "       * * *             * * *\n",
      "        * *               * *\n",
      "         *                 *\n",
      "                           \n"
     ]
    }
   ],
   "source": [
    "n = int(input())\n",
    "print(\" \"+\"* \"*((2*n)-1))\n",
    "print(\"  \"+\"* \"*((2*n)-2))\n",
    "for i in range(2, n+1):\n",
    "    star = \" *\"\n",
    "    space = \" \"\n",
    "    total = space*i + star*(n-i)+ space*i*2 + star*(n-i)\n",
    "    print(total)"
   ]
  },
  {
   "cell_type": "code",
   "execution_count": null,
   "id": "3b335cd5",
   "metadata": {},
   "outputs": [],
   "source": []
  }
 ],
 "metadata": {
  "kernelspec": {
   "display_name": "Python 3",
   "language": "python",
   "name": "python3"
  },
  "language_info": {
   "codemirror_mode": {
    "name": "ipython",
    "version": 3
   },
   "file_extension": ".py",
   "mimetype": "text/x-python",
   "name": "python",
   "nbconvert_exporter": "python",
   "pygments_lexer": "ipython3",
   "version": "3.8.8"
  }
 },
 "nbformat": 4,
 "nbformat_minor": 5
}
