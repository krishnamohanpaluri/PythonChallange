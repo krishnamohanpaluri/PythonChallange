{
 "cells": [
  {
   "cell_type": "code",
   "execution_count": 5,
   "id": "0e2e40e7",
   "metadata": {},
   "outputs": [
    {
     "ename": "NameError",
     "evalue": "name 'a' is not defined",
     "output_type": "error",
     "traceback": [
      "\u001b[1;31m---------------------------------------------------------------------------\u001b[0m",
      "\u001b[1;31mNameError\u001b[0m                                 Traceback (most recent call last)",
      "\u001b[1;32m<ipython-input-5-afae2c55ede1>\u001b[0m in \u001b[0;36m<module>\u001b[1;34m\u001b[0m\n\u001b[0;32m     11\u001b[0m         \u001b[0mprint\u001b[0m\u001b[1;33m(\u001b[0m\u001b[0mself\u001b[0m\u001b[1;33m.\u001b[0m\u001b[0mitems\u001b[0m\u001b[1;33m)\u001b[0m\u001b[1;33m\u001b[0m\u001b[1;33m\u001b[0m\u001b[0m\n\u001b[0;32m     12\u001b[0m \u001b[1;33m\u001b[0m\u001b[0m\n\u001b[1;32m---> 13\u001b[1;33m \u001b[0ma\u001b[0m\u001b[1;33m.\u001b[0m\u001b[0mCart\u001b[0m\u001b[1;33m(\u001b[0m\u001b[1;33m)\u001b[0m\u001b[1;33m\u001b[0m\u001b[1;33m\u001b[0m\u001b[0m\n\u001b[0m\u001b[0;32m     14\u001b[0m \u001b[0ma\u001b[0m\u001b[1;33m.\u001b[0m\u001b[0madd_item\u001b[0m\u001b[1;33m(\u001b[0m\u001b[1;34m\"Book\"\u001b[0m\u001b[1;33m,\u001b[0m \u001b[1;36m33\u001b[0m\u001b[1;33m)\u001b[0m\u001b[1;33m\u001b[0m\u001b[1;33m\u001b[0m\u001b[0m\n\u001b[0;32m     15\u001b[0m \u001b[0ma\u001b[0m\u001b[1;33m.\u001b[0m\u001b[0mdisplay_items\u001b[0m\u001b[1;33m(\u001b[0m\u001b[1;33m)\u001b[0m\u001b[1;33m\u001b[0m\u001b[1;33m\u001b[0m\u001b[0m\n",
      "\u001b[1;31mNameError\u001b[0m: name 'a' is not defined"
     ]
    }
   ],
   "source": [
    "class Cart:\n",
    "    Flat_discount = 0\n",
    "    min_bill = 100\n",
    "    def _init__(self):\n",
    "        self.items = {}\n",
    "    \n",
    "    def add_items(self, item_name, item_quantity):\n",
    "        self.items[item_name] = quantity\n",
    "        \n",
    "    def display_items(self):\n",
    "        print(self.items)\n",
    "\n",
    "a.Cart()\n",
    "a.add_item(\"Book\", 33)\n",
    "a.display_items()\n",
    "print(a.items)"
   ]
  },
  {
   "cell_type": "markdown",
   "id": "b2e75073",
   "metadata": {},
   "source": [
    "Conversion of temps"
   ]
  },
  {
   "cell_type": "code",
   "execution_count": 16,
   "id": "d6a9834a",
   "metadata": {},
   "outputs": [
    {
     "name": "stdout",
     "output_type": "stream",
     "text": [
      "25C\n",
      "25.0C\n",
      "77.0F\n",
      "298.0K\n"
     ]
    }
   ],
   "source": [
    "temp = input()\n",
    "int_temp = float(temp[:-1])\n",
    "if temp[-1:] == \"C\":\n",
    "    temp_in_kelvin = int_temp + 273\n",
    "    temp_in_F = (int_temp*(9/5))+32\n",
    "    print(str(int_temp)+\"C\")\n",
    "    print(str(temp_in_F)+\"F\")\n",
    "    print(str(temp_in_kelvin)+\"K\")\n",
    "elif temp[-1:] == \"F\":\n",
    "    temp_in_C = (int_temp - 32)*(5/9)\n",
    "    temp_in_F = (int_temp)\n",
    "    temp_in_K = temp_in_C+273\n",
    "    print(str(temp_in_C)+\"C\")\n",
    "    print(str(temp_in_F)+\"F\")\n",
    "    print(str(temp_in_K)+\"K\")\n",
    "else:\n",
    "    temp_in_C = temp_in_K - 273\n",
    "    temp_in_F = (temp_in_C*(9/5))+32\n",
    "    temp_in_K = int_temp\n",
    "    print(str(temp_in_C)+\"C\")\n",
    "    print(str(temp_in_F)+\"F\")\n",
    "    print(str(temp_in_K)+\"K\")\n",
    "\n",
    "    "
   ]
  },
  {
   "cell_type": "code",
   "execution_count": 15,
   "id": "9b544d62",
   "metadata": {},
   "outputs": [
    {
     "name": "stdout",
     "output_type": "stream",
     "text": [
      "a\n"
     ]
    }
   ],
   "source": [
    "k = 'krishna'\n",
    "print(k[-1:])"
   ]
  },
  {
   "cell_type": "code",
   "execution_count": null,
   "id": "6d1befe3",
   "metadata": {},
   "outputs": [],
   "source": []
  }
 ],
 "metadata": {
  "kernelspec": {
   "display_name": "Python 3",
   "language": "python",
   "name": "python3"
  },
  "language_info": {
   "codemirror_mode": {
    "name": "ipython",
    "version": 3
   },
   "file_extension": ".py",
   "mimetype": "text/x-python",
   "name": "python",
   "nbconvert_exporter": "python",
   "pygments_lexer": "ipython3",
   "version": "3.8.8"
  }
 },
 "nbformat": 4,
 "nbformat_minor": 5
}
