{
 "cells": [
  {
   "cell_type": "code",
   "execution_count": 25,
   "id": "e274be42",
   "metadata": {},
   "outputs": [
    {
     "name": "stdout",
     "output_type": "stream",
     "text": [
      "10\n",
      "5\n",
      "24\n",
      "24 \n",
      "23 22 \n",
      "21 20 19 \n",
      "18 17 16 15 \n",
      "14 13 12 11 \n",
      "10 9 8 7 6 5 \n",
      "4 3 2 1 0 -1 -2 \n",
      "-3 -4 -5 -6 -7 -8 -9 -10 \n",
      "-11 -12 -13 -14 -15 -16 -17 -18 -19 \n",
      "-20 -21 -22 -23 -24 -25 -26 -27 -28 -29 \n"
     ]
    }
   ],
   "source": [
    "n = int(input())\n",
    "def final(a):\n",
    "    final_1 = 0\n",
    "    for i in range(a+1):\n",
    "          final_1 = final_1+i\n",
    "    return final_1\n",
    "a = int(input())\n",
    "b = final(a)+n-1\n",
    "print(b)\n",
    "for i in range(n):\n",
    "    space = \"\"\n",
    "    for j in range(i+1):\n",
    "        space = space + str(b)+\" \"\n",
    "        b-=1 \n",
    "        if b == 10:\n",
    "            break\n",
    "    print(space)\n",
    "\n",
    "    "
   ]
  },
  {
   "cell_type": "code",
   "execution_count": 16,
   "id": "d3d49d5d",
   "metadata": {},
   "outputs": [
    {
     "name": "stdout",
     "output_type": "stream",
     "text": [
      "3\n",
      "0\n",
      "1\n",
      "2\n",
      "3\n",
      "4\n",
      "5\n",
      "6\n"
     ]
    }
   ],
   "source": [
    "\n",
    "for i in range(b+1):\n",
    "    print(i)"
   ]
  },
  {
   "cell_type": "code",
   "execution_count": 78,
   "id": "84859bf8",
   "metadata": {},
   "outputs": [
    {
     "name": "stdout",
     "output_type": "stream",
     "text": [
      "9\n",
      "        * \n",
      "       * * \n",
      "      * * * \n",
      "     * * * * \n",
      "    * * * * * \n",
      "   * * * * * * \n",
      "  * * * * * * * \n",
      " * * * * * * * * \n",
      "* * * * * * * * * \n",
      " *              *\n",
      "  *            *\n",
      "   *          *\n",
      "    *        *\n",
      "     *      *\n",
      "      *    *\n",
      "       *  *\n",
      "         *\n"
     ]
    }
   ],
   "source": [
    "n = int(input())\n",
    "for i in range(1, n+1):\n",
    "    space = \" \"*(n-i)\n",
    "    print((space+(\"*\"+\" \")*i))\n",
    "for i in range(1, n-1):\n",
    "    space =\" \"\n",
    "    star = \"*\"\n",
    "    \n",
    "    print(space*(i)+star+(\"  \"*(n-1-i))+star)\n",
    "print((\"  \"*(int(n/2))+\" *\"))"
   ]
  },
  {
   "cell_type": "code",
   "execution_count": 146,
   "id": "56db70a6",
   "metadata": {},
   "outputs": [
    {
     "name": "stdout",
     "output_type": "stream",
     "text": [
      "9\n",
      "         1 \n",
      "        1 2 \n",
      "       1 2 3 \n",
      "      1 2 3 4 \n",
      "     1 2 3 4 5 \n",
      "    1 2 3 4 5 6 \n",
      "   1 2 3 4 5 6 7 \n",
      "  1 2 3 4 5 6 7 8 \n",
      " 1 2 3 4 5 6 7 8 9 \n",
      "1 2 3 4 5 6 7 8 \n",
      "1 2 3 4 5 6 7 \n",
      "1 2 3 4 5 6 \n",
      "1 2 3 4 5 \n",
      "1 2 3 4 \n",
      "1 2 3 \n",
      "1 2 \n",
      "1 \n"
     ]
    }
   ],
   "source": [
    "n = int(input())\n",
    "numbers = \"\"\n",
    "for i in range(1, n+1):\n",
    "    spaces = \" \"*(n-i)\n",
    "    numbers =numbers+\" \" + str(i)\n",
    "    total = spaces+numbers+\" \"\n",
    "    print(total)\n",
    "for j in range(1,n):\n",
    "    for i in range(1, n):\n",
    "        space = \" \"*i\n",
    "        print(str(i),end=\" \")\n",
    "    n-=1\n",
    "    print()\n",
    "        "
   ]
  },
  {
   "cell_type": "code",
   "execution_count": 145,
   "id": "1fdf5c7d",
   "metadata": {},
   "outputs": [
    {
     "name": "stdout",
     "output_type": "stream",
     "text": [
      "9\n",
      "1 2 3 4 5 6 7 8 \n",
      "1 2 3 4 5 6 7 \n",
      "1 2 3 4 5 6 \n",
      "1 2 3 4 5 \n",
      "1 2 3 4 \n",
      "1 2 3 \n",
      "1 2 \n",
      "1 \n"
     ]
    }
   ],
   "source": [
    "\n",
    "        "
   ]
  },
  {
   "cell_type": "code",
   "execution_count": 147,
   "id": "77890c76",
   "metadata": {},
   "outputs": [
    {
     "ename": "SyntaxError",
     "evalue": "unexpected EOF while parsing (<ipython-input-147-028ad5ed9779>, line 4)",
     "output_type": "error",
     "traceback": [
      "\u001b[1;36m  File \u001b[1;32m\"<ipython-input-147-028ad5ed9779>\"\u001b[1;36m, line \u001b[1;32m4\u001b[0m\n\u001b[1;33m    #print(char*i)\u001b[0m\n\u001b[1;37m                  ^\u001b[0m\n\u001b[1;31mSyntaxError\u001b[0m\u001b[1;31m:\u001b[0m unexpected EOF while parsing\n"
     ]
    }
   ],
   "source": [
    "string = \"abcedefg\"\n",
    "for char in string:\n",
    "    for i in range(len(string)):\n",
    "        #print(char*i)"
   ]
  },
  {
   "cell_type": "code",
   "execution_count": 155,
   "id": "4d74c49e",
   "metadata": {},
   "outputs": [
    {
     "name": "stdout",
     "output_type": "stream",
     "text": [
      "4\n",
      "* * * * \n",
      "*     * \n",
      "*     * \n",
      "* * * * \n",
      "      * \n",
      "      * \n",
      "* * * * \n"
     ]
    }
   ],
   "source": [
    "n = int(input())\n",
    "print(\"* \"*n)\n",
    "for i in range(1,n-1):\n",
    "    star =\"* \"\n",
    "    space = \"  \"\n",
    "    total = star + space*(n-2)+star\n",
    "    print(total)\n",
    "print(\"* \"*n)\n",
    "for i in range(1, n-1):\n",
    "    space = \"  \"\n",
    "    star = \"* \"\n",
    "    total = space*(n-1)+star\n",
    "    print(total)\n",
    "print(\"* \"*n)"
   ]
  },
  {
   "cell_type": "code",
   "execution_count": 171,
   "id": "e4b66bda",
   "metadata": {},
   "outputs": [
    {
     "name": "stdout",
     "output_type": "stream",
     "text": [
      "123\n",
      "None\n"
     ]
    }
   ],
   "source": [
    "number = input()\n",
    "no_digits = len(number)\n",
    "#print(no_digits)\n",
    "num_list = []\n",
    "for i in number:\n",
    "    i = int(i)\n",
    "    num_list.append(i)\n",
    "#print(num_list)\n",
    "total = 0\n",
    "for i in num_list:\n",
    "    total += i**(no_digits)\n",
    "#print(total)\n",
    "number = int(number)\n",
    "if total == number:\n",
    "    print(number)\n",
    "else:\n",
    "    print(\"None\")\n",
    "#print(type(number), number, no_digits)"
   ]
  },
  {
   "cell_type": "code",
   "execution_count": 176,
   "id": "614a1e68",
   "metadata": {},
   "outputs": [
    {
     "name": "stdout",
     "output_type": "stream",
     "text": [
      "153\n",
      "123\n",
      "123 3\n",
      "124 3\n",
      "125 3\n",
      "126 3\n",
      "127 3\n",
      "128 3\n",
      "129 3\n",
      "130 3\n",
      "131 3\n",
      "132 3\n",
      "133 3\n",
      "134 3\n",
      "135 3\n",
      "136 3\n",
      "137 3\n",
      "138 3\n",
      "139 3\n",
      "140 3\n",
      "141 3\n",
      "142 3\n",
      "143 3\n",
      "144 3\n",
      "145 3\n",
      "146 3\n",
      "147 3\n",
      "148 3\n",
      "149 3\n",
      "150 3\n",
      "151 3\n",
      "152 3\n",
      "153 3\n"
     ]
    }
   ],
   "source": [
    "a = int(input())\n",
    "b = int(input())\n",
    "if a>b:\n",
    "    a,b = b,a\n",
    "for i in range(a, b+1):\n",
    "    i = str(i)\n",
    "    l = len(i)\n",
    "    print(i, l)\n",
    "    "
   ]
  },
  {
   "cell_type": "code",
   "execution_count": 177,
   "id": "790a02a3",
   "metadata": {},
   "outputs": [
    {
     "name": "stdout",
     "output_type": "stream",
     "text": [
      "6\n",
      "     * \n",
      "    * * \n",
      "   * * * \n",
      "  * * * * \n",
      " * * * * * \n",
      "* * * * * * \n",
      " *       *\n",
      "  *     *\n",
      "   *   *\n",
      "    * *\n",
      "     *\n"
     ]
    }
   ],
   "source": [
    "n = int(input())\n",
    "for i in range(1, n+1):\n",
    "    space = \" \"*(n-i)\n",
    "    print((space+(\"*\"+\" \")*i))\n",
    "for i in range(1, n-1):\n",
    "    space =\" \"\n",
    "    star = \"*\"\n",
    "    print(space*(i)+star+(\" \"*(2*(n-1-i)-1))+star) #Correction\n",
    "print((\" \"*(n-1)+\"*\")) #Correction\n"
   ]
  },
  {
   "cell_type": "code",
   "execution_count": 179,
   "id": "e768c62a",
   "metadata": {},
   "outputs": [
    {
     "name": "stdout",
     "output_type": "stream",
     "text": [
      "10\n",
      "6\n",
      "30 \n",
      "29 28 \n",
      "27 26 25 \n",
      "24 23 22 21 \n",
      "20 19 18 17 16 \n",
      "15 14 13 12 11 \n",
      "10 9 8 7 6 5 4 \n",
      "3 2 1 0 -1 -2 -3 -4 \n",
      "-5 -6 -7 -8 -9 -10 -11 -12 -13 \n",
      "-14 -15 -16 -17 -18 -19 -20 -21 -22 -23 \n"
     ]
    }
   ],
   "source": [
    "n = int(input())\n",
    "def final(a):\n",
    "    final_1 = 0\n",
    "    for i in range(a+1):\n",
    "          final_1 = final_1+i\n",
    "    return final_1\n",
    "a = int(input())\n",
    "b = final(a)+n-1\n",
    "#print(b)\n",
    "for i in range(n):\n",
    "    space = \"\"\n",
    "    for j in range(i+1):\n",
    "        space = space + str(b)+\" \"\n",
    "        b-=1 \n",
    "        if b == n:\n",
    "            break\n",
    "    print(space)"
   ]
  },
  {
   "cell_type": "code",
   "execution_count": null,
   "id": "6600dbed",
   "metadata": {},
   "outputs": [],
   "source": [
    "n = int(input())\n",
    "print(\" \"+\"* \"*((2*n)-1))\n",
    "print(\"  \"+\"* \"*((2*n)-2))\n",
    "for i in range(2, n+1):\n",
    "    star = \" *\"\n",
    "    space = \" \"\n",
    "    total = space*i + star*(n-i)+ space*i*2 + star*(n-i)\n",
    "    print(total)"
   ]
  },
  {
   "cell_type": "code",
   "execution_count": 213,
   "id": "98a2b708",
   "metadata": {},
   "outputs": [
    {
     "name": "stdout",
     "output_type": "stream",
     "text": [
      "5\n",
      "7\n",
      "4\n",
      "2\n",
      "5\n",
      "2\n"
     ]
    }
   ],
   "source": [
    "n = int(input())\n",
    "num_list = []\n",
    "for i in range(1,n+1):\n",
    "    k = int(input())\n",
    "    num_list.append(k)\n",
    "count = 0\n",
    "for num in num_list:\n",
    "    for i in range(2,num):\n",
    "        if num%i == 0:\n",
    "            count+=1\n",
    "    if count > 1:\n",
    "        print(num)\n",
    "    break"
   ]
  },
  {
   "cell_type": "code",
   "execution_count": 224,
   "id": "1a7f68e4",
   "metadata": {},
   "outputs": [
    {
     "name": "stdout",
     "output_type": "stream",
     "text": [
      "6\n",
      "A  \n",
      "A B  \n",
      "A B C  \n",
      "A B C D  \n",
      "A B C D E  \n",
      "A B C D E F  \n"
     ]
    }
   ],
   "source": [
    "a = \"ABCDEFGHIJKLMNOPQRSTUVWXYZ\"\n",
    "n = int(input())\n",
    "m = ''\n",
    "for i in range(n):\n",
    "    m += (a[i]+\" \")\n",
    "    print(m+\" \")"
   ]
  },
  {
   "cell_type": "code",
   "execution_count": 242,
   "id": "0989ddac",
   "metadata": {},
   "outputs": [
    {
     "name": "stdout",
     "output_type": "stream",
     "text": [
      "4\n",
      "1\n",
      "121\n",
      "12321\n",
      "1234321\n"
     ]
    }
   ],
   "source": [
    "n = int(input())\n",
    "m = ''\n",
    "p = ''\n",
    "for i in range(1, n+1):\n",
    "    m += str(i)\n",
    "    p += str(i)\n",
    "    print(m+p[::-1][1:])"
   ]
  },
  {
   "cell_type": "code",
   "execution_count": 241,
   "id": "67588614",
   "metadata": {},
   "outputs": [
    {
     "name": "stdout",
     "output_type": "stream",
     "text": [
      "rishna\n"
     ]
    }
   ],
   "source": [
    "p = \"krishna\"\n",
    "l = len(p)\n",
    "print(p[1:])"
   ]
  },
  {
   "cell_type": "code",
   "execution_count": null,
   "id": "2b0355d7",
   "metadata": {},
   "outputs": [],
   "source": [
    "n = input()\n"
   ]
  },
  {
   "cell_type": "code",
   "execution_count": null,
   "id": "317d94fe",
   "metadata": {},
   "outputs": [],
   "source": []
  }
 ],
 "metadata": {
  "kernelspec": {
   "display_name": "Python 3",
   "language": "python",
   "name": "python3"
  },
  "language_info": {
   "codemirror_mode": {
    "name": "ipython",
    "version": 3
   },
   "file_extension": ".py",
   "mimetype": "text/x-python",
   "name": "python",
   "nbconvert_exporter": "python",
   "pygments_lexer": "ipython3",
   "version": "3.8.8"
  }
 },
 "nbformat": 4,
 "nbformat_minor": 5
}
